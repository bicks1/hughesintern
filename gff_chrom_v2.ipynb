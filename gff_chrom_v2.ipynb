{
  "nbformat": 4,
  "nbformat_minor": 0,
  "metadata": {
    "colab": {
      "provenance": [],
      "include_colab_link": true
    },
    "kernelspec": {
      "name": "python3",
      "display_name": "Python 3"
    },
    "language_info": {
      "name": "python"
    }
  },
  "cells": [
    {
      "cell_type": "markdown",
      "metadata": {
        "id": "view-in-github",
        "colab_type": "text"
      },
      "source": [
        "<a href=\"https://colab.research.google.com/github/bicks1/hughesintern/blob/main/gff_chrom_v2.ipynb\" target=\"_parent\"><img src=\"https://colab.research.google.com/assets/colab-badge.svg\" alt=\"Open In Colab\"/></a>"
      ]
    },
    {
      "cell_type": "markdown",
      "source": [
        "\n",
        "**File Name**:\n",
        "\n",
        "```\n",
        "gff_chrom.v2.ipynb\n",
        "```\n",
        "\n",
        "**Description**:\n",
        "\n",
        "```\n",
        "This program is a part of a series of programs for information extraction and mining of gene annotations in GFF3 files\n",
        "\n",
        "Feature/Type (column 3) defintions: http://www.sequenceontology.org/browser/obob.cgi\n",
        "\n",
        "Biotype(attribute in column 9) definition: https://www.gencodegenes.org/pages/biotypes.html\n",
        "\n",
        "```\n",
        "\n",
        "**Authors**:\n",
        "\n",
        "```\n",
        "Sophia Bick, Chun Liang\n",
        "```\n"
      ],
      "metadata": {
        "id": "dmpdA_mmj4Rp"
      }
    },
    {
      "cell_type": "markdown",
      "source": [
        "###[Step 1]: Install Python modules, Map Google Drive that contains GFF3 files"
      ],
      "metadata": {
        "id": "L9CRdhbCmvZx"
      }
    },
    {
      "cell_type": "code",
      "execution_count": null,
      "metadata": {
        "colab": {
          "base_uri": "https://localhost:8080/"
        },
        "id": "C9XdxJ5HwsBR",
        "outputId": "df1e76b5-e77f-4ad7-c6df-8810074fbb72"
      },
      "outputs": [
        {
          "output_type": "stream",
          "name": "stdout",
          "text": [
            "Looking in indexes: https://pypi.org/simple, https://us-python.pkg.dev/colab-wheels/public/simple/\n",
            "Requirement already satisfied: pandas in /usr/local/lib/python3.10/dist-packages (1.5.3)\n",
            "Requirement already satisfied: python-dateutil>=2.8.1 in /usr/local/lib/python3.10/dist-packages (from pandas) (2.8.2)\n",
            "Requirement already satisfied: pytz>=2020.1 in /usr/local/lib/python3.10/dist-packages (from pandas) (2022.7.1)\n",
            "Requirement already satisfied: numpy>=1.21.0 in /usr/local/lib/python3.10/dist-packages (from pandas) (1.22.4)\n",
            "Requirement already satisfied: six>=1.5 in /usr/local/lib/python3.10/dist-packages (from python-dateutil>=2.8.1->pandas) (1.16.0)\n",
            "Looking in indexes: https://pypi.org/simple, https://us-python.pkg.dev/colab-wheels/public/simple/\n",
            "Collecting gffpandas\n",
            "  Downloading gffpandas-1.2.0.tar.gz (178 kB)\n",
            "\u001b[2K     \u001b[90m━━━━━━━━━━━━━━━━━━━━━━━━━━━━━━━━━━━━━━━\u001b[0m \u001b[32m178.8/178.8 kB\u001b[0m \u001b[31m3.2 MB/s\u001b[0m eta \u001b[36m0:00:00\u001b[0m\n",
            "\u001b[?25h  Preparing metadata (setup.py) ... \u001b[?25l\u001b[?25hdone\n",
            "Building wheels for collected packages: gffpandas\n",
            "  Building wheel for gffpandas (setup.py) ... \u001b[?25l\u001b[?25hdone\n",
            "  Created wheel for gffpandas: filename=gffpandas-1.2.0-py2.py3-none-any.whl size=6248 sha256=b510686f55a52bba46f0574f38f049fab9121bd6873fa603e669b439dadfe3c5\n",
            "  Stored in directory: /root/.cache/pip/wheels/57/87/f1/1d0c74fbc5151562ba7953dc110a7d8c63c6c3229d025bc8cd\n",
            "Successfully built gffpandas\n",
            "Installing collected packages: gffpandas\n",
            "Successfully installed gffpandas-1.2.0\n"
          ]
        }
      ],
      "source": [
        "!pip install pandas\n",
        "!pip install gffpandas"
      ]
    },
    {
      "cell_type": "code",
      "source": [
        "from google.colab import drive\n",
        "drive.mount('/content/drive', force_remount=True)\n",
        "\n",
        "!ls \"/content/drive/My Drive/Lab_share/Lab_member/SophiaBick/HughesIntern\""
      ],
      "metadata": {
        "colab": {
          "base_uri": "https://localhost:8080/"
        },
        "id": "le_8dNn3w2DD",
        "outputId": "32722e9c-2f4c-4b10-fb26-7d1ec1c48c6e"
      },
      "execution_count": null,
      "outputs": [
        {
          "output_type": "stream",
          "name": "stdout",
          "text": [
            "Mounted at /content/drive\n",
            " chrom_and_gene_Qs.ipynb\t    Homo_sapiens.GRCh38.109.chromosome.20.gff3\n",
            " chrom_and_gene_Qs_lc.ipynb\t    Homo_sapiens.GRCh38.dna.chromosome.20.fa\n",
            " gff_chromosome.csv\t\t    module_explore.ipynb\n",
            " gff_chromosome_exclude.csv\t    module_explore_lc.ipynb\n",
            " gff_chrom.v0.ipynb\t\t   'Project Qs.gdoc'\n",
            " gff_chrom.v1.ipynb\t\t    ResearchPlan.gdoc\n",
            " gff_chrom.v2.ipynb\t\t    researchplan_Qs.ipynb\n",
            " gff_gene.v0.ipynb\t\t    researchplan_Qs_lc.ipynb\n",
            "'GFF module notes.gdoc'\t\t    transcription_Qs.ipynb\n",
            " gff_transcript.v0.ipynb\t    transcription_Qs_lc.ipynb\n",
            " Homo_sapiens.GRCh38.109.chr.gff3\n"
          ]
        }
      ]
    },
    {
      "cell_type": "code",
      "source": [
        "chrom20gff = \"/content/drive/My Drive/Lab_share/Lab_member/SophiaBick/HughesIntern/Homo_sapiens.GRCh38.109.chromosome.20.gff3\"\n",
        "chrom20fa = \"/content/drive/My Drive/Lab_share/Lab_member/SophiaBick/HughesIntern/Homo_sapiens.GRCh38.109.chromosome.20.fa\""
      ],
      "metadata": {
        "id": "B4iJ-k6fw5Dw"
      },
      "execution_count": null,
      "outputs": []
    },
    {
      "cell_type": "code",
      "source": [
        "hg38gff = \"/content/drive/My Drive/Lab_share/Lab_member/SophiaBick/HughesIntern/Homo_sapiens.GRCh38.109.chr.gff3\""
      ],
      "metadata": {
        "id": "a2lXesnzw8-B"
      },
      "execution_count": null,
      "outputs": []
    },
    {
      "cell_type": "code",
      "source": [
        "import gffpandas.gffpandas as gffpd\n",
        "import pandas as pd"
      ],
      "metadata": {
        "id": "IqQ_cWoWxCss"
      },
      "execution_count": null,
      "outputs": []
    },
    {
      "cell_type": "markdown",
      "source": [
        "###[Step 2]: Get a quick overview of a given GFF3 file and extract different types and counts for the third column (types)"
      ],
      "metadata": {
        "id": "XacfcqrMneCH"
      }
    },
    {
      "cell_type": "code",
      "source": [
        "annotation = gffpd.read_gff3(hg38gff)\n",
        "# gffpd stats dict with feature type counts\n",
        "stats = annotation.stats_dic()\n",
        "#print(stats)\n",
        "feature_dict = stats[\"Counted_feature_types\"]\n",
        "print(feature_dict)"
      ],
      "metadata": {
        "colab": {
          "base_uri": "https://localhost:8080/"
        },
        "id": "bcobykxkWfw1",
        "outputId": "71bc48e7-c33c-47c7-9e65-cc0e1d1b37b0"
      },
      "execution_count": null,
      "outputs": [
        {
          "output_type": "stream",
          "name": "stderr",
          "text": [
            "/usr/local/lib/python3.10/dist-packages/gffpandas/gffpandas.py:32: DtypeWarning: Columns (0) have mixed types. Specify dtype option on import or set low_memory=False.\n",
            "  self.df = pd.read_table(self._gff_file, comment='#',\n"
          ]
        },
        {
          "output_type": "stream",
          "name": "stdout",
          "text": [
            "{'exon': 1648074, 'CDS': 886460, 'three_prime_UTR': 207390, 'biological_region': 180084, 'five_prime_UTR': 173461, 'mRNA': 110869, 'lnc_RNA': 91534, 'transcript': 26490, 'ncRNA_gene': 25925, 'gene': 21507, 'pseudogenic_transcript': 15226, 'pseudogene': 15224, 'ncRNA': 2211, 'snRNA': 1906, 'miRNA': 1877, 'unconfirmed_transcript': 1143, 'snoRNA': 942, 'V_gene_segment': 252, 'J_gene_segment': 97, 'scRNA': 50, 'rRNA': 49, 'D_gene_segment': 41, 'C_gene_segment': 29, 'chromosome': 25, 'tRNA': 22}\n"
          ]
        }
      ]
    },
    {
      "cell_type": "code",
      "source": [
        "# counts of each feature type\n",
        "# Mark out all types with \"gene\" embedded\n",
        "for key, val in feature_dict.items():\n",
        "  if \"gene\" in key:\n",
        "    print(\"=====> gene-related feature type: {0} | count: {1} <=====\".format(key, val))\n",
        "  else:\n",
        "    print(\"                                  {0} | count: {1}\".format(key,val))"
      ],
      "metadata": {
        "colab": {
          "base_uri": "https://localhost:8080/"
        },
        "id": "n-F9Weu4XGzD",
        "outputId": "b115d1aa-53fb-4343-b55c-d2b2a7667fd0"
      },
      "execution_count": null,
      "outputs": [
        {
          "output_type": "stream",
          "name": "stdout",
          "text": [
            "                                  exon | count: 1648074\n",
            "                                  CDS | count: 886460\n",
            "                                  three_prime_UTR | count: 207390\n",
            "                                  biological_region | count: 180084\n",
            "                                  five_prime_UTR | count: 173461\n",
            "                                  mRNA | count: 110869\n",
            "                                  lnc_RNA | count: 91534\n",
            "                                  transcript | count: 26490\n",
            "=====> gene-related feature type: ncRNA_gene | count: 25925 <=====\n",
            "=====> gene-related feature type: gene | count: 21507 <=====\n",
            "                                  pseudogenic_transcript | count: 15226\n",
            "=====> gene-related feature type: pseudogene | count: 15224 <=====\n",
            "                                  ncRNA | count: 2211\n",
            "                                  snRNA | count: 1906\n",
            "                                  miRNA | count: 1877\n",
            "                                  unconfirmed_transcript | count: 1143\n",
            "                                  snoRNA | count: 942\n",
            "=====> gene-related feature type: V_gene_segment | count: 252 <=====\n",
            "=====> gene-related feature type: J_gene_segment | count: 97 <=====\n",
            "                                  scRNA | count: 50\n",
            "                                  rRNA | count: 49\n",
            "=====> gene-related feature type: D_gene_segment | count: 41 <=====\n",
            "=====> gene-related feature type: C_gene_segment | count: 29 <=====\n",
            "                                  chromosome | count: 25\n",
            "                                  tRNA | count: 22\n"
          ]
        }
      ]
    },
    {
      "cell_type": "code",
      "source": [
        "feature_df=pd.DataFrame.from_dict(feature_dict, orient='index', columns=[\"Count\"])\n",
        "print(feature_df)"
      ],
      "metadata": {
        "colab": {
          "base_uri": "https://localhost:8080/"
        },
        "id": "uEIzjxgTMe2K",
        "outputId": "c871c4b1-5d0a-4800-84b0-834b8ee3fb07"
      },
      "execution_count": null,
      "outputs": [
        {
          "output_type": "stream",
          "name": "stdout",
          "text": [
            "                          Count\n",
            "exon                    1648074\n",
            "CDS                      886460\n",
            "three_prime_UTR          207390\n",
            "biological_region        180084\n",
            "five_prime_UTR           173461\n",
            "mRNA                     110869\n",
            "lnc_RNA                   91534\n",
            "transcript                26490\n",
            "ncRNA_gene                25925\n",
            "gene                      21507\n",
            "pseudogenic_transcript    15226\n",
            "pseudogene                15224\n",
            "ncRNA                      2211\n",
            "snRNA                      1906\n",
            "miRNA                      1877\n",
            "unconfirmed_transcript     1143\n",
            "snoRNA                      942\n",
            "V_gene_segment              252\n",
            "J_gene_segment               97\n",
            "scRNA                        50\n",
            "rRNA                         49\n",
            "D_gene_segment               41\n",
            "C_gene_segment               29\n",
            "chromosome                   25\n",
            "tRNA                         22\n"
          ]
        }
      ]
    },
    {
      "cell_type": "markdown",
      "source": [
        "###[Step 3]: Get Chromosome Information, particularly the column 9 attributes"
      ],
      "metadata": {
        "id": "lDRFhqaZNPpM"
      }
    },
    {
      "cell_type": "markdown",
      "source": [
        "####[Step 3.1]: Get survey of all the attributes in the column 9"
      ],
      "metadata": {
        "id": "XSqNkoL_VUI3"
      }
    },
    {
      "cell_type": "code",
      "source": [
        "chrom = annotation.filter_feature_of_type([\"chromosome\"])\n",
        "\n",
        "attr_to_columns = chrom.attributes_to_columns()\n",
        "print(attr_to_columns)"
      ],
      "metadata": {
        "colab": {
          "base_uri": "https://localhost:8080/"
        },
        "id": "tLM3cJWhTutF",
        "outputId": "525ae739-981b-46c1-a8cb-97e80e646d82"
      },
      "execution_count": null,
      "outputs": [
        {
          "output_type": "stream",
          "name": "stdout",
          "text": [
            "        seq_id  source        type    start        end score strand phase  \\\n",
            "0            1  GRCh38  chromosome        1  248956422     .      .     .   \n",
            "316318      10  GRCh38  chromosome        1  133797422     .      .     .   \n",
            "452913      11  GRCh38  chromosome        1  135086622     .      .     .   \n",
            "651742      12  GRCh38  chromosome        1  133275309     .      .     .   \n",
            "837294      13  GRCh38  chromosome        1  114364328     .      .     .   \n",
            "895171      14  GRCh38  chromosome        1  107043718     .      .     .   \n",
            "1016283     15  GRCh38  chromosome        1  101991189     .      .     .   \n",
            "1136632     16  GRCh38  chromosome        1   90338345     .      .     .   \n",
            "1286973     17  GRCh38  chromosome        1   83257441     .      .     .   \n",
            "1489331     18  GRCh38  chromosome        1   80373285     .      .     .   \n",
            "1547846     19  GRCh38  chromosome        1   58617616     .      .     .   \n",
            "1735032      2  GRCh38  chromosome        1  242193529     .      .     .   \n",
            "1994919     20  GRCh38  chromosome        1   64444167     .      .     .   \n",
            "2076373     21  GRCh38  chromosome        1   46709983     .      .     .   \n",
            "2116243     22  GRCh38  chromosome        1   50818468     .      .     .   \n",
            "2189364      3  GRCh38  chromosome        1  198295559     .      .     .   \n",
            "2408295      4  GRCh38  chromosome        1  190214555     .      .     .   \n",
            "2549555      5  GRCh38  chromosome        1  181538259     .      .     .   \n",
            "2702337      6  GRCh38  chromosome        1  170805979     .      .     .   \n",
            "2864257      7  GRCh38  chromosome        1  159345973     .      .     .   \n",
            "3027907      8  GRCh38  chromosome        1  145138636     .      .     .   \n",
            "3152954      9  GRCh38  chromosome        1  138394717     .      .     .   \n",
            "3284035     MT  GRCh38  chromosome        1      16569     .      .     .   \n",
            "3284161      X  GRCh38  chromosome        1  156040895     .      .     .   \n",
            "3402969      Y  GRCh38  chromosome  2781480   56887902     .      .     .   \n",
            "\n",
            "                                                attributes  \\\n",
            "0        ID=chromosome:1;Alias=CM000663.2,chr1,NC_00000...   \n",
            "316318   ID=chromosome:10;Alias=CM000672.2,chr10,NC_000...   \n",
            "452913   ID=chromosome:11;Alias=CM000673.2,chr11,NC_000...   \n",
            "651742   ID=chromosome:12;Alias=CM000674.2,chr12,NC_000...   \n",
            "837294   ID=chromosome:13;Alias=CM000675.2,chr13,NC_000...   \n",
            "895171   ID=chromosome:14;Alias=CM000676.2,chr14,NC_000...   \n",
            "1016283  ID=chromosome:15;Alias=CM000677.2,chr15,NC_000...   \n",
            "1136632  ID=chromosome:16;Alias=CM000678.2,chr16,NC_000...   \n",
            "1286973  ID=chromosome:17;Alias=CM000679.2,chr17,NC_000...   \n",
            "1489331  ID=chromosome:18;Alias=CM000680.2,chr18,NC_000...   \n",
            "1547846  ID=chromosome:19;Alias=CM000681.2,chr19,NC_000...   \n",
            "1735032  ID=chromosome:2;Alias=CM000664.2,chr2,NC_00000...   \n",
            "1994919  ID=chromosome:20;Alias=CM000682.2,chr20,NC_000...   \n",
            "2076373  ID=chromosome:21;Alias=CM000683.2,chr21,NC_000...   \n",
            "2116243  ID=chromosome:22;Alias=CM000684.2,chr22,NC_000...   \n",
            "2189364  ID=chromosome:3;Alias=CM000665.2,chr3,NC_00000...   \n",
            "2408295  ID=chromosome:4;Alias=CM000666.2,chr4,NC_00000...   \n",
            "2549555  ID=chromosome:5;Alias=CM000667.2,chr5,NC_00000...   \n",
            "2702337  ID=chromosome:6;Alias=CM000668.2,chr6,NC_00000...   \n",
            "2864257  ID=chromosome:7;Alias=CM000669.2,chr7,NC_00000...   \n",
            "3027907  ID=chromosome:8;Alias=CM000670.2,chr8,NC_00000...   \n",
            "3152954  ID=chromosome:9;Alias=CM000671.2,chr9,NC_00000...   \n",
            "3284035   ID=chromosome:MT;Alias=J01415.2,chrM,NC_012920.1   \n",
            "3284161  ID=chromosome:X;Alias=CM000685.2,chrX,NC_00002...   \n",
            "3402969  ID=chromosome:Y;Alias=CM000686.2,chrY,NC_00002...   \n",
            "\n",
            "                                 Alias             ID  \n",
            "0         CM000663.2,chr1,NC_000001.11   chromosome:1  \n",
            "316318   CM000672.2,chr10,NC_000010.11  chromosome:10  \n",
            "452913   CM000673.2,chr11,NC_000011.10  chromosome:11  \n",
            "651742   CM000674.2,chr12,NC_000012.12  chromosome:12  \n",
            "837294   CM000675.2,chr13,NC_000013.11  chromosome:13  \n",
            "895171    CM000676.2,chr14,NC_000014.9  chromosome:14  \n",
            "1016283  CM000677.2,chr15,NC_000015.10  chromosome:15  \n",
            "1136632  CM000678.2,chr16,NC_000016.10  chromosome:16  \n",
            "1286973  CM000679.2,chr17,NC_000017.11  chromosome:17  \n",
            "1489331  CM000680.2,chr18,NC_000018.10  chromosome:18  \n",
            "1547846  CM000681.2,chr19,NC_000019.10  chromosome:19  \n",
            "1735032   CM000664.2,chr2,NC_000002.12   chromosome:2  \n",
            "1994919  CM000682.2,chr20,NC_000020.11  chromosome:20  \n",
            "2076373   CM000683.2,chr21,NC_000021.9  chromosome:21  \n",
            "2116243  CM000684.2,chr22,NC_000022.11  chromosome:22  \n",
            "2189364   CM000665.2,chr3,NC_000003.12   chromosome:3  \n",
            "2408295   CM000666.2,chr4,NC_000004.12   chromosome:4  \n",
            "2549555   CM000667.2,chr5,NC_000005.10   chromosome:5  \n",
            "2702337   CM000668.2,chr6,NC_000006.12   chromosome:6  \n",
            "2864257   CM000669.2,chr7,NC_000007.14   chromosome:7  \n",
            "3027907   CM000670.2,chr8,NC_000008.11   chromosome:8  \n",
            "3152954   CM000671.2,chr9,NC_000009.12   chromosome:9  \n",
            "3284035      J01415.2,chrM,NC_012920.1  chromosome:MT  \n",
            "3284161   CM000685.2,chrX,NC_000023.11   chromosome:X  \n",
            "3402969   CM000686.2,chrY,NC_000024.10   chromosome:Y  \n"
          ]
        }
      ]
    },
    {
      "cell_type": "markdown",
      "source": [
        "####[Step 3.2]: Define two functions used for chromosome data extraction and analysis"
      ],
      "metadata": {
        "id": "pbuYaFXFWO8p"
      }
    },
    {
      "cell_type": "code",
      "source": [
        "def feature_len(start, end):\n",
        "    \"\"\"\n",
        "    :param start: feature's start\n",
        "    :param end: feature's end\n",
        "    :return length: feature's overall length\n",
        "    \"\"\"\n",
        "    length = abs(int(end) - int(start) + 1)\n",
        "    return length"
      ],
      "metadata": {
        "id": "FmmAFqacxFUY"
      },
      "execution_count": null,
      "outputs": []
    },
    {
      "cell_type": "code",
      "source": [
        "def chromosome_stats(gff_fn,exclude_list=[]):\n",
        "  print(\"Inside foo()\")\n",
        "  annotation = gffpd.read_gff3(gff_fn)\n",
        "  gff_chrom = annotation.filter_feature_of_type([\"chromosome\"])\n",
        "  gff_chrom_stats = gff_chrom.stats_dic()\n",
        "\n",
        "  ######################################################################################################################################################################\n",
        "  # Through [Step 3.1], we known that the feature \"Alias\" contains compounded information seperated by comma \",\"\n",
        "  # Accordingly, we can parse them into different columns\n",
        "  ######################################################################################################################################################################\n",
        "  gff_chrom_df = gff_chrom.attributes_to_columns()                                                              # split tags seperated by \";\" into own column\n",
        "  gff_chrom_df[[\"Alias\", \"abbreviation\", \"accession\"]] = gff_chrom_df[\"Alias\"].str.split(',', expand=True)      # split Alias entry seperated by \",\" into named columns\n",
        "\n",
        "  seq_len = gff_chrom_df.apply(lambda x: feature_len(x[\"start\"], x[\"end\"]), axis=1)  # return Series of chrom len\n",
        "  gff_chrom_df = gff_chrom_df.assign(length=seq_len)  # add chromosome len to df\n",
        "  # Rename all columns into small letters\n",
        "  gff_chrom_df.rename(columns={\"ID\":\"id\", \"Alias\":\"alias\"}, inplace=True)\n",
        "  # print(gff_chrom_df)\n",
        "\n",
        "  # number of chromosomes\n",
        "  chrom_num = gff_chrom_stats[\"Counted_feature_types\"][\"chromosome\"]\n",
        "\n",
        "  # Remove the dataframe rows whose \"seq_id\" columns are in the exclude_list\n",
        "  if len(exclude_list)>0:\n",
        "      print(\"The following chromosomes is/are not used for stats:\", exclude_list)\n",
        "      gff_chrom_df = gff_chrom_df[~gff_chrom_df[\"seq_id\"].isin(exclude_list)]\n",
        "      chrom_num = chrom_num - len(exclude_list)\n",
        "\n",
        "  print(\"The total number of chromosomes for stats is:\", chrom_num)\n",
        "\n",
        "  # set index col using seq_id; X, Y, MT index assignment is 23,24,25\n",
        "  gff_chrom_df.set_index(\"seq_id\", inplace=True) # change index col to seq_id\n",
        "  gff_chrom_df[\"seq_id\"] = gff_chrom_df.index  # copy index col back to new seq_id col\n",
        "  # gff_chrom_df.rename(index={\"X\":23, \"Y\":24, \"MT\":25}, inplace=True)  # change indices of X, Y, MT\n",
        "  gff_chrom_df.rename_axis(None, inplace=True)  # remove index col name\n",
        "\n",
        "  #print(gff_chrom_df)\n",
        "\n",
        "  short_label = gff_chrom_df.loc[gff_chrom_df[\"length\"] == min(gff_chrom_df[\"length\"]), \"seq_id\"].iloc[0]\n",
        "  short = gff_chrom_df.loc[gff_chrom_df[\"seq_id\"]==short_label, \"length\"].iloc[0]\n",
        "  long_label = gff_chrom_df.loc[gff_chrom_df[\"length\"] == max(gff_chrom_df[\"length\"]), \"seq_id\"].iloc[0]\n",
        "  long = gff_chrom_df.loc[gff_chrom_df[\"seq_id\"]==long_label, \"length\"].iloc[0]\n",
        "  chrom_sum = gff_chrom_df[\"length\"].sum()\n",
        "  average = chrom_sum / chrom_num\n",
        "\n",
        "  print(\"The shortest chromosome length is\", short, \"for chromosome:\", short_label)\n",
        "  print(\"The longest chromosome length is\", long, \"for chromosome:\", long_label)\n",
        "  print(\"The average chromosome length is\", average)\n",
        "\n",
        "  return (gff_chrom_stats, gff_chrom_df)"
      ],
      "metadata": {
        "id": "pluK1ZLg9BaG"
      },
      "execution_count": null,
      "outputs": []
    },
    {
      "cell_type": "markdown",
      "source": [
        "[Step 3.3]: Get the chromsome data by calling two aforementioned functions"
      ],
      "metadata": {
        "id": "dON6fSe7Ypk7"
      }
    },
    {
      "cell_type": "code",
      "source": [
        "# A function with an exclude list\n",
        "stats_d1, chrom_df1=chromosome_stats(hg38gff, [1, \"MT\"])"
      ],
      "metadata": {
        "colab": {
          "base_uri": "https://localhost:8080/"
        },
        "id": "Sz4EzYeX9P1_",
        "outputId": "80e467d3-4ae0-46fa-862b-1db7a0065634"
      },
      "execution_count": null,
      "outputs": [
        {
          "output_type": "stream",
          "name": "stdout",
          "text": [
            "Inside foo()\n"
          ]
        },
        {
          "output_type": "stream",
          "name": "stderr",
          "text": [
            "/usr/local/lib/python3.10/dist-packages/gffpandas/gffpandas.py:32: DtypeWarning: Columns (0) have mixed types. Specify dtype option on import or set low_memory=False.\n",
            "  self.df = pd.read_table(self._gff_file, comment='#',\n"
          ]
        },
        {
          "output_type": "stream",
          "name": "stdout",
          "text": [
            "The following chromosomes is/are not used for stats: [1, 'MT']\n",
            "The total number of chromosomes for stats is: 23\n",
            "The shortest chromosome length is 46709983 for chromosome: 21\n",
            "The longest chromosome length is 242193529 for chromosome: 2\n",
            "The average chromosome length is 123312713.82608695\n"
          ]
        }
      ]
    },
    {
      "cell_type": "code",
      "source": [
        "print(stats_d1)"
      ],
      "metadata": {
        "colab": {
          "base_uri": "https://localhost:8080/"
        },
        "id": "O1V7iBquH8mO",
        "outputId": "c2bb424a-1f63-40b1-b223-0f6c34e9244a"
      },
      "execution_count": null,
      "outputs": [
        {
          "output_type": "stream",
          "name": "stdout",
          "text": [
            "{'Maximal_bp_length': 248956421, 'Minimal_bp_length': 16568, 'Counted_strands': {'.': 25}, 'Counted_feature_types': {'chromosome': 25}}\n"
          ]
        }
      ]
    },
    {
      "cell_type": "code",
      "source": [
        "print(chrom_df1)"
      ],
      "metadata": {
        "colab": {
          "base_uri": "https://localhost:8080/"
        },
        "id": "7P1UbRdyHuOn",
        "outputId": "11e6bd62-f044-43dd-c22c-1436666cc8a7"
      },
      "execution_count": null,
      "outputs": [
        {
          "output_type": "stream",
          "name": "stdout",
          "text": [
            "    source        type    start        end score strand phase  \\\n",
            "10  GRCh38  chromosome        1  133797422     .      .     .   \n",
            "11  GRCh38  chromosome        1  135086622     .      .     .   \n",
            "12  GRCh38  chromosome        1  133275309     .      .     .   \n",
            "13  GRCh38  chromosome        1  114364328     .      .     .   \n",
            "14  GRCh38  chromosome        1  107043718     .      .     .   \n",
            "15  GRCh38  chromosome        1  101991189     .      .     .   \n",
            "16  GRCh38  chromosome        1   90338345     .      .     .   \n",
            "17  GRCh38  chromosome        1   83257441     .      .     .   \n",
            "18  GRCh38  chromosome        1   80373285     .      .     .   \n",
            "19  GRCh38  chromosome        1   58617616     .      .     .   \n",
            "2   GRCh38  chromosome        1  242193529     .      .     .   \n",
            "20  GRCh38  chromosome        1   64444167     .      .     .   \n",
            "21  GRCh38  chromosome        1   46709983     .      .     .   \n",
            "22  GRCh38  chromosome        1   50818468     .      .     .   \n",
            "3   GRCh38  chromosome        1  198295559     .      .     .   \n",
            "4   GRCh38  chromosome        1  190214555     .      .     .   \n",
            "5   GRCh38  chromosome        1  181538259     .      .     .   \n",
            "6   GRCh38  chromosome        1  170805979     .      .     .   \n",
            "7   GRCh38  chromosome        1  159345973     .      .     .   \n",
            "8   GRCh38  chromosome        1  145138636     .      .     .   \n",
            "9   GRCh38  chromosome        1  138394717     .      .     .   \n",
            "X   GRCh38  chromosome        1  156040895     .      .     .   \n",
            "Y   GRCh38  chromosome  2781480   56887902     .      .     .   \n",
            "\n",
            "                                           attributes       Alias  \\\n",
            "10  ID=chromosome:10;Alias=CM000672.2,chr10,NC_000...  CM000672.2   \n",
            "11  ID=chromosome:11;Alias=CM000673.2,chr11,NC_000...  CM000673.2   \n",
            "12  ID=chromosome:12;Alias=CM000674.2,chr12,NC_000...  CM000674.2   \n",
            "13  ID=chromosome:13;Alias=CM000675.2,chr13,NC_000...  CM000675.2   \n",
            "14  ID=chromosome:14;Alias=CM000676.2,chr14,NC_000...  CM000676.2   \n",
            "15  ID=chromosome:15;Alias=CM000677.2,chr15,NC_000...  CM000677.2   \n",
            "16  ID=chromosome:16;Alias=CM000678.2,chr16,NC_000...  CM000678.2   \n",
            "17  ID=chromosome:17;Alias=CM000679.2,chr17,NC_000...  CM000679.2   \n",
            "18  ID=chromosome:18;Alias=CM000680.2,chr18,NC_000...  CM000680.2   \n",
            "19  ID=chromosome:19;Alias=CM000681.2,chr19,NC_000...  CM000681.2   \n",
            "2   ID=chromosome:2;Alias=CM000664.2,chr2,NC_00000...  CM000664.2   \n",
            "20  ID=chromosome:20;Alias=CM000682.2,chr20,NC_000...  CM000682.2   \n",
            "21  ID=chromosome:21;Alias=CM000683.2,chr21,NC_000...  CM000683.2   \n",
            "22  ID=chromosome:22;Alias=CM000684.2,chr22,NC_000...  CM000684.2   \n",
            "3   ID=chromosome:3;Alias=CM000665.2,chr3,NC_00000...  CM000665.2   \n",
            "4   ID=chromosome:4;Alias=CM000666.2,chr4,NC_00000...  CM000666.2   \n",
            "5   ID=chromosome:5;Alias=CM000667.2,chr5,NC_00000...  CM000667.2   \n",
            "6   ID=chromosome:6;Alias=CM000668.2,chr6,NC_00000...  CM000668.2   \n",
            "7   ID=chromosome:7;Alias=CM000669.2,chr7,NC_00000...  CM000669.2   \n",
            "8   ID=chromosome:8;Alias=CM000670.2,chr8,NC_00000...  CM000670.2   \n",
            "9   ID=chromosome:9;Alias=CM000671.2,chr9,NC_00000...  CM000671.2   \n",
            "X   ID=chromosome:X;Alias=CM000685.2,chrX,NC_00002...  CM000685.2   \n",
            "Y   ID=chromosome:Y;Alias=CM000686.2,chrY,NC_00002...  CM000686.2   \n",
            "\n",
            "               ID abbreviation     accession     length seq_id  \n",
            "10  chromosome:10        chr10  NC_000010.11  133797422     10  \n",
            "11  chromosome:11        chr11  NC_000011.10  135086622     11  \n",
            "12  chromosome:12        chr12  NC_000012.12  133275309     12  \n",
            "13  chromosome:13        chr13  NC_000013.11  114364328     13  \n",
            "14  chromosome:14        chr14   NC_000014.9  107043718     14  \n",
            "15  chromosome:15        chr15  NC_000015.10  101991189     15  \n",
            "16  chromosome:16        chr16  NC_000016.10   90338345     16  \n",
            "17  chromosome:17        chr17  NC_000017.11   83257441     17  \n",
            "18  chromosome:18        chr18  NC_000018.10   80373285     18  \n",
            "19  chromosome:19        chr19  NC_000019.10   58617616     19  \n",
            "2    chromosome:2         chr2  NC_000002.12  242193529      2  \n",
            "20  chromosome:20        chr20  NC_000020.11   64444167     20  \n",
            "21  chromosome:21        chr21   NC_000021.9   46709983     21  \n",
            "22  chromosome:22        chr22  NC_000022.11   50818468     22  \n",
            "3    chromosome:3         chr3  NC_000003.12  198295559      3  \n",
            "4    chromosome:4         chr4  NC_000004.12  190214555      4  \n",
            "5    chromosome:5         chr5  NC_000005.10  181538259      5  \n",
            "6    chromosome:6         chr6  NC_000006.12  170805979      6  \n",
            "7    chromosome:7         chr7  NC_000007.14  159345973      7  \n",
            "8    chromosome:8         chr8  NC_000008.11  145138636      8  \n",
            "9    chromosome:9         chr9  NC_000009.12  138394717      9  \n",
            "X    chromosome:X         chrX  NC_000023.11  156040895      X  \n",
            "Y    chromosome:Y         chrY  NC_000024.10   54106423      Y  \n"
          ]
        }
      ]
    },
    {
      "cell_type": "code",
      "source": [
        "# A function call without an exclude list\n",
        "stats_d2, chrom_df2 = chromosome_stats(hg38gff)"
      ],
      "metadata": {
        "colab": {
          "base_uri": "https://localhost:8080/"
        },
        "id": "SMdgtR3YxQjp",
        "outputId": "0d421dea-b5e8-42d5-8f4b-e53766d8bd53"
      },
      "execution_count": null,
      "outputs": [
        {
          "output_type": "stream",
          "name": "stdout",
          "text": [
            "Inside foo()\n"
          ]
        },
        {
          "output_type": "stream",
          "name": "stderr",
          "text": [
            "/usr/local/lib/python3.10/dist-packages/gffpandas/gffpandas.py:32: DtypeWarning: Columns (0) have mixed types. Specify dtype option on import or set low_memory=False.\n",
            "  self.df = pd.read_table(self._gff_file, comment='#',\n"
          ]
        },
        {
          "output_type": "stream",
          "name": "stdout",
          "text": [
            "The total number of chromosomes for stats is: 25\n",
            "The shortest chromosome length is 16569 for chromosome: MT\n",
            "The longest chromosome length is 248956422 for chromosome: 1\n",
            "The average chromosome length is 123406616.36\n"
          ]
        }
      ]
    },
    {
      "cell_type": "code",
      "source": [
        "###### NOTE: this is for all chromosomes in GFF3\n",
        "# built in method from gffpandas; should it still be returned?\n",
        "\n",
        "# stats for the chromosome only df\n",
        "print(stats_d2)"
      ],
      "metadata": {
        "colab": {
          "base_uri": "https://localhost:8080/"
        },
        "id": "GAFQnbDyykKr",
        "outputId": "9703a61f-2989-4010-81a7-514e8b0e3968"
      },
      "execution_count": null,
      "outputs": [
        {
          "output_type": "stream",
          "name": "stdout",
          "text": [
            "{'Maximal_bp_length': 248956421, 'Minimal_bp_length': 16568, 'Counted_strands': {'.': 25}, 'Counted_feature_types': {'chromosome': 25}}\n"
          ]
        }
      ]
    },
    {
      "cell_type": "code",
      "source": [
        "# printout of chromosome only df\n",
        "print(chrom_df2)"
      ],
      "metadata": {
        "colab": {
          "base_uri": "https://localhost:8080/"
        },
        "id": "yQlffPTEylTT",
        "outputId": "6bb165fa-0bd5-48a2-c069-748145012e8e"
      },
      "execution_count": null,
      "outputs": [
        {
          "output_type": "stream",
          "name": "stdout",
          "text": [
            "    source        type    start        end score strand phase  \\\n",
            "1   GRCh38  chromosome        1  248956422     .      .     .   \n",
            "10  GRCh38  chromosome        1  133797422     .      .     .   \n",
            "11  GRCh38  chromosome        1  135086622     .      .     .   \n",
            "12  GRCh38  chromosome        1  133275309     .      .     .   \n",
            "13  GRCh38  chromosome        1  114364328     .      .     .   \n",
            "14  GRCh38  chromosome        1  107043718     .      .     .   \n",
            "15  GRCh38  chromosome        1  101991189     .      .     .   \n",
            "16  GRCh38  chromosome        1   90338345     .      .     .   \n",
            "17  GRCh38  chromosome        1   83257441     .      .     .   \n",
            "18  GRCh38  chromosome        1   80373285     .      .     .   \n",
            "19  GRCh38  chromosome        1   58617616     .      .     .   \n",
            "2   GRCh38  chromosome        1  242193529     .      .     .   \n",
            "20  GRCh38  chromosome        1   64444167     .      .     .   \n",
            "21  GRCh38  chromosome        1   46709983     .      .     .   \n",
            "22  GRCh38  chromosome        1   50818468     .      .     .   \n",
            "3   GRCh38  chromosome        1  198295559     .      .     .   \n",
            "4   GRCh38  chromosome        1  190214555     .      .     .   \n",
            "5   GRCh38  chromosome        1  181538259     .      .     .   \n",
            "6   GRCh38  chromosome        1  170805979     .      .     .   \n",
            "7   GRCh38  chromosome        1  159345973     .      .     .   \n",
            "8   GRCh38  chromosome        1  145138636     .      .     .   \n",
            "9   GRCh38  chromosome        1  138394717     .      .     .   \n",
            "MT  GRCh38  chromosome        1      16569     .      .     .   \n",
            "X   GRCh38  chromosome        1  156040895     .      .     .   \n",
            "Y   GRCh38  chromosome  2781480   56887902     .      .     .   \n",
            "\n",
            "                                           attributes       Alias  \\\n",
            "1   ID=chromosome:1;Alias=CM000663.2,chr1,NC_00000...  CM000663.2   \n",
            "10  ID=chromosome:10;Alias=CM000672.2,chr10,NC_000...  CM000672.2   \n",
            "11  ID=chromosome:11;Alias=CM000673.2,chr11,NC_000...  CM000673.2   \n",
            "12  ID=chromosome:12;Alias=CM000674.2,chr12,NC_000...  CM000674.2   \n",
            "13  ID=chromosome:13;Alias=CM000675.2,chr13,NC_000...  CM000675.2   \n",
            "14  ID=chromosome:14;Alias=CM000676.2,chr14,NC_000...  CM000676.2   \n",
            "15  ID=chromosome:15;Alias=CM000677.2,chr15,NC_000...  CM000677.2   \n",
            "16  ID=chromosome:16;Alias=CM000678.2,chr16,NC_000...  CM000678.2   \n",
            "17  ID=chromosome:17;Alias=CM000679.2,chr17,NC_000...  CM000679.2   \n",
            "18  ID=chromosome:18;Alias=CM000680.2,chr18,NC_000...  CM000680.2   \n",
            "19  ID=chromosome:19;Alias=CM000681.2,chr19,NC_000...  CM000681.2   \n",
            "2   ID=chromosome:2;Alias=CM000664.2,chr2,NC_00000...  CM000664.2   \n",
            "20  ID=chromosome:20;Alias=CM000682.2,chr20,NC_000...  CM000682.2   \n",
            "21  ID=chromosome:21;Alias=CM000683.2,chr21,NC_000...  CM000683.2   \n",
            "22  ID=chromosome:22;Alias=CM000684.2,chr22,NC_000...  CM000684.2   \n",
            "3   ID=chromosome:3;Alias=CM000665.2,chr3,NC_00000...  CM000665.2   \n",
            "4   ID=chromosome:4;Alias=CM000666.2,chr4,NC_00000...  CM000666.2   \n",
            "5   ID=chromosome:5;Alias=CM000667.2,chr5,NC_00000...  CM000667.2   \n",
            "6   ID=chromosome:6;Alias=CM000668.2,chr6,NC_00000...  CM000668.2   \n",
            "7   ID=chromosome:7;Alias=CM000669.2,chr7,NC_00000...  CM000669.2   \n",
            "8   ID=chromosome:8;Alias=CM000670.2,chr8,NC_00000...  CM000670.2   \n",
            "9   ID=chromosome:9;Alias=CM000671.2,chr9,NC_00000...  CM000671.2   \n",
            "MT   ID=chromosome:MT;Alias=J01415.2,chrM,NC_012920.1    J01415.2   \n",
            "X   ID=chromosome:X;Alias=CM000685.2,chrX,NC_00002...  CM000685.2   \n",
            "Y   ID=chromosome:Y;Alias=CM000686.2,chrY,NC_00002...  CM000686.2   \n",
            "\n",
            "               ID abbreviation     accession     length seq_id  \n",
            "1    chromosome:1         chr1  NC_000001.11  248956422      1  \n",
            "10  chromosome:10        chr10  NC_000010.11  133797422     10  \n",
            "11  chromosome:11        chr11  NC_000011.10  135086622     11  \n",
            "12  chromosome:12        chr12  NC_000012.12  133275309     12  \n",
            "13  chromosome:13        chr13  NC_000013.11  114364328     13  \n",
            "14  chromosome:14        chr14   NC_000014.9  107043718     14  \n",
            "15  chromosome:15        chr15  NC_000015.10  101991189     15  \n",
            "16  chromosome:16        chr16  NC_000016.10   90338345     16  \n",
            "17  chromosome:17        chr17  NC_000017.11   83257441     17  \n",
            "18  chromosome:18        chr18  NC_000018.10   80373285     18  \n",
            "19  chromosome:19        chr19  NC_000019.10   58617616     19  \n",
            "2    chromosome:2         chr2  NC_000002.12  242193529      2  \n",
            "20  chromosome:20        chr20  NC_000020.11   64444167     20  \n",
            "21  chromosome:21        chr21   NC_000021.9   46709983     21  \n",
            "22  chromosome:22        chr22  NC_000022.11   50818468     22  \n",
            "3    chromosome:3         chr3  NC_000003.12  198295559      3  \n",
            "4    chromosome:4         chr4  NC_000004.12  190214555      4  \n",
            "5    chromosome:5         chr5  NC_000005.10  181538259      5  \n",
            "6    chromosome:6         chr6  NC_000006.12  170805979      6  \n",
            "7    chromosome:7         chr7  NC_000007.14  159345973      7  \n",
            "8    chromosome:8         chr8  NC_000008.11  145138636      8  \n",
            "9    chromosome:9         chr9  NC_000009.12  138394717      9  \n",
            "MT  chromosome:MT         chrM   NC_012920.1      16569     MT  \n",
            "X    chromosome:X         chrX  NC_000023.11  156040895      X  \n",
            "Y    chromosome:Y         chrY  NC_000024.10   54106423      Y  \n"
          ]
        }
      ]
    },
    {
      "cell_type": "markdown",
      "source": [
        "[Step 3.4]: Save data in CSV or excel"
      ],
      "metadata": {
        "id": "j5GK5sIhYYRD"
      }
    },
    {
      "cell_type": "code",
      "source": [
        "chrom_df1.to_csv(\"gff_chromosome_exclude.csv\")\n",
        "chrom_df2.to_csv(\"gff_chromosome.csv\")"
      ],
      "metadata": {
        "id": "E-f_hjB_ZAHc"
      },
      "execution_count": null,
      "outputs": []
    },
    {
      "cell_type": "code",
      "source": [
        "!ls -al"
      ],
      "metadata": {
        "colab": {
          "base_uri": "https://localhost:8080/"
        },
        "id": "YXxPcC_cZV3e",
        "outputId": "66080a38-9a05-43ee-ec86-7ce76237bda3"
      },
      "execution_count": null,
      "outputs": [
        {
          "output_type": "stream",
          "name": "stdout",
          "text": [
            "total 28\n",
            "drwxr-xr-x 1 root root 4096 Jun  2 17:24 .\n",
            "drwxr-xr-x 1 root root 4096 Jun  2 14:55 ..\n",
            "drwxr-xr-x 4 root root 4096 May 31 13:45 .config\n",
            "drwx------ 6 root root 4096 Jun  2 15:03 drive\n",
            "-rw-r--r-- 1 root root 3778 Jun  2 17:24 gff_chromosome.csv\n",
            "-rw-r--r-- 1 root root 3498 Jun  2 17:24 gff_chromosome_exclude.csv\n",
            "drwxr-xr-x 1 root root 4096 May 31 13:46 sample_data\n"
          ]
        }
      ]
    },
    {
      "cell_type": "code",
      "source": [
        "chrom_df1.to_csv(\"/content/drive/My Drive/Lab_share/Lab_member/SophiaBick/HughesIntern/gff_chromosome_exclude.csv\")\n",
        "chrom_df2.to_csv(\"/content/drive/My Drive/Lab_share/Lab_member/SophiaBick/HughesIntern/gff_chromosome.csv\")\n"
      ],
      "metadata": {
        "id": "_8mnX8B_aQmF"
      },
      "execution_count": null,
      "outputs": []
    }
  ]
}