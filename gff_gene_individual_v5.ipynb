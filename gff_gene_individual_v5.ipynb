{
  "nbformat": 4,
  "nbformat_minor": 0,
  "metadata": {
    "colab": {
      "provenance": [],
      "collapsed_sections": [
        "wdDMuwkRSq_z",
        "NDZjJ4hiIk48",
        "1LFPBU5ysI3A",
        "jzU7cLsFcXf4"
      ],
      "include_colab_link": true
    },
    "kernelspec": {
      "name": "python3",
      "display_name": "Python 3"
    },
    "language_info": {
      "name": "python"
    }
  },
  "cells": [
    {
      "cell_type": "markdown",
      "metadata": {
        "id": "view-in-github",
        "colab_type": "text"
      },
      "source": [
        "<a href=\"https://colab.research.google.com/github/bicks1/hughesintern/blob/main/gff_gene_individual_v5.ipynb\" target=\"_parent\"><img src=\"https://colab.research.google.com/assets/colab-badge.svg\" alt=\"Open In Colab\"/></a>"
      ]
    },
    {
      "cell_type": "markdown",
      "source": [
        "\n",
        "**File Name**:\n",
        "\n",
        "```\n",
        "gff_individual_gene.v4.ipynb\n",
        "```\n",
        "\n",
        "**Description**:\n",
        "\n",
        "```\n",
        "This program is a part of a series of programs for information extraction and mining of gene annotations in GFF3 files.\n",
        "\n",
        "Using this script, transcript information is extracted for individual genes.\n",
        "\n",
        "Feature/Type (column 3) defintions: http://www.sequenceontology.org/browser/obob.cgi\n",
        "\n",
        "Biotype(attribute in column 9) definition: https://www.gencodegenes.org/pages/biotypes.html\n",
        "\n",
        "```\n",
        "\n",
        "**Authors**:\n",
        "\n",
        "```\n",
        "Sophia Bick, Chun Liang\n",
        "```\n"
      ],
      "metadata": {
        "id": "1gFGqACBR57H"
      }
    },
    {
      "cell_type": "markdown",
      "source": [
        "###[Step 1]: Install Python modules, Map Google Drive that contains GFF3 files"
      ],
      "metadata": {
        "id": "4kj7TVSGR1_e"
      }
    },
    {
      "cell_type": "code",
      "execution_count": null,
      "metadata": {
        "id": "FSm55tKPvcou"
      },
      "outputs": [],
      "source": [
        "!pip install gffutils"
      ]
    },
    {
      "cell_type": "code",
      "source": [
        "from google.colab import drive\n",
        "drive.mount('/content/drive')"
      ],
      "metadata": {
        "colab": {
          "base_uri": "https://localhost:8080/"
        },
        "id": "IytUqpP0vgGN",
        "outputId": "ba996f6d-c78e-4e95-8f30-3b241f29c565"
      },
      "execution_count": null,
      "outputs": [
        {
          "output_type": "stream",
          "name": "stdout",
          "text": [
            "Mounted at /content/drive\n"
          ]
        }
      ]
    },
    {
      "cell_type": "code",
      "source": [
        "hg38gff = \"/content/drive/My Drive/Lab_share/Lab_member/SophiaBick/HughesIntern/Homo_sapiens.GRCh38.109.chr.gff3\""
      ],
      "metadata": {
        "id": "-cQVu5ZBvmxh"
      },
      "execution_count": null,
      "outputs": []
    },
    {
      "cell_type": "code",
      "source": [
        "import gffutils"
      ],
      "metadata": {
        "id": "xFCPb53LvnTH"
      },
      "execution_count": null,
      "outputs": []
    },
    {
      "cell_type": "code",
      "source": [
        "import pandas as pd"
      ],
      "metadata": {
        "id": "s1MXYJMaG6K5"
      },
      "execution_count": null,
      "outputs": []
    },
    {
      "cell_type": "code",
      "source": [
        "database = \"/content/drive/My Drive/Lab_share/Lab_member/SophiaBick/HughesIntern/test.db\""
      ],
      "metadata": {
        "id": "YPR-ebEAKxhW"
      },
      "execution_count": null,
      "outputs": []
    },
    {
      "cell_type": "code",
      "source": [
        "# The following command connects to the database (test.db) previously created\n",
        "# FeatureDB methods allow interaction with the database\n",
        "db = gffutils.FeatureDB(database, keep_order=False)"
      ],
      "metadata": {
        "id": "F_5pIr6nL-dA"
      },
      "execution_count": null,
      "outputs": []
    },
    {
      "cell_type": "markdown",
      "source": [
        "###[Step 2]: Get an overview of transcript information for each type of genes (gene, ncRNA_gene, pseudogene) in the whole GFF3 file"
      ],
      "metadata": {
        "id": "wdDMuwkRSq_z"
      }
    },
    {
      "cell_type": "code",
      "source": [
        "# It takes a long time (about 8 mins) to build the database that contains parent (genes) and child (transcripts) relationships\n",
        "# The following command imports the file into a local sqlite3 file-based database (\"test.db\")\n",
        "\n",
        "#db = gffutils.create_db(hg38gff, dbfn='test.db', force=True, keep_order=False, merge_strategy='create_unique', sort_attribute_values=False)\n",
        "\n",
        "#don't run this anymore"
      ],
      "metadata": {
        "id": "4ELGWY8LvpfN"
      },
      "execution_count": null,
      "outputs": []
    },
    {
      "cell_type": "code",
      "source": [
        "# The number of transcripts (mRNA, transcript, lnc_RNA, etc) for the feature type \"gene\"\n",
        "# Question:  db.features_of_type(\"gene\") will automatically includes three types of genes: gene, ncRNA-gene, and pseudo-gene?\n",
        "    ## Answer: No, you would have to specify all desired feature types in a tuple. For all three it'd be (\"gene\", \"ncRNA_gene\", \"pseudogene\")\n",
        "num_for_gene = 0\n",
        "for gene in db.features_of_type((\"gene\")):\n",
        "  for c in db.children(gene, featuretype=('mRNA', 'lnc_RNA', 'transcript', 'pseudogenic_transcript', 'ncRNA', 'snRNA', 'miRNA', 'unconfirmed_transcript', 'snoRNA', 'V_gene_segment', 'J_gene_segment', 'scRNA', 'rRNA', 'D_gene_segment', 'C_gene_segment', 'tRNA')):\n",
        "    num_for_gene += 1\n",
        "print(num_for_gene)"
      ],
      "metadata": {
        "colab": {
          "base_uri": "https://localhost:8080/"
        },
        "id": "smV4PHqhyKXK",
        "outputId": "4ae87f38-8560-4e91-91d7-7c283683b685"
      },
      "execution_count": null,
      "outputs": [
        {
          "output_type": "stream",
          "name": "stdout",
          "text": [
            "172078\n"
          ]
        }
      ]
    },
    {
      "cell_type": "code",
      "source": [
        "# The number of transcripts (mRNA, transcript, lnc_RNA, etc) for the feature type \"ncRNA_gene\"\n",
        "num_for_ncRNA_gene = 0\n",
        "for ncRNA_gene in db.features_of_type(\"ncRNA_gene\"):\n",
        "  for c in db.children(ncRNA_gene, featuretype=('mRNA', 'lnc_RNA', 'transcript', 'pseudogenic_transcript', 'ncRNA', 'snRNA', 'miRNA', 'unconfirmed_transcript', 'snoRNA', 'V_gene_segment', 'J_gene_segment', 'scRNA', 'rRNA', 'D_gene_segment', 'C_gene_segment', 'tRNA')):\n",
        "    num_for_ncRNA_gene += 1\n",
        "print(num_for_ncRNA_gene)"
      ],
      "metadata": {
        "colab": {
          "base_uri": "https://localhost:8080/"
        },
        "id": "G14O9yJ3Bzbu",
        "outputId": "c74e3e78-edb3-449c-8009-6263d51fc9d9"
      },
      "execution_count": null,
      "outputs": [
        {
          "output_type": "stream",
          "name": "stdout",
          "text": [
            "63976\n"
          ]
        }
      ]
    },
    {
      "cell_type": "code",
      "source": [
        "# The number of transcripts (mRNA, transcript, lnc_RNA, etc) for all featuretype \"pseudogene\"\n",
        "num_for_pseudogene = 0\n",
        "for pseudogene in db.features_of_type(\"pseudogene\"):\n",
        "  for c in db.children(pseudogene, featuretype=('mRNA', 'lnc_RNA', 'transcript', 'pseudogenic_transcript', 'ncRNA', 'snRNA', 'miRNA', 'unconfirmed_transcript', 'snoRNA', 'V_gene_segment', 'J_gene_segment', 'scRNA', 'rRNA', 'D_gene_segment', 'C_gene_segment', 'tRNA')):\n",
        "    num_for_pseudogene += 1\n",
        "print(num_for_pseudogene)"
      ],
      "metadata": {
        "colab": {
          "base_uri": "https://localhost:8080/"
        },
        "id": "JTM0nt9VB1V4",
        "outputId": "114386d5-f6fc-4634-aaf7-58b9a893c3ce"
      },
      "execution_count": null,
      "outputs": [
        {
          "output_type": "stream",
          "name": "stdout",
          "text": [
            "16684\n"
          ]
        }
      ]
    },
    {
      "cell_type": "code",
      "source": [
        "# The number of transcripts (mRNA, transcript, lnc_RNA, etc) for all gene featuretypes (\"gene\", \"ncRNA_gene\", \"pseudogene\")\n",
        "num_for_all = 0\n",
        "for feature in db.features_of_type((\"gene\", \"ncRNA_gene\", \"pseudogene\")):\n",
        "  for c in db.children(feature, featuretype=('mRNA', 'lnc_RNA', 'transcript', 'pseudogenic_transcript', 'ncRNA', 'snRNA', 'miRNA', 'unconfirmed_transcript', 'snoRNA', 'V_gene_segment', 'J_gene_segment', 'scRNA', 'rRNA', 'D_gene_segment', 'C_gene_segment', 'tRNA')):\n",
        "    num_for_all += 1\n",
        "print(num_for_all)"
      ],
      "metadata": {
        "colab": {
          "base_uri": "https://localhost:8080/"
        },
        "id": "Hz1KSOGTB4mH",
        "outputId": "9f76006e-a799-45cc-f371-855da23e2e67"
      },
      "execution_count": null,
      "outputs": [
        {
          "output_type": "stream",
          "name": "stdout",
          "text": [
            "252738\n"
          ]
        }
      ]
    },
    {
      "cell_type": "markdown",
      "source": [
        "###trans_stats function\n",
        "Transcript info all genes in the file in dictionaries"
      ],
      "metadata": {
        "id": "itcVnP0Hsbik"
      }
    },
    {
      "cell_type": "markdown",
      "source": [
        "For **all genes in the file** information returned includes:\n",
        "\n",
        "The number of transcripts and the transcript that is the\n",
        "* longest\n",
        "* shortest\n",
        "* lowest number of exons\n",
        "* highest number of exons"
      ],
      "metadata": {
        "id": "DTZ5sIXeXR_K"
      }
    },
    {
      "cell_type": "code",
      "source": [
        "def trans_stats(db, gene_cat):\n",
        "  # :param db: FeatureDB object from gffutils that allows connection to the built sqlite3 file-based database\n",
        "  # :param gene_cat: one of the gene types [gene, ncRNA_gene, pseudogene]\n",
        "\n",
        "  # gene_trans_d: key is featuretype gene ID; value is # of transcripts, longest and name, shortest and name\n",
        "  # gene_exon_d: key is featuretype gene ID; value is transcr w/ least # exons and name, most # exons and name\n",
        "  # gene_genic_d: key is featuretype gene ID; value is information about 5'-UTR, CDS and 3'-UTR\n",
        "\n",
        "  gene_trans_d = {}\n",
        "  gene_exon_d = {}\n",
        "  gene_intron_d ={}\n",
        "  gene_genic_d = {}\n",
        "\n",
        "  for gene in db.features_of_type(gene_cat):  # for ea featuretype gene\n",
        "    # transcript initialize\n",
        "    counter = 0\n",
        "    trans_min = 9999999999\n",
        "    trans_max = 0\n",
        "    trans_min_label = ''\n",
        "    trans_max_label = ''\n",
        "\n",
        "    # exon initialize\n",
        "    exon_min = 9999999999\n",
        "    exon_max = 0\n",
        "    exon_min_label = ''\n",
        "    exon_max_label = ''\n",
        "\n",
        "    key = gene[\"gene_id\"][0]  # key is gene's gene_id (internally 1 item list)\n",
        "    #print(key)\n",
        "\n",
        "    # each transcript/child of gene\n",
        "    for c in db.children(gene, featuretype=('mRNA', 'lnc_RNA', 'transcript', 'pseudogenic_transcript', 'ncRNA', 'snRNA', 'miRNA', 'unconfirmed_transcript', 'snoRNA', 'V_gene_segment', 'J_gene_segment', 'scRNA', 'rRNA', 'D_gene_segment', 'C_gene_segment', 'tRNA')):\n",
        "      exon_count = 0  # flush exon count for ea new transcript\n",
        "      counter += 1 # count num of transcripts in gene\n",
        "      length = c.end - c.start + 1  # length of transcript (nt)\n",
        "      for exon in db.children(c, featuretype=\"exon\"):\n",
        "          exon_count += 1  # number of exons in ea transcript\n",
        "          #print(exon)\n",
        "\n",
        "\n",
        "      if length < trans_min:  # determine min and max length and transcript ID\n",
        "        trans_min = length\n",
        "        trans_min_label = c[\"transcript_id\"][0]  # changed from \"ID\"\n",
        "      if length > trans_max:\n",
        "        trans_max = length\n",
        "        trans_max_label = c[\"transcript_id\"][0]\n",
        "\n",
        "      if exon_count < exon_min:  # determine min and max exon count and transcript ID\n",
        "        exon_min = exon_count\n",
        "        exon_min_label = c[\"transcript_id\"][0]\n",
        "      elif exon_count == exon_min:\n",
        "        exon_min_label = \"{0}-{1}\".format(exon_min_label, c[\"transcript_id\"][0])\n",
        "\n",
        "      if exon_count > exon_max:\n",
        "        exon_max = exon_count\n",
        "        exon_max_label = c[\"transcript_id\"][0]\n",
        "      elif exon_count == exon_max:\n",
        "        exon_max_label = \"{0}-{1}\".format(exon_max_label, c[\"transcript_id\"][0])\n",
        "\n",
        "    gene_trans_d[key] = \"{0}-{1}-{2}-{3}-{4}\".format(counter, trans_min_label, trans_min, trans_max_label, trans_max)\n",
        "    gene_exon_d[key] = \"{0}-{1}-{2}-{3}\".format(exon_min_label, exon_min, exon_max_label, exon_max)\n",
        "\n",
        "  return gene_trans_d, gene_exon_d"
      ],
      "metadata": {
        "id": "Vdt3xApF5DXl"
      },
      "execution_count": null,
      "outputs": []
    },
    {
      "cell_type": "code",
      "source": [
        "g_trans_d, g_exon_d = trans_stats(db, \"gene\")"
      ],
      "metadata": {
        "id": "jf_r0Dle5ngF"
      },
      "execution_count": null,
      "outputs": []
    },
    {
      "cell_type": "code",
      "source": [
        "p_trans_d, p_exon_d = trans_stats(db, \"pseudogene\")"
      ],
      "metadata": {
        "id": "-XQSso0U5sGn"
      },
      "execution_count": null,
      "outputs": []
    },
    {
      "cell_type": "code",
      "source": [
        "nc_trans_d, nc_exon_d = trans_stats(db, \"ncRNA_gene\")"
      ],
      "metadata": {
        "id": "buHvbSoq52bR"
      },
      "execution_count": null,
      "outputs": []
    },
    {
      "cell_type": "markdown",
      "source": [
        "####Writing files to view each transcription and exon dictionary for the three categories of genes tested here\n",
        "\n",
        "(printout in console too much data)"
      ],
      "metadata": {
        "id": "NDZjJ4hiIk48"
      }
    },
    {
      "cell_type": "code",
      "source": [
        "fh = open(\"gene_dict.txt\", \"w\")\n",
        "fh.write('Transcription statistics dictionary\\n')\n",
        "fh.write('\\n')\n",
        "fh.write(str(g_trans_d))\n",
        "fh.write('\\n')\n",
        "fh.write(\"Length of transcription dictionary {0} and exon dictionary {1} == count of desired features in file {2}\".format(str(len(g_trans_d)), str(len(g_exon_d)), str(db.count_features_of_type(\"gene\"))))\n",
        "fh.write('\\n')\n",
        "fh.write(str(g_exon_d))\n",
        "fh.close()"
      ],
      "metadata": {
        "id": "nZJuurEfATsS"
      },
      "execution_count": null,
      "outputs": []
    },
    {
      "cell_type": "code",
      "source": [
        "fh = open(\"pseudogene_dict.txt\", \"w\")\n",
        "fh.write('Transcription statistics dictionary\\n')\n",
        "fh.write('\\n')\n",
        "fh.write(str(p_trans_d))\n",
        "fh.write('\\n')\n",
        "fh.write(\"Length of transcription dictionary {} and exon dictionary {} == count of desired features in file {}\".format(str(len(p_trans_d)), str(len(p_exon_d)), str(db.count_features_of_type(\"pseudogene\"))))\n",
        "fh.write('\\n')\n",
        "fh.write(str(p_exon_d))\n",
        "fh.close()\n"
      ],
      "metadata": {
        "id": "BZ7_3FN0DEIr"
      },
      "execution_count": null,
      "outputs": []
    },
    {
      "cell_type": "code",
      "source": [
        "fh = open(\"ncRNA_gene_dict.txt\", \"w\")\n",
        "fh.write('Transcription statistics dictionary\\n')\n",
        "fh.write('\\n')\n",
        "fh.write(str(nc_trans_d))\n",
        "fh.write('\\n')\n",
        "fh.write(\"Length of transcription dictionary {} and exon dictionary {} == count of desired features in file {}\".format(str(len(nc_trans_d)), str(len(nc_exon_d)), str(db.count_features_of_type(\"ncRNA_gene\"))))\n",
        "fh.write('\\n')\n",
        "fh.write(str(nc_exon_d))\n",
        "fh.close()"
      ],
      "metadata": {
        "id": "flcfEzPJDFVA"
      },
      "execution_count": null,
      "outputs": []
    },
    {
      "cell_type": "code",
      "source": [
        "! ls -al"
      ],
      "metadata": {
        "id": "pfJoEFhLQjz1",
        "colab": {
          "base_uri": "https://localhost:8080/"
        },
        "outputId": "c5e6d4c7-8147-424a-b413-aaf56904a9d6"
      },
      "execution_count": null,
      "outputs": [
        {
          "output_type": "stream",
          "name": "stdout",
          "text": [
            "total 2076860\n",
            "drwxr-xr-x 1 root root       4096 Jun 29 19:51 .\n",
            "drwxr-xr-x 1 root root       4096 Jun 29 19:36 ..\n",
            "drwxr-xr-x 4 root root       4096 Jun 28 13:37 .config\n",
            "drwx------ 6 root root       4096 Jun 29 19:42 drive\n",
            "-rw-r--r-- 1 root root    3098096 Jun 29 19:51 gene_dict.txt\n",
            "-rw-r--r-- 1 root root    3360241 Jun 29 19:51 ncRNA_gene_dict.txt\n",
            "-rw-r--r-- 1 root root    1876662 Jun 29 19:51 pseudogene_dict.txt\n",
            "drwxr-xr-x 1 root root       4096 Jun 28 13:38 sample_data\n",
            "-rw-r--r-- 1 root root 2118213632 Jun 29 19:49 test.db\n"
          ]
        }
      ]
    },
    {
      "cell_type": "code",
      "source": [
        "from google.colab import files\n",
        "files.download('gene_dict.txt')\n",
        "files.download('pseudogene_dict.txt')\n",
        "files.download('ncRNA_gene_dict.txt')"
      ],
      "metadata": {
        "id": "3WsdmfYLQ7R0",
        "colab": {
          "base_uri": "https://localhost:8080/"
        },
        "outputId": "3ed3534b-77fd-41ba-fd70-256f8d08399b"
      },
      "execution_count": null,
      "outputs": [
        {
          "output_type": "display_data",
          "data": {
            "text/plain": [
              "<IPython.core.display.Javascript object>"
            ],
            "application/javascript": [
              "\n",
              "    async function download(id, filename, size) {\n",
              "      if (!google.colab.kernel.accessAllowed) {\n",
              "        return;\n",
              "      }\n",
              "      const div = document.createElement('div');\n",
              "      const label = document.createElement('label');\n",
              "      label.textContent = `Downloading \"${filename}\": `;\n",
              "      div.appendChild(label);\n",
              "      const progress = document.createElement('progress');\n",
              "      progress.max = size;\n",
              "      div.appendChild(progress);\n",
              "      document.body.appendChild(div);\n",
              "\n",
              "      const buffers = [];\n",
              "      let downloaded = 0;\n",
              "\n",
              "      const channel = await google.colab.kernel.comms.open(id);\n",
              "      // Send a message to notify the kernel that we're ready.\n",
              "      channel.send({})\n",
              "\n",
              "      for await (const message of channel.messages) {\n",
              "        // Send a message to notify the kernel that we're ready.\n",
              "        channel.send({})\n",
              "        if (message.buffers) {\n",
              "          for (const buffer of message.buffers) {\n",
              "            buffers.push(buffer);\n",
              "            downloaded += buffer.byteLength;\n",
              "            progress.value = downloaded;\n",
              "          }\n",
              "        }\n",
              "      }\n",
              "      const blob = new Blob(buffers, {type: 'application/binary'});\n",
              "      const a = document.createElement('a');\n",
              "      a.href = window.URL.createObjectURL(blob);\n",
              "      a.download = filename;\n",
              "      div.appendChild(a);\n",
              "      a.click();\n",
              "      div.remove();\n",
              "    }\n",
              "  "
            ]
          },
          "metadata": {}
        },
        {
          "output_type": "display_data",
          "data": {
            "text/plain": [
              "<IPython.core.display.Javascript object>"
            ],
            "application/javascript": [
              "download(\"download_95fa3829-c23f-4664-9378-151bc16d4ac7\", \"gene_dict.txt\", 3098096)"
            ]
          },
          "metadata": {}
        },
        {
          "output_type": "display_data",
          "data": {
            "text/plain": [
              "<IPython.core.display.Javascript object>"
            ],
            "application/javascript": [
              "\n",
              "    async function download(id, filename, size) {\n",
              "      if (!google.colab.kernel.accessAllowed) {\n",
              "        return;\n",
              "      }\n",
              "      const div = document.createElement('div');\n",
              "      const label = document.createElement('label');\n",
              "      label.textContent = `Downloading \"${filename}\": `;\n",
              "      div.appendChild(label);\n",
              "      const progress = document.createElement('progress');\n",
              "      progress.max = size;\n",
              "      div.appendChild(progress);\n",
              "      document.body.appendChild(div);\n",
              "\n",
              "      const buffers = [];\n",
              "      let downloaded = 0;\n",
              "\n",
              "      const channel = await google.colab.kernel.comms.open(id);\n",
              "      // Send a message to notify the kernel that we're ready.\n",
              "      channel.send({})\n",
              "\n",
              "      for await (const message of channel.messages) {\n",
              "        // Send a message to notify the kernel that we're ready.\n",
              "        channel.send({})\n",
              "        if (message.buffers) {\n",
              "          for (const buffer of message.buffers) {\n",
              "            buffers.push(buffer);\n",
              "            downloaded += buffer.byteLength;\n",
              "            progress.value = downloaded;\n",
              "          }\n",
              "        }\n",
              "      }\n",
              "      const blob = new Blob(buffers, {type: 'application/binary'});\n",
              "      const a = document.createElement('a');\n",
              "      a.href = window.URL.createObjectURL(blob);\n",
              "      a.download = filename;\n",
              "      div.appendChild(a);\n",
              "      a.click();\n",
              "      div.remove();\n",
              "    }\n",
              "  "
            ]
          },
          "metadata": {}
        },
        {
          "output_type": "display_data",
          "data": {
            "text/plain": [
              "<IPython.core.display.Javascript object>"
            ],
            "application/javascript": [
              "download(\"download_95f8c3fb-d0ae-420e-a2f7-79fcc2b67954\", \"pseudogene_dict.txt\", 1876662)"
            ]
          },
          "metadata": {}
        },
        {
          "output_type": "display_data",
          "data": {
            "text/plain": [
              "<IPython.core.display.Javascript object>"
            ],
            "application/javascript": [
              "\n",
              "    async function download(id, filename, size) {\n",
              "      if (!google.colab.kernel.accessAllowed) {\n",
              "        return;\n",
              "      }\n",
              "      const div = document.createElement('div');\n",
              "      const label = document.createElement('label');\n",
              "      label.textContent = `Downloading \"${filename}\": `;\n",
              "      div.appendChild(label);\n",
              "      const progress = document.createElement('progress');\n",
              "      progress.max = size;\n",
              "      div.appendChild(progress);\n",
              "      document.body.appendChild(div);\n",
              "\n",
              "      const buffers = [];\n",
              "      let downloaded = 0;\n",
              "\n",
              "      const channel = await google.colab.kernel.comms.open(id);\n",
              "      // Send a message to notify the kernel that we're ready.\n",
              "      channel.send({})\n",
              "\n",
              "      for await (const message of channel.messages) {\n",
              "        // Send a message to notify the kernel that we're ready.\n",
              "        channel.send({})\n",
              "        if (message.buffers) {\n",
              "          for (const buffer of message.buffers) {\n",
              "            buffers.push(buffer);\n",
              "            downloaded += buffer.byteLength;\n",
              "            progress.value = downloaded;\n",
              "          }\n",
              "        }\n",
              "      }\n",
              "      const blob = new Blob(buffers, {type: 'application/binary'});\n",
              "      const a = document.createElement('a');\n",
              "      a.href = window.URL.createObjectURL(blob);\n",
              "      a.download = filename;\n",
              "      div.appendChild(a);\n",
              "      a.click();\n",
              "      div.remove();\n",
              "    }\n",
              "  "
            ]
          },
          "metadata": {}
        },
        {
          "output_type": "display_data",
          "data": {
            "text/plain": [
              "<IPython.core.display.Javascript object>"
            ],
            "application/javascript": [
              "download(\"download_7363d8f0-57f2-49f6-9de8-0409a855b527\", \"ncRNA_gene_dict.txt\", 3360241)"
            ]
          },
          "metadata": {}
        }
      ]
    },
    {
      "cell_type": "markdown",
      "source": [
        "Note: ncRNA_genes have some genes with no child transcript in the GFF file, results in a 0--999999... entry"
      ],
      "metadata": {
        "id": "XFMF7bVrI3wx"
      }
    },
    {
      "cell_type": "markdown",
      "source": [
        "\n",
        "\n",
        "---\n",
        "\n"
      ],
      "metadata": {
        "id": "WePYJc9QeIS1"
      }
    },
    {
      "cell_type": "markdown",
      "source": [
        "###indiv_gene function\n",
        "Query one gene for transcript info"
      ],
      "metadata": {
        "id": "1LFPBU5ysI3A"
      }
    },
    {
      "cell_type": "markdown",
      "source": [
        "Querying **one individual gene**, information returned includes:\n",
        "\n",
        "* Counts of each type of transcript\n",
        "* longest transcript\n",
        "* shortest transcript\n",
        "* average transcript length\n",
        "\n",
        "For each transcript\n",
        "* the number of exons\n",
        "* exonic length of transcript\n",
        "* average amount of exons\n"
      ],
      "metadata": {
        "id": "C9yPeXA0ZLnT"
      }
    },
    {
      "cell_type": "code",
      "source": [
        "# you MUST know the gene's ID= attribute in your GFF file to query\n",
        "def indiv_gene(db, gene_ID):\n",
        "  # :param db: FeatureDB object from gffutils that allows connection to the built sqlite3 file-based database\n",
        "  # gene_trans_d: key is featuretype \"gene\"'s ID; value is # of transcripts, longest and name, shortest and name\n",
        "  # gene_exon_d: key is featuretype \"gene\"'s ID; value is transcr w/ least # exons and name, most # exons and name\n",
        "  gene_trans_d = {}\n",
        "  gene_exon_d = {}\n",
        "  count_d = {}\n",
        "  exon_print = {}\n",
        "\n",
        "  # transcript initialize\n",
        "  counter = 0\n",
        "  trans_min = 9999999999\n",
        "  trans_max = 0\n",
        "  trans_min_label = ''\n",
        "  trans_max_label = ''\n",
        "  total_len = 0\n",
        "\n",
        "  # exon initialize\n",
        "  exon_min = 9999999999\n",
        "  exon_max = 0\n",
        "  exon_min_label = ''\n",
        "  exon_max_label = ''\n",
        "  exon_count_total = 0\n",
        "\n",
        "  gene = db[gene_ID]\n",
        "\n",
        "  # each transcript/child of gene\n",
        "  for c in db.children(gene, featuretype=('mRNA', 'lnc_RNA', 'transcript', 'pseudogenic_transcript', 'ncRNA', 'snRNA', 'miRNA', 'unconfirmed_transcript', 'snoRNA', 'V_gene_segment', 'J_gene_segment', 'scRNA', 'rRNA', 'D_gene_segment', 'C_gene_segment', 'tRNA')):\n",
        "    #print(c)\n",
        "    if c.featuretype not in count_d:\n",
        "      count_d[c.featuretype] = 1\n",
        "    elif c.featuretype in count_d:\n",
        "      count_d[c.featuretype] += 1\n",
        "\n",
        "\n",
        "    exon_count = 0  # flush exon count for ea new transcript\n",
        "\n",
        "    counter += 1 # count num of transcripts in gene\n",
        "    length = c.end - c.start + 1  # length of transcript (nt)\n",
        "    total_len += length  # total len of all transcripts of gene\n",
        "    for exon in db.children(c, featuretype=\"exon\"):\n",
        "        exon_count += 1  # number of exons in ea transcript\n",
        "        #print(exon)\n",
        "\n",
        "    category = c.featuretype\n",
        "    exonic_bp = db.children_bp(c, child_featuretype=\"exon\")\n",
        "    exon_count_total += exon_count\n",
        "    exon_print[c[\"transcript_id\"][0]] = \"category: {0} | exons: {1} | exonic_length: {2}\".format(category, exon_count, exonic_bp)\n",
        "\n",
        "    if length < trans_min:  # determine min and max length and transcript ID\n",
        "      trans_min = length\n",
        "      trans_min_label = c[\"transcript_id\"][0]  # changed from \"ID\"\n",
        "      trans_min_type = c.featuretype\n",
        "    if length > trans_max:\n",
        "      trans_max = length\n",
        "      trans_max_label = c[\"transcript_id\"][0]\n",
        "      trans_max_type = c.featuretype\n",
        "\n",
        "    if exon_count < exon_min:  # determine min and max exon count and transcript ID\n",
        "      exon_min = exon_count\n",
        "      exon_min_label = c[\"transcript_id\"][0]\n",
        "    elif exon_count == exon_min:\n",
        "      exon_min_label = \"{0}-{1}\".format(exon_min_label, c[\"transcript_id\"][0])\n",
        "\n",
        "    if exon_count > exon_max:\n",
        "      exon_max = exon_count\n",
        "      exon_max_label = c[\"transcript_id\"][0]\n",
        "    elif exon_count == exon_max:\n",
        "      exon_max_label = \"{0}-{1}\".format(exon_max_label, c[\"transcript_id\"][0])\n",
        "\n",
        "  average = total_len / counter\n",
        "  gene_trans_d[gene_ID] = \"{0}-{1}-{2}-{3}-{4}\".format(counter, trans_min_label, trans_min, trans_max_label, trans_max)\n",
        "  gene_exon_d[gene_ID] = \"{0}-{1}-{2}-{3}\".format(exon_min_label, exon_min, exon_max_label, exon_max)\n",
        "\n",
        "  print(\"The total number of transcripts:\", counter)\n",
        "  print(\"Transcript count breakdown:\")\n",
        "  for k, v in count_d.items():\n",
        "    print(k, v)\n",
        "  print(\"The shortest transcript:\", trans_min_label, \"with length\", trans_min, \"| category:\", trans_min_type)\n",
        "  print(\"The longest transcript:\", trans_max_label, \"with length\", trans_max, \"| category:\", trans_max_type)\n",
        "  print(\"The average transcript length:\", average)\n",
        "\n",
        "  average_exon = exon_count_total/counter\n",
        "  print(\"\\nExon count per transcript\")\n",
        "  for k, v in exon_print.items():\n",
        "    print(k, v)\n",
        "  print(\"Average number of exons per transcript:\", average_exon)\n",
        "\n",
        "  return gene_trans_d, gene_exon_d"
      ],
      "metadata": {
        "id": "8LK95dxkbHkm"
      },
      "execution_count": null,
      "outputs": []
    },
    {
      "cell_type": "code",
      "source": [
        "t, d = indiv_gene(db, 'gene:ENSG00000187634')"
      ],
      "metadata": {
        "id": "lLiax_y3cYzR",
        "colab": {
          "base_uri": "https://localhost:8080/"
        },
        "outputId": "5d138dea-28b7-4243-e057-aa0ed105e188"
      },
      "execution_count": null,
      "outputs": [
        {
          "output_type": "stream",
          "name": "stdout",
          "text": [
            "The total number of transcripts: 15\n",
            "Transcript count breakdown:\n",
            "mRNA 11\n",
            "lnc_RNA 3\n",
            "transcript 1\n",
            "The shortest transcript: ENST00000466827 with length 700 | category: lnc_RNA\n",
            "The longest transcript: ENST00000616016 with length 20652 | category: mRNA\n",
            "The average transcript length: 12418.333333333334\n",
            "\n",
            "Exon count per transcript\n",
            "ENST00000341065 category: mRNA | exons: 12 | exonic_length: 2191\n",
            "ENST00000342066 category: mRNA | exons: 14 | exonic_length: 2557\n",
            "ENST00000437963 category: mRNA | exons: 5 | exonic_length: 387\n",
            "ENST00000455979 category: mRNA | exons: 7 | exonic_length: 1731\n",
            "ENST00000464948 category: lnc_RNA | exons: 2 | exonic_length: 657\n",
            "ENST00000466827 category: lnc_RNA | exons: 2 | exonic_length: 542\n",
            "ENST00000474461 category: lnc_RNA | exons: 4 | exonic_length: 862\n",
            "ENST00000478729 category: transcript | exons: 3 | exonic_length: 318\n",
            "ENST00000616016 category: mRNA | exons: 14 | exonic_length: 3465\n",
            "ENST00000616125 category: mRNA | exons: 11 | exonic_length: 1722\n",
            "ENST00000617307 category: mRNA | exons: 13 | exonic_length: 1986\n",
            "ENST00000618181 category: mRNA | exons: 10 | exonic_length: 1671\n",
            "ENST00000618323 category: mRNA | exons: 14 | exonic_length: 3468\n",
            "ENST00000618779 category: mRNA | exons: 12 | exonic_length: 1860\n",
            "ENST00000622503 category: mRNA | exons: 13 | exonic_length: 2049\n",
            "Average number of exons per transcript: 9.066666666666666\n"
          ]
        }
      ]
    },
    {
      "cell_type": "code",
      "source": [
        "print(t)  # transcription stats dictionary\n",
        "print(d)  # exon stats dictionary, NOTE: two transcripts shown means both have the lowest or highest exon count"
      ],
      "metadata": {
        "id": "HV7Gqov-cg36",
        "colab": {
          "base_uri": "https://localhost:8080/"
        },
        "outputId": "d93607f6-7b02-4527-9098-4699b4c4cfa3"
      },
      "execution_count": null,
      "outputs": [
        {
          "output_type": "stream",
          "name": "stdout",
          "text": [
            "{'gene:ENSG00000187634': '15-ENST00000466827-700-ENST00000616016-20652'}\n",
            "{'gene:ENSG00000187634': 'ENST00000464948-ENST00000466827-2-ENST00000342066-ENST00000616016-ENST00000618323-14'}\n"
          ]
        }
      ]
    },
    {
      "cell_type": "code",
      "source": [
        "indiv_gene(db, \"gene:ENSG00000134644\")"
      ],
      "metadata": {
        "colab": {
          "base_uri": "https://localhost:8080/"
        },
        "id": "_1vdA2WfsmWi",
        "outputId": "59c53525-80b6-45fe-9bf8-ecbba3c00a91"
      },
      "execution_count": null,
      "outputs": [
        {
          "output_type": "stream",
          "name": "stdout",
          "text": [
            "The total number of transcripts: 23\n",
            "Transcript count breakdown:\n",
            "mRNA 18\n",
            "lnc_RNA 3\n",
            "transcript 2\n",
            "The shortest transcript: ENST00000498627 with length 1493 | category: lnc_RNA\n",
            "The longest transcript: ENST00000426105 with length 134212 | category: mRNA\n",
            "The average transcript length: 66275.52173913043\n",
            "\n",
            "Exon count per transcript\n",
            "ENST00000257075 category: mRNA | exons: 22 | exonic_length: 5360\n",
            "ENST00000373741 category: mRNA | exons: 22 | exonic_length: 4242\n",
            "ENST00000373742 category: mRNA | exons: 20 | exonic_length: 3515\n",
            "ENST00000373747 category: mRNA | exons: 22 | exonic_length: 5375\n",
            "ENST00000424085 category: mRNA | exons: 18 | exonic_length: 4631\n",
            "ENST00000426105 category: mRNA | exons: 22 | exonic_length: 5385\n",
            "ENST00000440538 category: mRNA | exons: 22 | exonic_length: 3936\n",
            "ENST00000471894 category: lnc_RNA | exons: 4 | exonic_length: 812\n",
            "ENST00000480602 category: mRNA | exons: 7 | exonic_length: 906\n",
            "ENST00000490546 category: transcript | exons: 5 | exonic_length: 707\n",
            "ENST00000498419 category: mRNA | exons: 17 | exonic_length: 3068\n",
            "ENST00000498627 category: lnc_RNA | exons: 2 | exonic_length: 422\n",
            "ENST00000524516 category: lnc_RNA | exons: 3 | exonic_length: 561\n",
            "ENST00000525843 category: mRNA | exons: 21 | exonic_length: 4528\n",
            "ENST00000525948 category: mRNA | exons: 7 | exonic_length: 1103\n",
            "ENST00000525997 category: mRNA | exons: 6 | exonic_length: 650\n",
            "ENST00000526128 category: transcript | exons: 4 | exonic_length: 579\n",
            "ENST00000526215 category: mRNA | exons: 5 | exonic_length: 586\n",
            "ENST00000527498 category: mRNA | exons: 5 | exonic_length: 652\n",
            "ENST00000529846 category: mRNA | exons: 6 | exonic_length: 683\n",
            "ENST00000530669 category: mRNA | exons: 5 | exonic_length: 582\n",
            "ENST00000531867 category: mRNA | exons: 2 | exonic_length: 549\n",
            "ENST00000532678 category: mRNA | exons: 6 | exonic_length: 793\n",
            "Average number of exons per transcript: 11.0\n"
          ]
        },
        {
          "output_type": "execute_result",
          "data": {
            "text/plain": [
              "({'gene:ENSG00000134644': '23-ENST00000498627-1493-ENST00000426105-134212'},\n",
              " {'gene:ENSG00000134644': 'ENST00000498627-ENST00000531867-2-ENST00000257075-ENST00000373741-ENST00000373747-ENST00000426105-ENST00000440538-22'})"
            ]
          },
          "metadata": {},
          "execution_count": 15
        }
      ]
    },
    {
      "cell_type": "markdown",
      "source": [
        "\n",
        "\n",
        "---\n",
        "\n"
      ],
      "metadata": {
        "id": "k9bX2r9B7-fT"
      }
    },
    {
      "cell_type": "markdown",
      "source": [
        "###trans_stats_csv (all genes in the GFF3 file)\n",
        "\n",
        "Information returned in **2 dictionaries** includes:\n",
        "\n",
        "* number of transcripts\n",
        "* longest transcript\n",
        "* shortest transcript\n",
        "* transcript with lowest number of exons\n",
        "* transcript with highest number of exons\n",
        "\n",
        "**Outputted CSV** includes:\n",
        "* transcript length\n",
        "* number of exons and introns per transcript\n",
        "* positions of all exons, introns, and genic features (5'UTR, CDS, 3'UTR) per transcript\n",
        "\n",
        "\n"
      ],
      "metadata": {
        "id": "jzU7cLsFcXf4"
      }
    },
    {
      "cell_type": "code",
      "source": [
        "def trans_stats_csv(db, gene_cat, filename, output=\"string\"):\n",
        "  # :param gene_cat: one of the gene types [gene, ncRNA_gene, pseudogene]\n",
        "  # :param filename: desired filename of CSV file outputted\n",
        "  # :param output: determine how \"x_positions\" columns are formatted; \"string\" or \"list\"\n",
        "\n",
        "  # gene_trans: key is featuretype gene ID; value is # of transcripts, longest and name, shortest and name\n",
        "  # gene_exon: key is featuretype gene ID; value is transcr w/ least # exons and name, most # exons and name\n",
        "\n",
        "  import csv\n",
        "\n",
        "  gene_trans = {}\n",
        "  gene_exon = {}\n",
        "\n",
        "\n",
        "  # write csv file for the gene category specfied; transcript is only mRNA right now\n",
        "  with open(filename, 'w', newline='') as csvfile:\n",
        "    writer = csv.writer(csvfile, delimiter=',')\n",
        "    fields = [\"chromosome\", \"strand\", \"gene_name\", \"gene_id\", \"gene_start\", \"gene_end\", \"transcript_name\", \"transcript_id\", \"transcript_length\", \"exon_number\", \"intron_number\", \"exon_positions\", \"intron_positions\", \"genic_positions\"]\n",
        "    writer.writerow(fields)  # write header of csv\n",
        "    for gene in db.features_of_type(gene_cat):  # for ea featuretype gene\n",
        "      # transcript initialize\n",
        "      counter = 0\n",
        "      trans_min = 9999999999\n",
        "      trans_max = 0\n",
        "      trans_min_label = ''\n",
        "      trans_max_label = ''\n",
        "\n",
        "      # exon initialize\n",
        "      exon_min = 9999999999\n",
        "      exon_max = 0\n",
        "      exon_min_label = ''\n",
        "      exon_max_label = ''\n",
        "\n",
        "      key = gene[\"gene_id\"][0]  # key is gene's gene_id (internaly 1 item list)\n",
        "      #print(key)\n",
        "\n",
        "      # each transcript/child of gene\n",
        "      #########################\n",
        "      #### CHANGE featuretype= if want to change type of transcripts analyzed\n",
        "      for c in db.children(gene, featuretype=('mRNA', 'lnc_RNA', 'transcript', 'pseudogenic_transcript', 'ncRNA', 'snRNA', 'miRNA', 'unconfirmed_transcript', 'snoRNA', 'V_gene_segment', 'J_gene_segment', 'scRNA', 'rRNA', 'D_gene_segment', 'C_gene_segment', 'tRNA')):\n",
        "        exon_count = 0  # flush exon count for ea new transcript\n",
        "        intron_count = 0  # sim logic as previous\n",
        "        genic_5_count = 0\n",
        "        genic_cds_count = 0\n",
        "        genic_3_count = 0\n",
        "        exon_positions_l = []  # flush positions list for ea new transcript\n",
        "        intron_positions_l = []\n",
        "        #genic_positions_l = []\n",
        "        genic_positions_l_5 = []\n",
        "        genic_positions_l_c = []\n",
        "        genic_positions_l_3 = []\n",
        "        counter += 1 # count num of transcripts in gene\n",
        "        length = abs(c.end - c.start) + 1  # length of transcript (nt)\n",
        "        if length <= 0:\n",
        "          print(\"WARNING: Length {0} of {1} is negative or zero\".format(length, c[\"transcript_id\"][0]))\n",
        "\n",
        "        # following 3 for loops extract information about exons, introns, and genic features per transcript of a gene\n",
        "        for exon in db.children(c, featuretype=\"exon\"):\n",
        "          exon_count += 1  # number of exons in ea transcript\n",
        "          if gene.strand == \"+\":\n",
        "            exon_start = exon.start\n",
        "            exon_end = exon.end\n",
        "          elif gene.strand == \"-\":\n",
        "            exon_start = exon.end\n",
        "            exon_end = exon.start\n",
        "          exon_len = abs(exon.end - exon.start) + 1\n",
        "          if exon_len <= 0:\n",
        "            print(\"WARNING: Length {0} of {1} is negative or zero\".format(exon_len, exon[\"exon_id\"][0]))\n",
        "          exon_label = \"Exon\" + str(exon[\"rank\"][0])\n",
        "          exon_positions_l += [\"{0}:{1}-{2}:{3}\".format(exon_label, exon_start, exon_end, exon_len)]\n",
        "\n",
        "        negative_count = exon_count\n",
        "        for intron in db.interfeatures(db.children(c, featuretype=\"exon\"), \"intron\", numeric_sort=\"True\"):\n",
        "          intron_count += 1\n",
        "          if gene.strand == \"+\":\n",
        "            intron_start = intron.start\n",
        "            intron_end = intron.end\n",
        "            intron_label = \"Intron\" + str(intron_count)\n",
        "          elif gene.strand == \"-\":\n",
        "            intron_start = intron.end\n",
        "            intron_end = intron.start\n",
        "            intron_label = \"Intron\" + str(negative_count-1)\n",
        "            negative_count -= 1\n",
        "          intron_len = abs(intron.end - intron.start) + 1\n",
        "\n",
        "          \"\"\"if gene.strand == \"-\":\n",
        "            intron_label = \"Intron\" + str(negative_count-1)\n",
        "            negative_count -= 1\n",
        "          else:\n",
        "            intron_label = \"Intron\" + str(intron_count)\"\"\"\n",
        "          if intron_len <= 0:\n",
        "            print(\"WARNING: Length {0} of intron between {1} is negative or zero\".format(intron_len, intron[\"exon_id\"][0]))\n",
        "          intron_positions_l += [\"{0}:{1}-{2}:{3}\".format(intron_label, intron_start, intron_end, intron_len)]\n",
        "\n",
        "        # loop so know counts of ea genic feature to order correctly\n",
        "        count_5 = 0\n",
        "        count_cds = 0\n",
        "        count_3 = 0\n",
        "        for count in db.children(c, featuretype=(\"five_prime_UTR\", \"CDS\", \"three_prime_UTR\")):\n",
        "          if count.featuretype == \"five_prime_UTR\":\n",
        "            count_5 += 1\n",
        "          elif count.featuretype == \"CDS\":\n",
        "            count_cds += 1\n",
        "          elif count.featuretype == \"three_prime_UTR\":\n",
        "            count_3 += 1\n",
        "\n",
        "        # multiple loops so order is 5UTR, CDS, 3UTR\n",
        "        for genic in db.children(c, featuretype=(\"five_prime_UTR\")):\n",
        "          genic_5_count += 1\n",
        "          if gene.strand == \"+\":\n",
        "            genic_start = genic.start\n",
        "            genic_end = genic.end\n",
        "            number = str(genic_5_count)\n",
        "          elif gene.strand == \"-\":\n",
        "            genic_end = genic.start\n",
        "            genic_start = genic.end\n",
        "            number = str(count_5)\n",
        "            count_5 -= 1\n",
        "          genic_len = abs(genic.end - genic.start) + 1\n",
        "          if genic_len <= 0:\n",
        "            print(\"WARNING: Length {0} of a 5' UTR in transcript {1} is negative or zero\".format(genic_len, c[\"transcript_id\"][0]))\n",
        "          genic_label = \"5UTR\" + number\n",
        "          genic_positions_l_5 += [\"{0}:{1}-{2}:{3}\".format(genic_label, genic_start, genic_end, genic_len)]\n",
        "\n",
        "        for genic in db.children(c, featuretype=\"CDS\"):\n",
        "          genic_cds_count += 1\n",
        "          if gene.strand == \"+\":\n",
        "            genic_start = genic.start\n",
        "            genic_end = genic.end\n",
        "            number = str(genic_cds_count)\n",
        "          elif gene.strand == \"-\":\n",
        "            genic_end = genic.start\n",
        "            genic_start = genic.end\n",
        "            number = str(count_cds)\n",
        "            count_cds -= 1\n",
        "          genic_len = abs(genic.end - genic.start) + 1\n",
        "          if genic_len <= 0:\n",
        "            print(\"WARNING: Length {0} of a CDS in transcript {1} is negative or zero\".format(genic_len, c[\"transcript_id\"][0]))\n",
        "          genic_label = \"CDS\" + number\n",
        "          genic_positions_l_c += [\"{0}:{1}-{2}:{3}\".format(genic_label, genic_start, genic_end, genic_len)]\n",
        "\n",
        "        for genic in db.children(c, featuretype=\"three_prime_UTR\"):\n",
        "          genic_3_count += 1\n",
        "          if gene.strand == \"+\":\n",
        "            genic_end = genic.end\n",
        "            genic_start = genic.start\n",
        "            genic_end = genic.end\n",
        "            number = str(genic_3_count)\n",
        "          elif gene.strand == \"-\":\n",
        "            genic_end = genic.start\n",
        "            genic_start = genic.end\n",
        "            number = str(count_3)\n",
        "            count_3 -= 1\n",
        "          genic_len = abs(genic.end - genic.start) + 1\n",
        "          if genic_len <= 0:\n",
        "            print(\"WARNING: Length {0} of a 3' UTR in transcript {1} is negative or zero\".format(genic_len, c[\"transcript_id\"][0]))\n",
        "          genic_label = \"3UTR\" + number\n",
        "          genic_positions_l_3 += [\"{0}:{1}-{2}:{3}\".format(genic_label, genic_start, genic_end, genic_len)]\n",
        "\n",
        "        import re\n",
        "        def num_sort(test_string):\n",
        "          #print(list(map(int, re.findall(r'\\d+', test_string)))[0])\n",
        "          return list(map(int, re.findall(r'\\d+', test_string)))[0]\n",
        "\n",
        "        def num_sort2(test_string):\n",
        "          return list(map(int, re.findall(r'\\d+', test_string)))[1]\n",
        "\n",
        "        exon_positions_l.sort(key=num_sort)\n",
        "        '''if gene.strand == \"-\":\n",
        "          print(\"------\", exon_positions_l)\n",
        "        else:\n",
        "          print(\"+++++\", exon_positions_l)'''\n",
        "\n",
        "        intron_positions_l.sort(key=num_sort)\n",
        "        '''if gene.strand == \"-\":\n",
        "          print(\"------\", intron_positions_l)\n",
        "        else:\n",
        "          print(\"+++++\", intron_positions_l)'''\n",
        "        genic_positions_l_5.sort(key=num_sort2)\n",
        "        genic_positions_l_c.sort(key=num_sort)\n",
        "        genic_positions_l_3.sort(key=num_sort2)\n",
        "        genic_positions_l = genic_positions_l_5 + genic_positions_l_c + genic_positions_l_3\n",
        "\n",
        "        if output == \"string\":\n",
        "          exon_positions_l = ';'.join(exon_positions_l)\n",
        "          intron_positions_l = ';'.join(intron_positions_l)\n",
        "          genic_positions_l = ';'.join(genic_positions_l)\n",
        "\n",
        "        # if gene or transcript does not have a name, is \"None\" in CSV\n",
        "        try:\n",
        "          gene_name = gene[\"Name\"][0]\n",
        "        except KeyError:\n",
        "          gene_name = \"None\"\n",
        "\n",
        "        try:\n",
        "          transcript_name = c[\"Name\"][0]\n",
        "        except KeyError:\n",
        "          transcript_name = \"None\"\n",
        "\n",
        "\n",
        "        # write new CSV entry for ea transcript of a gene\n",
        "        #print(genic_positions_l)\n",
        "        '''if gene.strand == \"-\":\n",
        "          print(\"------\", [gene.seqid, gene.strand, gene_name, gene[\"gene_id\"][0], transcript_name, c[\"transcript_id\"][0], length, exon_count, intron_count, exon_positions_l, intron_positions_l, genic_positions_l])\n",
        "        elif gene.strand == \"+\":\n",
        "          print(\"++++++\", [gene.seqid, gene.strand, gene_name, gene[\"gene_id\"][0], transcript_name, c[\"transcript_id\"][0], length, exon_count, intron_count, exon_positions_l, intron_positions_l, genic_positions_l])\n",
        "        '''\n",
        "\n",
        "        if gene.strand == \"-\":\n",
        "          gene_start = gene.end\n",
        "          gene_end = gene.start\n",
        "        if gene.strand == \"+\":\n",
        "          gene_start = gene.start\n",
        "          gene_end = gene.end\n",
        "\n",
        "        writer.writerow([gene.seqid, gene.strand, gene_name, gene[\"gene_id\"][0], gene_start, gene_end, transcript_name, c[\"transcript_id\"][0], length, exon_count, intron_count, exon_positions_l, intron_positions_l, genic_positions_l])\n",
        "\n",
        "        # for overall stats on transcripts and exons for specified gene features\n",
        "        if length < trans_min:  # determine min and max length and transcript ID\n",
        "          trans_min = length\n",
        "          trans_min_label = c[\"transcript_id\"][0]  # changed from \"ID\"\n",
        "        if length > trans_max:\n",
        "          trans_max = length\n",
        "          trans_max_label = c[\"transcript_id\"][0]\n",
        "\n",
        "        if exon_count < exon_min:  # determine min and max exon count and transcript ID\n",
        "          exon_min = exon_count\n",
        "          exon_min_label = c[\"transcript_id\"][0]\n",
        "        elif exon_count == exon_min:\n",
        "          exon_min_label = \"{0}-{1}\".format(exon_min_label, c[\"transcript_id\"][0])\n",
        "\n",
        "        if exon_count > exon_max:\n",
        "          exon_max = exon_count\n",
        "          exon_max_label = c[\"transcript_id\"][0]\n",
        "        elif exon_count == exon_max:\n",
        "          exon_max_label = \"{0}-{1}\".format(exon_max_label, c[\"transcript_id\"][0])\n",
        "\n",
        "      if counter == 0:\n",
        "        trans_max_label = trans_min_label = exon_max_label = exon_min_label = \"None\"\n",
        "\n",
        "      gene_trans[key] = \"{0}-{1}-{2}-{3}-{4}\".format(counter, trans_min_label, trans_min, trans_max_label, trans_max)\n",
        "      gene_exon[key] = \"{0}-{1}-{2}-{3}\".format(exon_min_label, exon_min, exon_max_label, exon_max)\n",
        "      #print(gene_trans[key])\n",
        "      #print(gene_exon[key])\n",
        "\n",
        "  return gene_trans, gene_exon"
      ],
      "metadata": {
        "id": "QybX3qhYtewB"
      },
      "execution_count": null,
      "outputs": []
    },
    {
      "cell_type": "code",
      "source": [
        "for exon in db.children(db[\"gene:ENSG00000006007\"], featuretype=\"exon\", order_by=(\"end\"), reverse=True):\n",
        "  print(exon)\n",
        "  #transcript:ENST00000353258"
      ],
      "metadata": {
        "id": "jhHOO6Ud9PTT"
      },
      "execution_count": null,
      "outputs": []
    },
    {
      "cell_type": "markdown",
      "source": [
        "**NOTE**: trans_stats_csv is set to do all transcripts right now. Must change manually to do only \"mRNA\""
      ],
      "metadata": {
        "id": "lHIagCU7zo7Z"
      }
    },
    {
      "cell_type": "code",
      "source": [
        "# GENE category only\n",
        "# about 3.5/4 min for only mRNA\n",
        "# 8 min for all transcripts\n",
        "trans_d, exon_d = trans_stats_csv(db, \"gene\", \"gff_gene_individual_gene.csv\")"
      ],
      "metadata": {
        "id": "-sqCtnRythdz"
      },
      "execution_count": null,
      "outputs": []
    },
    {
      "cell_type": "code",
      "source": [
        "print(trans_d)\n",
        "print(exon_d)"
      ],
      "metadata": {
        "id": "du6SlI7_58Jg"
      },
      "execution_count": null,
      "outputs": []
    },
    {
      "cell_type": "code",
      "source": [
        "# ALL gene categories\n",
        "# about 3.5/4 min for only mRNA (which outputs the same as doing \"gene\" with only mRNA)\n",
        "# about 9 min for all transcripts\n",
        "trans_d2, exon_d2 = trans_stats_csv(db, (\"gene\", \"pseudogene\", \"ncRNA_gene\"), \"gff_gene_individual_all.csv\")"
      ],
      "metadata": {
        "id": "ygBQXranckIs"
      },
      "execution_count": null,
      "outputs": []
    },
    {
      "cell_type": "code",
      "source": [
        "# in order to copy file to Google Drive, use pandas\n",
        "df = pd.read_csv(\"gff_gene_individual_gene.csv\")\n",
        "df.to_csv(\"/content/drive/My Drive/Lab_share/Lab_member/SophiaBick/HughesIntern/gff_gene_individual_gene.csv\")\n",
        "print(\"Number of transcript entries:\", len(df))\n"
      ],
      "metadata": {
        "id": "XFm53H39AORc",
        "colab": {
          "base_uri": "https://localhost:8080/"
        },
        "outputId": "e40bd701-6ff5-4957-c1c3-e9bee647bce2"
      },
      "execution_count": null,
      "outputs": [
        {
          "output_type": "stream",
          "name": "stderr",
          "text": [
            "<ipython-input-19-25c6f2e7a8b0>:2: DtypeWarning: Columns (0) have mixed types. Specify dtype option on import or set low_memory=False.\n",
            "  df = pd.read_csv(\"gff_gene_individual_gene.csv\")\n"
          ]
        },
        {
          "output_type": "stream",
          "name": "stdout",
          "text": [
            "Number of transcript entries: 172078\n"
          ]
        }
      ]
    },
    {
      "cell_type": "code",
      "source": [
        "df2 = pd.read_csv(\"gff_gene_individual_all.csv\")\n",
        "df2.to_csv(\"/content/drive/My Drive/Lab_share/Lab_member/SophiaBick/HughesIntern/gff_gene_individual_all.csv\")\n",
        "print(\"Number of transcript entries:\", len(df2))"
      ],
      "metadata": {
        "colab": {
          "base_uri": "https://localhost:8080/"
        },
        "id": "QGv_0HYJnspB",
        "outputId": "ca0f3b5c-b5b7-4739-8a43-48f90188bc59"
      },
      "execution_count": null,
      "outputs": [
        {
          "output_type": "stream",
          "name": "stderr",
          "text": [
            "<ipython-input-20-e7a9fae34986>:1: DtypeWarning: Columns (0,13) have mixed types. Specify dtype option on import or set low_memory=False.\n",
            "  df2 = pd.read_csv(\"gff_gene_individual_all.csv\")\n"
          ]
        },
        {
          "output_type": "stream",
          "name": "stdout",
          "text": [
            "Number of transcript entries: 252738\n"
          ]
        }
      ]
    }
  ]
}