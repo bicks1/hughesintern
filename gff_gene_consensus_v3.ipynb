{
  "cells": [
    {
      "cell_type": "markdown",
      "metadata": {
        "id": "view-in-github",
        "colab_type": "text"
      },
      "source": [
        "<a href=\"https://colab.research.google.com/github/bicks1/hughesintern/blob/main/gff_gene_consensus_v3.ipynb\" target=\"_parent\"><img src=\"https://colab.research.google.com/assets/colab-badge.svg\" alt=\"Open In Colab\"/></a>"
      ]
    },
    {
      "cell_type": "markdown",
      "metadata": {
        "id": "1gFGqACBR57H"
      },
      "source": [
        "\n",
        "**File Name**:\n",
        "\n",
        "```\n",
        "gff_gene_consensus.v3.ipynb\n",
        "```\n",
        "\n",
        "**Description**:\n",
        "\n",
        "```\n",
        "This program is a part of a series of programs for information extraction and mining of gene annotations in GFF3 files.\n",
        "\n",
        "Using this script, exonic and intronic gene information is extracted for individual genes.\n",
        "\n",
        "Feature/Type (column 3) defintions: http://www.sequenceontology.org/browser/obob.cgi\n",
        "\n",
        "Biotype(attribute in column 9) definition: https://www.gencodegenes.org/pages/biotypes.html\n",
        "\n",
        "```\n",
        "\n",
        "**Authors**:\n",
        "\n",
        "```\n",
        "Sophia Bick, Chun Liang\n",
        "```\n"
      ]
    },
    {
      "cell_type": "markdown",
      "metadata": {
        "id": "4kj7TVSGR1_e"
      },
      "source": [
        "###[Step 1]: Install Python modules, Map Google Drive that contains GFF3 files"
      ]
    },
    {
      "cell_type": "code",
      "execution_count": null,
      "metadata": {
        "colab": {
          "base_uri": "https://localhost:8080/"
        },
        "id": "FSm55tKPvcou",
        "outputId": "c7db0a04-7308-426a-8ca3-40312ad01595"
      },
      "outputs": [
        {
          "name": "stdout",
          "output_type": "stream",
          "text": [
            "Collecting gffutils\n",
            "  Downloading gffutils-0.12-py3-none-any.whl (1.6 MB)\n",
            "\u001b[2K     \u001b[90m━━━━━━━━━━━━━━━━━━━━━━━━━━━━━━━━━━━━━━━━\u001b[0m \u001b[32m1.6/1.6 MB\u001b[0m \u001b[31m8.5 MB/s\u001b[0m eta \u001b[36m0:00:00\u001b[0m\n",
            "\u001b[?25hCollecting pyfaidx>=0.5.5.2 (from gffutils)\n",
            "  Downloading pyfaidx-0.7.2.1-py3-none-any.whl (28 kB)\n",
            "Requirement already satisfied: six>=1.12.0 in /usr/local/lib/python3.10/dist-packages (from gffutils) (1.16.0)\n",
            "Collecting argh>=0.26.2 (from gffutils)\n",
            "  Downloading argh-0.28.1-py3-none-any.whl (40 kB)\n",
            "\u001b[2K     \u001b[90m━━━━━━━━━━━━━━━━━━━━━━━━━━━━━━━━━━━━━━━━\u001b[0m \u001b[32m40.5/40.5 kB\u001b[0m \u001b[31m3.8 MB/s\u001b[0m eta \u001b[36m0:00:00\u001b[0m\n",
            "\u001b[?25hCollecting argcomplete>=1.9.4 (from gffutils)\n",
            "  Downloading argcomplete-3.1.1-py3-none-any.whl (41 kB)\n",
            "\u001b[2K     \u001b[90m━━━━━━━━━━━━━━━━━━━━━━━━━━━━━━━━━━━━━━━━\u001b[0m \u001b[32m41.5/41.5 kB\u001b[0m \u001b[31m3.8 MB/s\u001b[0m eta \u001b[36m0:00:00\u001b[0m\n",
            "\u001b[?25hCollecting simplejson (from gffutils)\n",
            "  Downloading simplejson-3.19.1-cp310-cp310-manylinux_2_5_x86_64.manylinux1_x86_64.manylinux_2_17_x86_64.manylinux2014_x86_64.whl (137 kB)\n",
            "\u001b[2K     \u001b[90m━━━━━━━━━━━━━━━━━━━━━━━━━━━━━━━━━━━━━━━\u001b[0m \u001b[32m137.9/137.9 kB\u001b[0m \u001b[31m9.2 MB/s\u001b[0m eta \u001b[36m0:00:00\u001b[0m\n",
            "\u001b[?25hRequirement already satisfied: setuptools in /usr/local/lib/python3.10/dist-packages (from pyfaidx>=0.5.5.2->gffutils) (67.7.2)\n",
            "Installing collected packages: simplejson, pyfaidx, argh, argcomplete, gffutils\n",
            "Successfully installed argcomplete-3.1.1 argh-0.28.1 gffutils-0.12 pyfaidx-0.7.2.1 simplejson-3.19.1\n"
          ]
        }
      ],
      "source": [
        "!pip install gffutils"
      ]
    },
    {
      "cell_type": "code",
      "execution_count": null,
      "metadata": {
        "colab": {
          "base_uri": "https://localhost:8080/"
        },
        "id": "IytUqpP0vgGN",
        "outputId": "e11971aa-4863-4225-a469-dd64992b5e8a"
      },
      "outputs": [
        {
          "name": "stdout",
          "output_type": "stream",
          "text": [
            "Mounted at /content/drive\n"
          ]
        }
      ],
      "source": [
        "from google.colab import drive\n",
        "drive.mount('/content/drive')"
      ]
    },
    {
      "cell_type": "code",
      "execution_count": null,
      "metadata": {
        "id": "-cQVu5ZBvmxh"
      },
      "outputs": [],
      "source": [
        "hg38gff = \"/content/drive/My Drive/Lab_share/Lab_member/SophiaBick/HughesIntern/Homo_sapiens.GRCh38.109.chr.gff3\""
      ]
    },
    {
      "cell_type": "code",
      "execution_count": null,
      "metadata": {
        "id": "xFCPb53LvnTH"
      },
      "outputs": [],
      "source": [
        "import gffutils"
      ]
    },
    {
      "cell_type": "code",
      "execution_count": null,
      "metadata": {
        "id": "s1MXYJMaG6K5"
      },
      "outputs": [],
      "source": [
        "import pandas as pd"
      ]
    },
    {
      "cell_type": "markdown",
      "metadata": {
        "id": "wdDMuwkRSq_z"
      },
      "source": [
        "###[Step 2]: Get an overview for each type of gene (gene, ncRNA_gene, pseudogene) in the whole GFF3 file"
      ]
    },
    {
      "cell_type": "code",
      "execution_count": null,
      "metadata": {
        "colab": {
          "background_save": true
        },
        "id": "4ELGWY8LvpfN"
      },
      "outputs": [],
      "source": [
        "# It takes a long time (about 8 mins) to build the database that contains parent (genes) and child (transcripts) relationships\n",
        "# The following command imports the file into a local sqlite3 file-based database (\"test.db\")\n",
        "db = gffutils.create_db(hg38gff, dbfn='test.db', force=True, keep_order=False, merge_strategy='create_unique', sort_attribute_values=False)\n",
        "\n",
        "# The following command connects to the database previously created\n",
        "# FeatureDB methods allow interaction with the database\n",
        "db = gffutils.FeatureDB('test.db', keep_order=False)"
      ]
    },
    {
      "cell_type": "code",
      "execution_count": null,
      "metadata": {
        "colab": {
          "base_uri": "https://localhost:8080/"
        },
        "id": "smV4PHqhyKXK",
        "outputId": "2365a1f5-0885-4a2f-8a5d-b993896adc17"
      },
      "outputs": [
        {
          "name": "stdout",
          "output_type": "stream",
          "text": [
            "21507\n"
          ]
        }
      ],
      "source": [
        "# The number of feature type \"gene\"\n",
        "num_for_gene = db.count_features_of_type(\"gene\")\n",
        "print(num_for_gene)"
      ]
    },
    {
      "cell_type": "code",
      "execution_count": null,
      "metadata": {
        "colab": {
          "base_uri": "https://localhost:8080/"
        },
        "id": "ST3a5YbK1I2Y",
        "outputId": "03e102fc-37ac-4d38-b529-5a2402be1ed2"
      },
      "outputs": [
        {
          "name": "stdout",
          "output_type": "stream",
          "text": [
            "15224\n"
          ]
        }
      ],
      "source": [
        "# The number of feature type \"pseudogene\"\n",
        "num_for_pseudogene = db.count_features_of_type(\"pseudogene\")\n",
        "print(num_for_pseudogene)"
      ]
    },
    {
      "cell_type": "code",
      "execution_count": null,
      "metadata": {
        "colab": {
          "base_uri": "https://localhost:8080/"
        },
        "id": "G14O9yJ3Bzbu",
        "outputId": "27febfcb-988a-4d5a-fc48-cbca9a757d86"
      },
      "outputs": [
        {
          "name": "stdout",
          "output_type": "stream",
          "text": [
            "25925\n"
          ]
        }
      ],
      "source": [
        "# The number of feature type \"ncRNA_gene\"\n",
        "num_for_ncRNA_gene = db.count_features_of_type(\"ncRNA_gene\")\n",
        "print(num_for_ncRNA_gene)"
      ]
    },
    {
      "cell_type": "code",
      "execution_count": null,
      "metadata": {
        "colab": {
          "base_uri": "https://localhost:8080/"
        },
        "id": "Hz1KSOGTB4mH",
        "outputId": "8f0def61-d112-46c0-dd5c-8a050159ef85"
      },
      "outputs": [
        {
          "name": "stdout",
          "output_type": "stream",
          "text": [
            "62656\n"
          ]
        }
      ],
      "source": [
        "# The number of all gene featuretypes (\"gene\", \"ncRNA_gene\", \"pseudogene\")\n",
        "num_for_all = num_for_gene + num_for_ncRNA_gene + num_for_pseudogene\n",
        "print(num_for_all)"
      ]
    },
    {
      "cell_type": "markdown",
      "metadata": {
        "id": "k9bX2r9B7-fT"
      },
      "source": [
        "\n",
        "\n",
        "---\n",
        "\n"
      ]
    },
    {
      "cell_type": "markdown",
      "metadata": {
        "id": "SZzT-Yzahy9g"
      },
      "source": [
        "###consensus_csv function\n",
        "Determine the consensus exon and intron regions for genes\n",
        "\n",
        "* consensus exons: regions where at least one transcript has an exon at that location\n",
        "* consensus introns: regions where no exons are found in any transcript at that location"
      ]
    },
    {
      "cell_type": "code",
      "execution_count": null,
      "metadata": {
        "id": "H1HJI7Ju9A34"
      },
      "outputs": [],
      "source": [
        "def consensus_csv(db, gene_cat, filename, output=\"string\"):\n",
        "  # :param gene_cat: one of the gene types [gene, ncRNA_gene, pseudogene]\n",
        "  # :param filename: desired filename of CSV file outputted\n",
        "  # :param output: determine how \"x_positions\" columns are formatted; \"string\" or \"list\"\n",
        "  # :return: CSV file\n",
        "\n",
        "  import csv\n",
        "\n",
        "  with open(filename, 'w', newline='') as csvfile:\n",
        "    writer = csv.writer(csvfile, delimiter=',')\n",
        "    fields = [\"chromosome\", \"strand\", \"gene_name\", \"gene_id\", \"gene_start\", \"gene_end\", \"consensus_exon_count\", \"consensus_intron_count\", \"consensus_exons\", \"consensus_introns\"]\n",
        "    writer.writerow(fields)\n",
        "\n",
        "    for gene in db.features_of_type(gene_cat):\n",
        "      start = 1  # indicator of first exon of gene\n",
        "      consensus_exon = 1\n",
        "      consensus_ls = []\n",
        "\n",
        "      # if gene does not have a name, is \"None\" in CSV\n",
        "      try:\n",
        "        gene_name = gene[\"Name\"][0]\n",
        "      except KeyError:\n",
        "        gene_name = \"None\"\n",
        "\n",
        "      ###########\n",
        "      if gene.strand == \"+\":  # for +, exons must ordered by start, ascending (smallest start first, then more)\n",
        "        order_by = (\"start\", \"end\")\n",
        "        reverse = False\n",
        "        gene_start = gene.start\n",
        "        gene_end = gene.end\n",
        "      elif gene.strand == \"-\":  # for -, exons must ordered by end, descending (greatest end first, then less)\n",
        "        order_by = (\"end\")\n",
        "        reverse = True\n",
        "        gene_start = gene.end\n",
        "        gene_end = gene.start\n",
        "\n",
        "      for e in db.children(gene, featuretype=\"exon\", order_by=order_by, reverse=reverse):\n",
        "        if gene.strand == \"+\":\n",
        "          if start == 1:  # first exon\n",
        "            # initialize start and end reference point for 1st consensus exon\n",
        "            consensus_start = e.start\n",
        "            consensus_end = e.end\n",
        "            start += 1\n",
        "\n",
        "          # if next exon is completely within previous exon, skip\n",
        "          elif consensus_start <= e.start <= consensus_end and e.end <= consensus_end:\n",
        "            #print('pass')\n",
        "            pass\n",
        "\n",
        "          # if next exon overlaps previous exon, extend the end of consensus exon\n",
        "          elif consensus_start <= e.start <= consensus_end and e.end >= consensus_end:\n",
        "            consensus_end = e.end\n",
        "\n",
        "          # if next exon does not overlap previous exon, add previous consensus exon data to file\n",
        "          elif e.start > consensus_start and e.end > consensus_end:\n",
        "            consensus_len = abs(consensus_end - consensus_start) + 1  # no warning since impossible for len to be negative or 0\n",
        "            consensus_ls += [\"ConsensusExon_{0}:{1}-{2}:{3}\".format(consensus_exon, consensus_start, consensus_end, consensus_len)]\n",
        "            # initialize new reference points for new consensus exon\n",
        "            consensus_exon += 1\n",
        "            consensus_start = e.start\n",
        "            consensus_end = e.end\n",
        "\n",
        "        if gene.strand == \"-\":\n",
        "          if start == 1:  # first exon\n",
        "        # initialize start and end reference point for 1st consensus exon\n",
        "            consensus_start = e.end\n",
        "            consensus_end = e.start\n",
        "            start += 1\n",
        "\n",
        "          # if next exon is completely within previous exon, skip\n",
        "          elif consensus_end < e.end <= consensus_start and e.start >= consensus_end:\n",
        "            #print('pass')\n",
        "            pass\n",
        "\n",
        "          # if next exon overlaps previous exon, extend the end of consensus exon\n",
        "          elif consensus_end <= e.end <= consensus_start and e.start < consensus_end:\n",
        "            consensus_end = e.start\n",
        "\n",
        "          # if next exon does not overlap previous exon, add previous consensus exon data to file\n",
        "          elif e.end < consensus_end and e.start < consensus_end:\n",
        "            consensus_len = abs(consensus_end - consensus_start) + 1  # no warning since impossible for len to be negative or 0\n",
        "            consensus_ls += [\"ConsensusExon_{0}:{1}-{2}:{3}\".format(consensus_exon, consensus_start, consensus_end, consensus_len)]\n",
        "            # initialize new reference points for new consensus exon\n",
        "            consensus_exon += 1\n",
        "            consensus_start = e.end\n",
        "            consensus_end = e.start\n",
        "\n",
        "      ###########\n",
        "      # Add last entry of consensus exon\n",
        "      consensus_len = abs(consensus_end - consensus_start) + 1\n",
        "      consensus_ls += [\"ConsensusExon_{0}:{1}-{2}:{3}\".format(consensus_exon, consensus_start, consensus_end, consensus_len)]\n",
        "      #print(consensus_ls)\n",
        "\n",
        "      # Add consensus introns\n",
        "      consensus_intron = []\n",
        "      counter = 1\n",
        "      for index in range(0, len(consensus_ls)):  # ea entry/block of consensus exon info\n",
        "        #print(consensus_ls[index])\n",
        "        if len(consensus_ls) == 1:  # only one consensus exon\n",
        "          pass\n",
        "        else:\n",
        "          if index == len(consensus_ls)-1:  # on last consensus exon entry; no new introns\n",
        "            pass\n",
        "          else:\n",
        "            #print(\"first split\", consensus_ls[index+1].split(\":\")[1])\n",
        "            #print(\"second split\", consensus_ls[index+1].split(\":\")[1].split(\"-\")[0])\n",
        "            if gene.strand == \"+\":\n",
        "              new_end = int(consensus_ls[index+1].split(\":\")[1].split(\"-\")[0]) - 1  # take next exon's start and substract one for new end\n",
        "              new_start = int(consensus_ls[index].split(\":\")[1].split(\"-\")[1]) + 1  # take current exon's end and add one for new start\n",
        "            if gene.strand == \"-\":\n",
        "              new_end = int(consensus_ls[index+1].split(\":\")[1].split(\"-\")[0]) + 1  # take next exon's start and add one for new end\n",
        "              new_start = int(consensus_ls[index].split(\":\")[1].split(\"-\")[1]) - 1  # take current exon's end and subtract one for new start\n",
        "            new_len = abs(new_end-new_start)+1  # no warning since impossible for len to be negative or 0\n",
        "            consensus_intron += [\"ConsensusIntron_{0}:{1}-{2}:{3}\".format(counter, new_start, new_end, new_len)]\n",
        "            counter += 1\n",
        "\n",
        "      # add data to CSV\n",
        "      #print(gene.seqid, gene.strand, gene_name, gene[\"gene_id\"][0], consensus_ls, consensus_intron)\n",
        "      i_count = len(consensus_intron)\n",
        "      if output == \"string\":\n",
        "        consensus_ls = \";\".join(consensus_ls)\n",
        "        consensus_intron = \";\".join(consensus_intron)\n",
        "\n",
        "      #print(consensus_ls)\n",
        "      #print(consensus_intron)\n",
        "\n",
        "      writer.writerow([gene.seqid, gene.strand, gene_name, gene[\"gene_id\"][0], gene_start, gene_end, consensus_exon, i_count, consensus_ls, consensus_intron])"
      ]
    },
    {
      "cell_type": "code",
      "execution_count": null,
      "metadata": {
        "id": "bT5tM-shBN8L"
      },
      "outputs": [],
      "source": [
        "consensus_csv(db, \"gene\", \"gff_gene_consensus_gene.csv\")"
      ]
    },
    {
      "cell_type": "code",
      "execution_count": null,
      "metadata": {
        "id": "SSoIQtmvK4NA"
      },
      "outputs": [],
      "source": [
        "consensus_csv(db, (\"gene\", \"ncRNA_gene\", \"pseudogene\"), \"gff_gene_consensus_all.csv\")"
      ]
    },
    {
      "cell_type": "code",
      "execution_count": null,
      "metadata": {
        "colab": {
          "base_uri": "https://localhost:8080/"
        },
        "id": "DpjlS1cVKwOH",
        "outputId": "dcd44a8c-70da-4c86-808f-8eaa7b2924ea"
      },
      "outputs": [
        {
          "output_type": "stream",
          "name": "stdout",
          "text": [
            "Number of 'gene' entries: 21507\n"
          ]
        }
      ],
      "source": [
        "df = pd.read_csv(\"gff_gene_consensus_gene.csv\")\n",
        "df.to_csv(\"/content/drive/My Drive/Lab_share/Lab_member/SophiaBick/HughesIntern/gff_gene_consensus_gene.csv\")\n",
        "print(\"Number of 'gene' entries:\", len(df))"
      ]
    },
    {
      "cell_type": "code",
      "execution_count": null,
      "metadata": {
        "colab": {
          "base_uri": "https://localhost:8080/"
        },
        "id": "DcyLiHqdLAHj",
        "outputId": "94b6d28f-1652-4255-92f5-ccce8d86b1bd"
      },
      "outputs": [
        {
          "output_type": "stream",
          "name": "stdout",
          "text": [
            "Number of all gene category entries: 62656\n"
          ]
        }
      ],
      "source": [
        "df = pd.read_csv(\"gff_gene_consensus_all.csv\")\n",
        "df.to_csv(\"/content/drive/My Drive/Lab_share/Lab_member/SophiaBick/HughesIntern/gff_gene_consensus_all.csv\")\n",
        "print(\"Number of all gene category entries:\", len(df))"
      ]
    }
  ],
  "metadata": {
    "colab": {
      "collapsed_sections": [
        "4kj7TVSGR1_e",
        "wdDMuwkRSq_z",
        "6kyQASGfNxjz"
      ],
      "provenance": [],
      "include_colab_link": true
    },
    "kernelspec": {
      "display_name": "Python 3",
      "name": "python3"
    },
    "language_info": {
      "name": "python"
    }
  },
  "nbformat": 4,
  "nbformat_minor": 0
}