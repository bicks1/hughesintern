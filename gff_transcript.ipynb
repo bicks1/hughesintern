{
  "nbformat": 4,
  "nbformat_minor": 0,
  "metadata": {
    "colab": {
      "provenance": [],
      "include_colab_link": true
    },
    "kernelspec": {
      "name": "python3",
      "display_name": "Python 3"
    },
    "language_info": {
      "name": "python"
    }
  },
  "cells": [
    {
      "cell_type": "markdown",
      "metadata": {
        "id": "view-in-github",
        "colab_type": "text"
      },
      "source": [
        "<a href=\"https://colab.research.google.com/github/bicks1/hughesintern/blob/main/gff_transcript_v2.ipynb\" target=\"_parent\"><img src=\"https://colab.research.google.com/assets/colab-badge.svg\" alt=\"Open In Colab\"/></a>"
      ]
    },
    {
      "cell_type": "markdown",
      "source": [
        "\n",
        "**File Name**:\n",
        "\n",
        "```\n",
        "gff_transcript.ipynb\n",
        "```\n",
        "\n",
        "**Description**:\n",
        "\n",
        "```\n",
        "This program is a part of a series of programs for information extraction and mining of gene annotations in GFF3 files\n",
        "\n",
        "Feature/Type (column 3) defintions: http://www.sequenceontology.org/browser/obob.cgi\n",
        "\n",
        "Biotype(attribute in column 9) definition: https://www.gencodegenes.org/pages/biotypes.html\n",
        "\n",
        "```\n",
        "\n",
        "**Authors**:\n",
        "\n",
        "```\n",
        "Sophia Bick, Chun Liang\n",
        "```\n"
      ],
      "metadata": {
        "id": "dmpdA_mmj4Rp"
      }
    },
    {
      "cell_type": "markdown",
      "source": [
        "[Step 1]: Install Python modules, Map Google Drive that contains GFF3 files"
      ],
      "metadata": {
        "id": "L9CRdhbCmvZx"
      }
    },
    {
      "cell_type": "code",
      "execution_count": null,
      "metadata": {
        "colab": {
          "base_uri": "https://localhost:8080/"
        },
        "id": "C9XdxJ5HwsBR",
        "outputId": "cf013c54-49ad-4e01-b0f5-13c9b2d0b6fe"
      },
      "outputs": [
        {
          "output_type": "stream",
          "name": "stdout",
          "text": [
            "Looking in indexes: https://pypi.org/simple, https://us-python.pkg.dev/colab-wheels/public/simple/\n",
            "Requirement already satisfied: pandas in /usr/local/lib/python3.10/dist-packages (1.5.3)\n",
            "Requirement already satisfied: python-dateutil>=2.8.1 in /usr/local/lib/python3.10/dist-packages (from pandas) (2.8.2)\n",
            "Requirement already satisfied: pytz>=2020.1 in /usr/local/lib/python3.10/dist-packages (from pandas) (2022.7.1)\n",
            "Requirement already satisfied: numpy>=1.21.0 in /usr/local/lib/python3.10/dist-packages (from pandas) (1.22.4)\n",
            "Requirement already satisfied: six>=1.5 in /usr/local/lib/python3.10/dist-packages (from python-dateutil>=2.8.1->pandas) (1.16.0)\n",
            "Looking in indexes: https://pypi.org/simple, https://us-python.pkg.dev/colab-wheels/public/simple/\n",
            "Collecting gffpandas\n",
            "  Downloading gffpandas-1.2.0.tar.gz (178 kB)\n",
            "\u001b[2K     \u001b[90m━━━━━━━━━━━━━━━━━━━━━━━━━━━━━━━━━━━━━━━\u001b[0m \u001b[32m178.8/178.8 kB\u001b[0m \u001b[31m3.7 MB/s\u001b[0m eta \u001b[36m0:00:00\u001b[0m\n",
            "\u001b[?25h  Preparing metadata (setup.py) ... \u001b[?25l\u001b[?25hdone\n",
            "Building wheels for collected packages: gffpandas\n",
            "  Building wheel for gffpandas (setup.py) ... \u001b[?25l\u001b[?25hdone\n",
            "  Created wheel for gffpandas: filename=gffpandas-1.2.0-py2.py3-none-any.whl size=6248 sha256=cb071ee2a63e04950266a155626ceb276a26d95ab6546df7d4db1ce750bb534b\n",
            "  Stored in directory: /root/.cache/pip/wheels/57/87/f1/1d0c74fbc5151562ba7953dc110a7d8c63c6c3229d025bc8cd\n",
            "Successfully built gffpandas\n",
            "Installing collected packages: gffpandas\n",
            "Successfully installed gffpandas-1.2.0\n"
          ]
        }
      ],
      "source": [
        "!pip install pandas\n",
        "!pip install gffpandas"
      ]
    },
    {
      "cell_type": "code",
      "source": [
        "from google.colab import drive\n",
        "drive.mount('/content/drive', force_remount=True)\n",
        "\n",
        "!ls \"/content/drive/My Drive/Lab_share/Lab_member/SophiaBick/HughesIntern\""
      ],
      "metadata": {
        "colab": {
          "base_uri": "https://localhost:8080/"
        },
        "id": "le_8dNn3w2DD",
        "outputId": "3de61b8a-2e05-449a-90c4-2690c756dfc2"
      },
      "execution_count": null,
      "outputs": [
        {
          "output_type": "stream",
          "name": "stdout",
          "text": [
            "Mounted at /content/drive\n",
            " chrom_and_gene_Qs.ipynb\n",
            " EDITINGgff_gene_individual.v2.ipynb\n",
            " EDITINGgff_transcript.v2.ipynb\n",
            " gff_chromosome.csv\n",
            " gff_chromosome_exclude.csv\n",
            " gff_chrom.v1.ipynb\n",
            " gff_chrom.v2.ipynb\n",
            " gff_gene_all.csv\n",
            " gff_gene_ncRNA.csv\n",
            " gff_gene_only.csv\n",
            " gff_gene_pseudo.csv\n",
            " gff_gene_related_exclude.csv\n",
            " gff_gene_related_exclude.gsheet\n",
            " gff_gene.v0.ipynb\n",
            " gff_gene.v1.ipynb\n",
            " gff_gene.v2.ipynb\n",
            " gff_individual_gene.v0.ipynb\n",
            "'GFF module notes.gdoc'\n",
            " gff_transcript_all.csv\n",
            " gff_transcript_all.gsheet\n",
            " gff_transcript_mRNA.csv\n",
            " gff_transcript_mRNA.gsheet\n",
            " gff_transcript_segment\n",
            " gff_transcript_typical.csv\n",
            " gff_transcript_typical.gsheet\n",
            " gff_transcript.v0.ipynb\n",
            " gff_transcript.v1.ipynb\n",
            " Homo_sapiens.GRCh38.109.chr.gff3\n",
            " Homo_sapiens.GRCh38.109.chromosome.20.gff3\n",
            " Homo_sapiens.GRCh38.dna.chromosome.20.fa\n",
            " module_explore.ipynb\n",
            " researchplan_Qs.ipynb\n",
            " transcription_Qs.ipynb\n"
          ]
        }
      ]
    },
    {
      "cell_type": "code",
      "source": [
        "hg38gff = \"/content/drive/My Drive/Lab_share/Lab_member/SophiaBick/HughesIntern/Homo_sapiens.GRCh38.109.chr.gff3\""
      ],
      "metadata": {
        "id": "a2lXesnzw8-B"
      },
      "execution_count": null,
      "outputs": []
    },
    {
      "cell_type": "code",
      "source": [
        "import gffpandas.gffpandas as gffpd\n",
        "import pandas as pd"
      ],
      "metadata": {
        "id": "IqQ_cWoWxCss"
      },
      "execution_count": null,
      "outputs": []
    },
    {
      "cell_type": "markdown",
      "source": [
        "[Step 2]: Get a quick overview of a given GFF3 file and extract different types and counts for the third column (types)"
      ],
      "metadata": {
        "id": "XacfcqrMneCH"
      }
    },
    {
      "cell_type": "code",
      "source": [
        "annotation = gffpd.read_gff3(hg38gff)\n",
        "# gffpd stats dict with feature type counts\n",
        "stats = annotation.stats_dic()\n",
        "#print(stats)\n",
        "feature_dict = stats[\"Counted_feature_types\"]\n",
        "print(feature_dict)"
      ],
      "metadata": {
        "colab": {
          "base_uri": "https://localhost:8080/"
        },
        "id": "bcobykxkWfw1",
        "outputId": "0c31d0e0-b10f-477a-ed90-4c5436e89f0a"
      },
      "execution_count": null,
      "outputs": [
        {
          "output_type": "stream",
          "name": "stderr",
          "text": [
            "/usr/local/lib/python3.10/dist-packages/gffpandas/gffpandas.py:32: DtypeWarning: Columns (0) have mixed types. Specify dtype option on import or set low_memory=False.\n",
            "  self.df = pd.read_table(self._gff_file, comment='#',\n"
          ]
        },
        {
          "output_type": "stream",
          "name": "stdout",
          "text": [
            "{'exon': 1648074, 'CDS': 886460, 'three_prime_UTR': 207390, 'biological_region': 180084, 'five_prime_UTR': 173461, 'mRNA': 110869, 'lnc_RNA': 91534, 'transcript': 26490, 'ncRNA_gene': 25925, 'gene': 21507, 'pseudogenic_transcript': 15226, 'pseudogene': 15224, 'ncRNA': 2211, 'snRNA': 1906, 'miRNA': 1877, 'unconfirmed_transcript': 1143, 'snoRNA': 942, 'V_gene_segment': 252, 'J_gene_segment': 97, 'scRNA': 50, 'rRNA': 49, 'D_gene_segment': 41, 'C_gene_segment': 29, 'chromosome': 25, 'tRNA': 22}\n"
          ]
        }
      ]
    },
    {
      "cell_type": "code",
      "source": [
        "# counts of each feature type\n",
        "trans_l = []\n",
        "for key, val in feature_dict.items():\n",
        "  if \"gene\" not in key and \"RNA\" in key or \"transcript\" in key or \"segment\" in key:\n",
        "    print(\"=====> transcript-related feature type: {0} | count: {1} <=====\".format(key, val))\n",
        "    trans_l.append(key)\n",
        "\n",
        "  else:\n",
        "    print(\"                                        {0} | count: {1}\".format(key,val))\n",
        "print(trans_l)"
      ],
      "metadata": {
        "colab": {
          "base_uri": "https://localhost:8080/"
        },
        "id": "n-F9Weu4XGzD",
        "outputId": "7a6f9972-0579-4fda-e28c-ccada4919ee8"
      },
      "execution_count": null,
      "outputs": [
        {
          "output_type": "stream",
          "name": "stdout",
          "text": [
            "                                        exon | count: 1648074\n",
            "                                        CDS | count: 886460\n",
            "                                        three_prime_UTR | count: 207390\n",
            "                                        biological_region | count: 180084\n",
            "                                        five_prime_UTR | count: 173461\n",
            "=====> transcript-related feature type: mRNA | count: 110869 <=====\n",
            "=====> transcript-related feature type: lnc_RNA | count: 91534 <=====\n",
            "=====> transcript-related feature type: transcript | count: 26490 <=====\n",
            "                                        ncRNA_gene | count: 25925\n",
            "                                        gene | count: 21507\n",
            "=====> transcript-related feature type: pseudogenic_transcript | count: 15226 <=====\n",
            "                                        pseudogene | count: 15224\n",
            "=====> transcript-related feature type: ncRNA | count: 2211 <=====\n",
            "=====> transcript-related feature type: snRNA | count: 1906 <=====\n",
            "=====> transcript-related feature type: miRNA | count: 1877 <=====\n",
            "=====> transcript-related feature type: unconfirmed_transcript | count: 1143 <=====\n",
            "=====> transcript-related feature type: snoRNA | count: 942 <=====\n",
            "=====> transcript-related feature type: V_gene_segment | count: 252 <=====\n",
            "=====> transcript-related feature type: J_gene_segment | count: 97 <=====\n",
            "=====> transcript-related feature type: scRNA | count: 50 <=====\n",
            "=====> transcript-related feature type: rRNA | count: 49 <=====\n",
            "=====> transcript-related feature type: D_gene_segment | count: 41 <=====\n",
            "=====> transcript-related feature type: C_gene_segment | count: 29 <=====\n",
            "                                        chromosome | count: 25\n",
            "=====> transcript-related feature type: tRNA | count: 22 <=====\n",
            "['mRNA', 'lnc_RNA', 'transcript', 'pseudogenic_transcript', 'ncRNA', 'snRNA', 'miRNA', 'unconfirmed_transcript', 'snoRNA', 'V_gene_segment', 'J_gene_segment', 'scRNA', 'rRNA', 'D_gene_segment', 'C_gene_segment', 'tRNA']\n"
          ]
        }
      ]
    },
    {
      "cell_type": "code",
      "source": [
        "feature_df=pd.DataFrame.from_dict(feature_dict, orient='index', columns=[\"Count\"])\n",
        "print(feature_df)"
      ],
      "metadata": {
        "colab": {
          "base_uri": "https://localhost:8080/"
        },
        "id": "uEIzjxgTMe2K",
        "outputId": "1965aa0b-b6f4-4ed8-8438-09edc7b7719d"
      },
      "execution_count": null,
      "outputs": [
        {
          "output_type": "stream",
          "name": "stdout",
          "text": [
            "                          Count\n",
            "exon                    1648074\n",
            "CDS                      886460\n",
            "three_prime_UTR          207390\n",
            "biological_region        180084\n",
            "five_prime_UTR           173461\n",
            "mRNA                     110869\n",
            "lnc_RNA                   91534\n",
            "transcript                26490\n",
            "ncRNA_gene                25925\n",
            "gene                      21507\n",
            "pseudogenic_transcript    15226\n",
            "pseudogene                15224\n",
            "ncRNA                      2211\n",
            "snRNA                      1906\n",
            "miRNA                      1877\n",
            "unconfirmed_transcript     1143\n",
            "snoRNA                      942\n",
            "V_gene_segment              252\n",
            "J_gene_segment               97\n",
            "scRNA                        50\n",
            "rRNA                         49\n",
            "D_gene_segment               41\n",
            "C_gene_segment               29\n",
            "chromosome                   25\n",
            "tRNA                         22\n"
          ]
        }
      ]
    },
    {
      "cell_type": "markdown",
      "source": [
        "[Step 3]: Get Transcript Information, particularly the column 9 attributes"
      ],
      "metadata": {
        "id": "lDRFhqaZNPpM"
      }
    },
    {
      "cell_type": "markdown",
      "source": [
        "[Step 3.1]: Get survey of all the attributes in the column 9"
      ],
      "metadata": {
        "id": "XSqNkoL_VUI3"
      }
    },
    {
      "cell_type": "markdown",
      "source": [
        "**trancript_support_level explanation**: https://useast.ensembl.org/info/genome/genebuild/transcript_quality_tags.html"
      ],
      "metadata": {
        "id": "TMvZ-ZmEKgE5"
      }
    },
    {
      "cell_type": "code",
      "source": [
        "# Case 1: All transcripts\n",
        "trans_rel = annotation.filter_feature_of_type(trans_l)\n",
        "\n",
        "attr_to_columns = trans_rel.attributes_to_columns()\n",
        "print(attr_to_columns)"
      ],
      "metadata": {
        "colab": {
          "base_uri": "https://localhost:8080/"
        },
        "id": "hjR90OX6gjWw",
        "outputId": "ba21d30d-ca09-42b5-86f1-0404851d3a66"
      },
      "execution_count": null,
      "outputs": [
        {
          "output_type": "stream",
          "name": "stdout",
          "text": [
            "        seq_id   source                    type     start       end score  \\\n",
            "17           1   havana                 lnc_RNA     11869     14409     .   \n",
            "22           1   havana  pseudogenic_transcript     12010     13670     .   \n",
            "30           1   havana  pseudogenic_transcript     14404     29570     .   \n",
            "44           1  mirbase                   miRNA     17369     17436     .   \n",
            "53           1   havana                 lnc_RNA     29554     31097     .   \n",
            "...        ...      ...                     ...       ...       ...   ...   \n",
            "3410858      Y   havana  pseudogenic_transcript  26549425  26549743     .   \n",
            "3410861      Y   havana  pseudogenic_transcript  26586642  26591601     .   \n",
            "3410866      Y   havana  pseudogenic_transcript  26594851  26634652     .   \n",
            "3410881      Y   havana  pseudogenic_transcript  26626520  26627159     .   \n",
            "3410886      Y   havana  pseudogenic_transcript  56855244  56855488     .   \n",
            "\n",
            "        strand phase                                         attributes  \\\n",
            "17           +     .  ID=transcript:ENST00000456328;Parent=gene:ENSG...   \n",
            "22           +     .  ID=transcript:ENST00000450305;Parent=gene:ENSG...   \n",
            "30           -     .  ID=transcript:ENST00000488147;Parent=gene:ENSG...   \n",
            "44           -     .  ID=transcript:ENST00000619216;Parent=gene:ENSG...   \n",
            "53           +     .  ID=transcript:ENST00000473358;Parent=gene:ENSG...   \n",
            "...        ...   ...                                                ...   \n",
            "3410858      +     .  ID=transcript:ENST00000420810;Parent=gene:ENSG...   \n",
            "3410861      -     .  ID=transcript:ENST00000456738;Parent=gene:ENSG...   \n",
            "3410866      -     .  ID=transcript:ENST00000435945;Parent=gene:ENSG...   \n",
            "3410881      -     .  ID=transcript:ENST00000435741;Parent=gene:ENSG...   \n",
            "3410886      +     .  ID=transcript:ENST00000431853;Parent=gene:ENSG...   \n",
            "\n",
            "                                 ID             Name                Parent  \\\n",
            "17       transcript:ENST00000456328      DDX11L2-202  gene:ENSG00000290825   \n",
            "22       transcript:ENST00000450305      DDX11L1-201  gene:ENSG00000223972   \n",
            "30       transcript:ENST00000488147       WASH7P-201  gene:ENSG00000227232   \n",
            "44       transcript:ENST00000619216    MIR6859-1-201  gene:ENSG00000278267   \n",
            "53       transcript:ENST00000473358  MIR1302-2HG-202  gene:ENSG00000243485   \n",
            "...                             ...              ...                   ...   \n",
            "3410858  transcript:ENST00000420810      CYCSP49-201  gene:ENSG00000224240   \n",
            "3410861  transcript:ENST00000456738   SLC25A15P1-201  gene:ENSG00000227629   \n",
            "3410866  transcript:ENST00000435945      PARP4P1-201  gene:ENSG00000237917   \n",
            "3410881  transcript:ENST00000435741       CCNQP2-201  gene:ENSG00000231514   \n",
            "3410886  transcript:ENST00000431853      CTBP2P1-201  gene:ENSG00000235857   \n",
            "\n",
            "                                    biotype ccdsid                      tag  \\\n",
            "17                                   lncRNA   None  basic,Ensembl_canonical   \n",
            "22       transcribed_unprocessed_pseudogene   None  basic,Ensembl_canonical   \n",
            "30                   unprocessed_pseudogene   None  basic,Ensembl_canonical   \n",
            "44                                    miRNA   None  basic,Ensembl_canonical   \n",
            "53                                   lncRNA   None  basic,Ensembl_canonical   \n",
            "...                                     ...    ...                      ...   \n",
            "3410858                processed_pseudogene   None  basic,Ensembl_canonical   \n",
            "3410861              unprocessed_pseudogene   None  basic,Ensembl_canonical   \n",
            "3410866              unprocessed_pseudogene   None  basic,Ensembl_canonical   \n",
            "3410881                processed_pseudogene   None  basic,Ensembl_canonical   \n",
            "3410886                processed_pseudogene   None  basic,Ensembl_canonical   \n",
            "\n",
            "           transcript_id transcript_support_level version  \n",
            "17       ENST00000456328                        1       2  \n",
            "22       ENST00000450305                       NA       2  \n",
            "30       ENST00000488147                       NA       1  \n",
            "44       ENST00000619216                       NA       1  \n",
            "53       ENST00000473358                        5       1  \n",
            "...                  ...                      ...     ...  \n",
            "3410858  ENST00000420810                       NA       1  \n",
            "3410861  ENST00000456738                       NA       1  \n",
            "3410866  ENST00000435945                       NA       1  \n",
            "3410881  ENST00000435741                       NA       1  \n",
            "3410886  ENST00000431853                       NA       1  \n",
            "\n",
            "[252738 rows x 18 columns]\n"
          ]
        }
      ]
    },
    {
      "cell_type": "code",
      "source": [
        "# Case 2: mRNA\n",
        "trans_dir = annotation.filter_feature_of_type([\"mRNA\"])\n",
        "\n",
        "attr_to_columns = trans_dir.attributes_to_columns()\n",
        "print(attr_to_columns)"
      ],
      "metadata": {
        "id": "tLM3cJWhTutF",
        "colab": {
          "base_uri": "https://localhost:8080/"
        },
        "outputId": "da6fbae1-5497-472c-c90e-9633ba72db46"
      },
      "execution_count": null,
      "outputs": [
        {
          "output_type": "stream",
          "name": "stdout",
          "text": [
            "        seq_id          source  type     start       end score strand phase  \\\n",
            "85           1          havana  mRNA     65419     71585     .      +     .   \n",
            "371          1  ensembl_havana  mRNA    450740    451678     .      -     .   \n",
            "503          1  ensembl_havana  mRNA    685716    686654     .      -     .   \n",
            "1098         1          havana  mRNA    923923    944574     .      +     .   \n",
            "1129         1          havana  mRNA    923923    944574     .      +     .   \n",
            "...        ...             ...   ...       ...       ...   ...    ...   ...   \n",
            "3410445      Y          havana  mRNA  25030901  25052104     .      -     .   \n",
            "3410475      Y         ensembl  mRNA  25038098  25044023     .      -     .   \n",
            "3410484      Y          havana  mRNA  25043991  25062548     .      -     .   \n",
            "3410637      Y  ensembl_havana  mRNA  25622117  25624902     .      +     .   \n",
            "3410644      Y          havana  mRNA  25622162  25624338     .      +     .   \n",
            "\n",
            "                                                attributes  \\\n",
            "85       ID=transcript:ENST00000641515;Parent=gene:ENSG...   \n",
            "371      ID=transcript:ENST00000426406;Parent=gene:ENSG...   \n",
            "503      ID=transcript:ENST00000332831;Parent=gene:ENSG...   \n",
            "1098     ID=transcript:ENST00000616016;Parent=gene:ENSG...   \n",
            "1129     ID=transcript:ENST00000618323;Parent=gene:ENSG...   \n",
            "...                                                    ...   \n",
            "3410445  ID=transcript:ENST00000382287;Parent=gene:ENSG...   \n",
            "3410475  ID=transcript:ENST00000618574;Parent=gene:ENSG...   \n",
            "3410484  ID=transcript:ENST00000602680;Parent=gene:ENSG...   \n",
            "3410637  ID=transcript:ENST00000306609;Parent=gene:ENSG...   \n",
            "3410644  ID=transcript:ENST00000361963;Parent=gene:ENSG...   \n",
            "\n",
            "                                 ID        Name                Parent  \\\n",
            "85       transcript:ENST00000641515   OR4F5-201  gene:ENSG00000186092   \n",
            "371      transcript:ENST00000426406  OR4F29-201  gene:ENSG00000284733   \n",
            "503      transcript:ENST00000332831  OR4F16-201  gene:ENSG00000284662   \n",
            "1098     transcript:ENST00000616016  SAMD11-209  gene:ENSG00000187634   \n",
            "1129     transcript:ENST00000618323  SAMD11-213  gene:ENSG00000187634   \n",
            "...                             ...         ...                   ...   \n",
            "3410445  transcript:ENST00000382287   BPY2C-201  gene:ENSG00000185894   \n",
            "3410475  transcript:ENST00000618574   BPY2C-204  gene:ENSG00000185894   \n",
            "3410484  transcript:ENST00000602680   BPY2C-203  gene:ENSG00000185894   \n",
            "3410637  transcript:ENST00000306609    CDY1-201  gene:ENSG00000172288   \n",
            "3410644  transcript:ENST00000361963    CDY1-202  gene:ENSG00000172288   \n",
            "\n",
            "                biotype       ccdsid                                  tag  \\\n",
            "85       protein_coding         None  basic,Ensembl_canonical,MANE_Select   \n",
            "371      protein_coding  CCDS72675.1  basic,Ensembl_canonical,MANE_Select   \n",
            "503      protein_coding  CCDS41221.1  basic,Ensembl_canonical,MANE_Select   \n",
            "1098     protein_coding         None  basic,Ensembl_canonical,MANE_Select   \n",
            "1129     protein_coding         None                                basic   \n",
            "...                 ...          ...                                  ...   \n",
            "3410445  protein_coding  CCDS44030.1  basic,Ensembl_canonical,MANE_Select   \n",
            "3410475  protein_coding  CCDS44030.1                                basic   \n",
            "3410484  protein_coding         None                                 None   \n",
            "3410637  protein_coding  CCDS14801.1  basic,Ensembl_canonical,MANE_Select   \n",
            "3410644  protein_coding  CCDS14802.1                                basic   \n",
            "\n",
            "           transcript_id             transcript_support_level version  \n",
            "85       ENST00000641515                                 None       2  \n",
            "371      ENST00000426406  NA (assigned to previous version 2)       4  \n",
            "503      ENST00000332831  NA (assigned to previous version 3)       5  \n",
            "1098     ENST00000616016   5 (assigned to previous version 4)       5  \n",
            "1129     ENST00000618323   5 (assigned to previous version 4)       5  \n",
            "...                  ...                                  ...     ...  \n",
            "3410445  ENST00000382287                                    1       5  \n",
            "3410475  ENST00000618574                                    1       1  \n",
            "3410484  ENST00000602680                                    4       1  \n",
            "3410637  ENST00000306609   1 (assigned to previous version 4)       5  \n",
            "3410644  ENST00000361963                                   NA       3  \n",
            "\n",
            "[110869 rows x 18 columns]\n"
          ]
        }
      ]
    },
    {
      "cell_type": "code",
      "source": [
        "# Case 3: 'V_gene_segment', 'J_gene_segment', 'D_gene_segment', 'C_gene_segment'\n",
        "trans_dir = annotation.filter_feature_of_type(['V_gene_segment', 'J_gene_segment', 'D_gene_segment', 'C_gene_segment'])\n",
        "\n",
        "attr_to_columns = trans_dir.attributes_to_columns()\n",
        "print(attr_to_columns)"
      ],
      "metadata": {
        "colab": {
          "base_uri": "https://localhost:8080/"
        },
        "id": "uQ_hfqjO_ZjZ",
        "outputId": "03281b73-5b92-4b73-d89d-94c87427096e"
      },
      "execution_count": null,
      "outputs": [
        {
          "output_type": "stream",
          "name": "stdout",
          "text": [
            "        seq_id  source            type      start        end score strand  \\\n",
            "902817      14  havana  V_gene_segment   21621838   21622567     .      +   \n",
            "902830      14  havana  V_gene_segment   21642889   21643578     .      +   \n",
            "902867      14  havana  V_gene_segment   21712321   21712843     .      +   \n",
            "902878      14  havana  V_gene_segment   21723713   21724321     .      +   \n",
            "902885      14  havana  V_gene_segment   21736152   21736982     .      +   \n",
            "...        ...     ...             ...        ...        ...   ...    ...   \n",
            "3009568      7  havana  J_gene_segment  142797239  142797291     .      +   \n",
            "3009573      7  havana  J_gene_segment  142797456  142797502     .      +   \n",
            "3009580      7  havana  C_gene_segment  142801041  142802748     .      +   \n",
            "3009592      7  havana  V_gene_segment  142812586  142813399     .      -   \n",
            "3172422      9  havana  V_gene_segment   33617845   33618508     .      +   \n",
            "\n",
            "        phase                                         attributes  \\\n",
            "902817      .  ID=transcript:ENST00000542354;Parent=gene:ENSG...   \n",
            "902830      .  ID=transcript:ENST00000390423;Parent=gene:ENSG...   \n",
            "902867      .  ID=transcript:ENST00000390424;Parent=gene:ENSG...   \n",
            "902878      .  ID=transcript:ENST00000390425;Parent=gene:ENSG...   \n",
            "902885      .  ID=transcript:ENST00000390426;Parent=gene:ENSG...   \n",
            "...       ...                                                ...   \n",
            "3009568     .  ID=transcript:ENST00000390418;Parent=gene:ENSG...   \n",
            "3009573     .  ID=transcript:ENST00000390419;Parent=gene:ENSG...   \n",
            "3009580     .  ID=transcript:ENST00000466254;Parent=gene:ENSG...   \n",
            "3009592     .  ID=transcript:ENST00000417977;Parent=gene:ENSG...   \n",
            "3172422     .  ID=transcript:ENST00000379435;Parent=gene:ENSG...   \n",
            "\n",
            "                                 ID             Name                Parent  \\\n",
            "902817   transcript:ENST00000542354      TRAV1-1-201  gene:ENSG00000255569   \n",
            "902830   transcript:ENST00000390423      TRAV1-2-201  gene:ENSG00000256553   \n",
            "902867   transcript:ENST00000390424        TRAV2-201  gene:ENSG00000211776   \n",
            "902878   transcript:ENST00000390425        TRAV3-201  gene:ENSG00000211777   \n",
            "902885   transcript:ENST00000390426        TRAV4-201  gene:ENSG00000211778   \n",
            "...                             ...              ...                   ...   \n",
            "3009568  transcript:ENST00000390418      TRBJ2-6-201  gene:ENSG00000211770   \n",
            "3009573  transcript:ENST00000390419      TRBJ2-7-201  gene:ENSG00000211771   \n",
            "3009580  transcript:ENST00000466254        TRBC2-201  gene:ENSG00000211772   \n",
            "3009592  transcript:ENST00000417977       TRBV30-201  gene:ENSG00000237254   \n",
            "3172422  transcript:ENST00000379435  TRBV20OR9-2-201  gene:ENSG00000205274   \n",
            "\n",
            "           biotype                      tag    transcript_id  \\\n",
            "902817   TR_V_gene  basic,Ensembl_canonical  ENST00000542354   \n",
            "902830   TR_V_gene  basic,Ensembl_canonical  ENST00000390423   \n",
            "902867   TR_V_gene  basic,Ensembl_canonical  ENST00000390424   \n",
            "902878   TR_V_gene  basic,Ensembl_canonical  ENST00000390425   \n",
            "902885   TR_V_gene  basic,Ensembl_canonical  ENST00000390426   \n",
            "...            ...                      ...              ...   \n",
            "3009568  TR_J_gene  basic,Ensembl_canonical  ENST00000390418   \n",
            "3009573  TR_J_gene  basic,Ensembl_canonical  ENST00000390419   \n",
            "3009580  TR_C_gene  basic,Ensembl_canonical  ENST00000466254   \n",
            "3009592  TR_V_gene  basic,Ensembl_canonical  ENST00000417977   \n",
            "3172422  TR_V_gene  basic,Ensembl_canonical  ENST00000379435   \n",
            "\n",
            "                    transcript_support_level version  \n",
            "902817                                    NA       1  \n",
            "902830                                    NA       2  \n",
            "902867                                    NA       2  \n",
            "902878                                    NA       2  \n",
            "902885                                    NA       2  \n",
            "...                                      ...     ...  \n",
            "3009568                                   NA       1  \n",
            "3009573                                   NA       1  \n",
            "3009580                                   NA       1  \n",
            "3009592                                   NA       2  \n",
            "3172422  NA (assigned to previous version 3)       5  \n",
            "\n",
            "[419 rows x 17 columns]\n"
          ]
        }
      ]
    },
    {
      "cell_type": "markdown",
      "source": [
        "[Step 3.2]: Define two functions used for transcript data extraction and analysis"
      ],
      "metadata": {
        "id": "pbuYaFXFWO8p"
      }
    },
    {
      "cell_type": "code",
      "source": [
        "def feature_len(start, end):\n",
        "    \"\"\"\n",
        "    :param start: feature's start\n",
        "    :param end: feature's end\n",
        "    :return length: feature's overall length\n",
        "    \"\"\"\n",
        "    length = abs(int(end) - int(start) + 1)\n",
        "    return length"
      ],
      "metadata": {
        "id": "FmmAFqacxFUY"
      },
      "execution_count": null,
      "outputs": []
    },
    {
      "cell_type": "code",
      "source": [
        "def trans_stats(gff_fn, type_list=[]):\n",
        "  ##############################################################################################\n",
        "  # This function only takes two arguments: (gff_fn, type_list=[])\n",
        "  # If type is an empty list, the it will do transcript stats for all different types of transcripts\n",
        "  # Otherwise, it will do gene stats for a list of individual types:\n",
        "  #   'mRNA', 'lnc_RNA', 'transcript', 'pseudogenic_transcript', 'ncRNA', 'snRNA', 'miRNA',\n",
        "  #   'unconfirmed_transcript', 'snoRNA', 'scRNA', 'rRNA', 'tRNA',\n",
        "  #   'V_gene_segment', 'J_gene_segment', 'D_gene_segment', 'C_gene_segment'.\n",
        "  # The value of type must be from the \"type\" column in GFF3 files\n",
        "  ##############################################################################################\n",
        "  \"\"\"\n",
        "  Find count, shortest, longest, and average length\n",
        "  of gene features in GFF file\n",
        "  Uses: gffpandas, pandas, feature_len()\n",
        "  :param gff_fn: file name of desired GFF3 file\n",
        "  :return gff_chrom_stats: dict of max and min length and # of transcripts for whole GFF3 file\n",
        "  :return gff_chrom_df: Pandas df of all desired transcript features in GFF3 file; col correspond to GFF3 col with attributes' col tags as own columns\n",
        "  \"\"\"\n",
        "\n",
        "  print(\"Inside foo()\")\n",
        "  annotation = gffpd.read_gff3(gff_fn)\n",
        "\n",
        "  if type_list == []:\n",
        "    type_list = ['mRNA', 'lnc_RNA', 'transcript', 'pseudogenic_transcript', 'ncRNA', 'snRNA', 'miRNA', 'unconfirmed_transcript', 'snoRNA', 'scRNA', 'rRNA', 'tRNA', 'V_gene_segment', 'J_gene_segment', 'D_gene_segment', 'C_gene_segment']\n",
        "\n",
        "  gff_tr = annotation.filter_feature_of_type(type_list)\n",
        "  gff_tr_stats = gff_tr.stats_dic()\n",
        "\n",
        "  gff_tr_df = gff_tr.attributes_to_columns()  # split tags into own df col\n",
        "\n",
        "  seq_len = gff_tr_df.apply(lambda x: feature_len(x[\"start\"], x[\"end\"]), axis=1)  # return Series of chrom len\n",
        "  gff_tr_df = gff_tr_df.assign(length=seq_len)  # add chromosome len to df\n",
        "  # Rename all columns into small letters\n",
        "  gff_tr_df.rename(columns={\"ID\":\"id\", \"Name\":\"name\", \"Parent\":\"parent\"}, inplace=True)\n",
        "\n",
        "  # Include dataframe rows whose \"type\" columns are in the type_list\n",
        "  gff_tr_df = gff_tr_df.loc[gff_tr_df[\"type\"].isin(type_list)]\n",
        "  print(\"The following types is/are used for stats:\", type_list)\n",
        "\n",
        "  # number of transcript features\n",
        "  print(\"Counts of each feature are:\")\n",
        "  tr_num = gff_tr_df[\"type\"].value_counts().to_string()\n",
        "  print(tr_num)\n",
        "\n",
        "  # set index col\n",
        "  gff_tr_df.reset_index(inplace=True)\n",
        "  gff_tr_df.index += 1\n",
        "  gff_tr_df.pop(\"index\")\n",
        "\n",
        "  # shortest and longest transcript features\n",
        "  short_label = gff_tr_df.loc[gff_tr_df[\"length\"] == min(gff_tr_df[\"length\"]), \"transcript_id\"].iloc[0]\n",
        "  short = gff_tr_df.loc[gff_tr_df[\"transcript_id\"]==short_label, \"length\"].iloc[0]\n",
        "  short_type = gff_tr_df.loc[gff_tr_df[\"transcript_id\"]==short_label, \"type\"].iloc[0]\n",
        "  long_label = gff_tr_df.loc[gff_tr_df[\"length\"] == max(gff_tr_df[\"length\"]), \"transcript_id\"].iloc[0]\n",
        "  long = gff_tr_df.loc[gff_tr_df[\"transcript_id\"]==long_label, \"length\"].iloc[0]\n",
        "  long_type = gff_tr_df.loc[gff_tr_df[\"transcript_id\"]==long_label, \"type\"].iloc[0]\n",
        "\n",
        "  tr_sum = gff_tr_df[\"length\"].sum()\n",
        "  total_tr = len(gff_tr_df)\n",
        "  #print(\"Number of gene features kept\", total_tr)\n",
        "  average = tr_sum / total_tr\n",
        "\n",
        "  print(\"The shortest transcript feature length is: [{0}] with the type: [{1}] and the ID: [{2}]\".format( short, short_type, short_label))\n",
        "  print(\"The longest transcript feature length is: [{0}] with the type: [{1}] and the ID: [{2}]\".format( long, long_type, long_label))\n",
        "  print(\"The average length for transcript feature is: [{0}]\".format(average))\n",
        "\n",
        "  return gff_tr_stats, gff_tr_df"
      ],
      "metadata": {
        "id": "opdPZAosxLxa"
      },
      "execution_count": null,
      "outputs": []
    },
    {
      "cell_type": "markdown",
      "source": [
        "[Step 3.3]: Get the transcript data by calling two aforementioned functions"
      ],
      "metadata": {
        "id": "dON6fSe7Ypk7"
      }
    },
    {
      "cell_type": "code",
      "source": [
        "# Case 1: all transcript types\n",
        "stats_all, df_all = trans_stats(hg38gff, [])"
      ],
      "metadata": {
        "colab": {
          "base_uri": "https://localhost:8080/"
        },
        "id": "zVh0rtIi3t-O",
        "outputId": "453f1d9c-c7ef-472b-8097-f113a827535e"
      },
      "execution_count": null,
      "outputs": [
        {
          "output_type": "stream",
          "name": "stdout",
          "text": [
            "Inside foo()\n"
          ]
        },
        {
          "output_type": "stream",
          "name": "stderr",
          "text": [
            "/usr/local/lib/python3.10/dist-packages/gffpandas/gffpandas.py:32: DtypeWarning: Columns (0) have mixed types. Specify dtype option on import or set low_memory=False.\n",
            "  self.df = pd.read_table(self._gff_file, comment='#',\n"
          ]
        },
        {
          "output_type": "stream",
          "name": "stdout",
          "text": [
            "The following types is/are used for stats: ['mRNA', 'lnc_RNA', 'transcript', 'pseudogenic_transcript', 'ncRNA', 'snRNA', 'miRNA', 'unconfirmed_transcript', 'snoRNA', 'scRNA', 'rRNA', 'tRNA', 'V_gene_segment', 'J_gene_segment', 'D_gene_segment', 'C_gene_segment']\n",
            "Counts of each feature are:\n",
            "mRNA                      110869\n",
            "lnc_RNA                    91534\n",
            "transcript                 26490\n",
            "pseudogenic_transcript     15226\n",
            "ncRNA                       2211\n",
            "snRNA                       1906\n",
            "miRNA                       1877\n",
            "unconfirmed_transcript      1143\n",
            "snoRNA                       942\n",
            "V_gene_segment               252\n",
            "J_gene_segment                97\n",
            "scRNA                         50\n",
            "rRNA                          49\n",
            "D_gene_segment                41\n",
            "C_gene_segment                29\n",
            "tRNA                          22\n",
            "The shortest transcript feature length is: [8] with the type: [D_gene_segment] and the ID: [ENST00000415118]\n",
            "The longest transcript feature length is: [2471657] with the type: [mRNA] and the ID: [ENST00000641259]\n",
            "The average length for transcript feature is: [41285.96602806068]\n"
          ]
        }
      ]
    },
    {
      "cell_type": "code",
      "source": [
        "# Case 1: all transcript types stats\n",
        "print(stats_all)"
      ],
      "metadata": {
        "colab": {
          "base_uri": "https://localhost:8080/"
        },
        "id": "0P4Pqw1jvmJG",
        "outputId": "e45d8e14-f627-427f-8a34-0fbbd1f2d7ff"
      },
      "execution_count": null,
      "outputs": [
        {
          "output_type": "stream",
          "name": "stdout",
          "text": [
            "{'Maximal_bp_length': 2471656, 'Minimal_bp_length': 7, 'Counted_strands': {'+': 129655, '-': 123083}, 'Counted_feature_types': {'mRNA': 110869, 'lnc_RNA': 91534, 'transcript': 26490, 'pseudogenic_transcript': 15226, 'ncRNA': 2211, 'snRNA': 1906, 'miRNA': 1877, 'unconfirmed_transcript': 1143, 'snoRNA': 942, 'V_gene_segment': 252, 'J_gene_segment': 97, 'scRNA': 50, 'rRNA': 49, 'D_gene_segment': 41, 'C_gene_segment': 29, 'tRNA': 22}}\n"
          ]
        }
      ]
    },
    {
      "cell_type": "code",
      "source": [
        "# Case 1: printout of all transcript types df\n",
        "print(df_all)"
      ],
      "metadata": {
        "colab": {
          "base_uri": "https://localhost:8080/"
        },
        "id": "G4yQes1d3wTD",
        "outputId": "e2d6aa56-83f2-4365-ffdc-21f196e34559"
      },
      "execution_count": null,
      "outputs": [
        {
          "output_type": "stream",
          "name": "stdout",
          "text": [
            "       seq_id   source                    type     start       end score  \\\n",
            "1           1   havana                 lnc_RNA     11869     14409     .   \n",
            "2           1   havana  pseudogenic_transcript     12010     13670     .   \n",
            "3           1   havana  pseudogenic_transcript     14404     29570     .   \n",
            "4           1  mirbase                   miRNA     17369     17436     .   \n",
            "5           1   havana                 lnc_RNA     29554     31097     .   \n",
            "...       ...      ...                     ...       ...       ...   ...   \n",
            "252734      Y   havana  pseudogenic_transcript  26549425  26549743     .   \n",
            "252735      Y   havana  pseudogenic_transcript  26586642  26591601     .   \n",
            "252736      Y   havana  pseudogenic_transcript  26594851  26634652     .   \n",
            "252737      Y   havana  pseudogenic_transcript  26626520  26627159     .   \n",
            "252738      Y   havana  pseudogenic_transcript  56855244  56855488     .   \n",
            "\n",
            "       strand phase                                         attributes  \\\n",
            "1           +     .  ID=transcript:ENST00000456328;Parent=gene:ENSG...   \n",
            "2           +     .  ID=transcript:ENST00000450305;Parent=gene:ENSG...   \n",
            "3           -     .  ID=transcript:ENST00000488147;Parent=gene:ENSG...   \n",
            "4           -     .  ID=transcript:ENST00000619216;Parent=gene:ENSG...   \n",
            "5           +     .  ID=transcript:ENST00000473358;Parent=gene:ENSG...   \n",
            "...       ...   ...                                                ...   \n",
            "252734      +     .  ID=transcript:ENST00000420810;Parent=gene:ENSG...   \n",
            "252735      -     .  ID=transcript:ENST00000456738;Parent=gene:ENSG...   \n",
            "252736      -     .  ID=transcript:ENST00000435945;Parent=gene:ENSG...   \n",
            "252737      -     .  ID=transcript:ENST00000435741;Parent=gene:ENSG...   \n",
            "252738      +     .  ID=transcript:ENST00000431853;Parent=gene:ENSG...   \n",
            "\n",
            "                                id             name                parent  \\\n",
            "1       transcript:ENST00000456328      DDX11L2-202  gene:ENSG00000290825   \n",
            "2       transcript:ENST00000450305      DDX11L1-201  gene:ENSG00000223972   \n",
            "3       transcript:ENST00000488147       WASH7P-201  gene:ENSG00000227232   \n",
            "4       transcript:ENST00000619216    MIR6859-1-201  gene:ENSG00000278267   \n",
            "5       transcript:ENST00000473358  MIR1302-2HG-202  gene:ENSG00000243485   \n",
            "...                            ...              ...                   ...   \n",
            "252734  transcript:ENST00000420810      CYCSP49-201  gene:ENSG00000224240   \n",
            "252735  transcript:ENST00000456738   SLC25A15P1-201  gene:ENSG00000227629   \n",
            "252736  transcript:ENST00000435945      PARP4P1-201  gene:ENSG00000237917   \n",
            "252737  transcript:ENST00000435741       CCNQP2-201  gene:ENSG00000231514   \n",
            "252738  transcript:ENST00000431853      CTBP2P1-201  gene:ENSG00000235857   \n",
            "\n",
            "                                   biotype ccdsid                      tag  \\\n",
            "1                                   lncRNA   None  basic,Ensembl_canonical   \n",
            "2       transcribed_unprocessed_pseudogene   None  basic,Ensembl_canonical   \n",
            "3                   unprocessed_pseudogene   None  basic,Ensembl_canonical   \n",
            "4                                    miRNA   None  basic,Ensembl_canonical   \n",
            "5                                   lncRNA   None  basic,Ensembl_canonical   \n",
            "...                                    ...    ...                      ...   \n",
            "252734                processed_pseudogene   None  basic,Ensembl_canonical   \n",
            "252735              unprocessed_pseudogene   None  basic,Ensembl_canonical   \n",
            "252736              unprocessed_pseudogene   None  basic,Ensembl_canonical   \n",
            "252737                processed_pseudogene   None  basic,Ensembl_canonical   \n",
            "252738                processed_pseudogene   None  basic,Ensembl_canonical   \n",
            "\n",
            "          transcript_id transcript_support_level version  length  \n",
            "1       ENST00000456328                        1       2    2541  \n",
            "2       ENST00000450305                       NA       2    1661  \n",
            "3       ENST00000488147                       NA       1   15167  \n",
            "4       ENST00000619216                       NA       1      68  \n",
            "5       ENST00000473358                        5       1    1544  \n",
            "...                 ...                      ...     ...     ...  \n",
            "252734  ENST00000420810                       NA       1     319  \n",
            "252735  ENST00000456738                       NA       1    4960  \n",
            "252736  ENST00000435945                       NA       1   39802  \n",
            "252737  ENST00000435741                       NA       1     640  \n",
            "252738  ENST00000431853                       NA       1     245  \n",
            "\n",
            "[252738 rows x 19 columns]\n"
          ]
        }
      ]
    },
    {
      "cell_type": "code",
      "source": [
        "# Case 2: \"mRNA\" only\n",
        "stats_mRNA, df_mRNA = trans_stats(hg38gff, [\"mRNA\"])"
      ],
      "metadata": {
        "colab": {
          "base_uri": "https://localhost:8080/"
        },
        "id": "SMdgtR3YxQjp",
        "outputId": "3b22943c-948f-4bef-b07d-a41d933326ee"
      },
      "execution_count": null,
      "outputs": [
        {
          "output_type": "stream",
          "name": "stdout",
          "text": [
            "Inside foo()\n"
          ]
        },
        {
          "output_type": "stream",
          "name": "stderr",
          "text": [
            "/usr/local/lib/python3.10/dist-packages/gffpandas/gffpandas.py:32: DtypeWarning: Columns (0) have mixed types. Specify dtype option on import or set low_memory=False.\n",
            "  self.df = pd.read_table(self._gff_file, comment='#',\n"
          ]
        },
        {
          "output_type": "stream",
          "name": "stdout",
          "text": [
            "The following types is/are used for stats: ['mRNA']\n",
            "Counts of each feature are:\n",
            "mRNA    110869\n",
            "The shortest transcript feature length is: [27] with the type: [mRNA] and the ID: [ENST00000692460]\n",
            "The longest transcript feature length is: [2471657] with the type: [mRNA] and the ID: [ENST00000641259]\n",
            "The average length for transcript feature is: [58265.87678250909]\n"
          ]
        }
      ]
    },
    {
      "cell_type": "code",
      "source": [
        "# Case 2: \"mRNA\" only stats\n",
        "####### length is off by one in this dictionary\n",
        "print(stats_mRNA)"
      ],
      "metadata": {
        "colab": {
          "base_uri": "https://localhost:8080/"
        },
        "id": "GAFQnbDyykKr",
        "outputId": "3fd2069b-74ab-4a85-cd60-4e373284b3fc"
      },
      "execution_count": null,
      "outputs": [
        {
          "output_type": "stream",
          "name": "stdout",
          "text": [
            "{'Maximal_bp_length': 2471656, 'Minimal_bp_length': 26, 'Counted_strands': {'+': 56308, '-': 54561}, 'Counted_feature_types': {'mRNA': 110869}}\n"
          ]
        }
      ]
    },
    {
      "cell_type": "code",
      "source": [
        "# Case 2: printout of mRNA only df\n",
        "print(df_mRNA)"
      ],
      "metadata": {
        "id": "yQlffPTEylTT",
        "colab": {
          "base_uri": "https://localhost:8080/"
        },
        "outputId": "da3fdfa0-cdcd-49e3-f748-f21b42c7f758"
      },
      "execution_count": null,
      "outputs": [
        {
          "output_type": "stream",
          "name": "stdout",
          "text": [
            "       seq_id          source  type     start       end score strand phase  \\\n",
            "1           1          havana  mRNA     65419     71585     .      +     .   \n",
            "2           1  ensembl_havana  mRNA    450740    451678     .      -     .   \n",
            "3           1  ensembl_havana  mRNA    685716    686654     .      -     .   \n",
            "4           1          havana  mRNA    923923    944574     .      +     .   \n",
            "5           1          havana  mRNA    923923    944574     .      +     .   \n",
            "...       ...             ...   ...       ...       ...   ...    ...   ...   \n",
            "110865      Y          havana  mRNA  25030901  25052104     .      -     .   \n",
            "110866      Y         ensembl  mRNA  25038098  25044023     .      -     .   \n",
            "110867      Y          havana  mRNA  25043991  25062548     .      -     .   \n",
            "110868      Y  ensembl_havana  mRNA  25622117  25624902     .      +     .   \n",
            "110869      Y          havana  mRNA  25622162  25624338     .      +     .   \n",
            "\n",
            "                                               attributes  \\\n",
            "1       ID=transcript:ENST00000641515;Parent=gene:ENSG...   \n",
            "2       ID=transcript:ENST00000426406;Parent=gene:ENSG...   \n",
            "3       ID=transcript:ENST00000332831;Parent=gene:ENSG...   \n",
            "4       ID=transcript:ENST00000616016;Parent=gene:ENSG...   \n",
            "5       ID=transcript:ENST00000618323;Parent=gene:ENSG...   \n",
            "...                                                   ...   \n",
            "110865  ID=transcript:ENST00000382287;Parent=gene:ENSG...   \n",
            "110866  ID=transcript:ENST00000618574;Parent=gene:ENSG...   \n",
            "110867  ID=transcript:ENST00000602680;Parent=gene:ENSG...   \n",
            "110868  ID=transcript:ENST00000306609;Parent=gene:ENSG...   \n",
            "110869  ID=transcript:ENST00000361963;Parent=gene:ENSG...   \n",
            "\n",
            "                                id        name                parent  \\\n",
            "1       transcript:ENST00000641515   OR4F5-201  gene:ENSG00000186092   \n",
            "2       transcript:ENST00000426406  OR4F29-201  gene:ENSG00000284733   \n",
            "3       transcript:ENST00000332831  OR4F16-201  gene:ENSG00000284662   \n",
            "4       transcript:ENST00000616016  SAMD11-209  gene:ENSG00000187634   \n",
            "5       transcript:ENST00000618323  SAMD11-213  gene:ENSG00000187634   \n",
            "...                            ...         ...                   ...   \n",
            "110865  transcript:ENST00000382287   BPY2C-201  gene:ENSG00000185894   \n",
            "110866  transcript:ENST00000618574   BPY2C-204  gene:ENSG00000185894   \n",
            "110867  transcript:ENST00000602680   BPY2C-203  gene:ENSG00000185894   \n",
            "110868  transcript:ENST00000306609    CDY1-201  gene:ENSG00000172288   \n",
            "110869  transcript:ENST00000361963    CDY1-202  gene:ENSG00000172288   \n",
            "\n",
            "               biotype       ccdsid                                  tag  \\\n",
            "1       protein_coding         None  basic,Ensembl_canonical,MANE_Select   \n",
            "2       protein_coding  CCDS72675.1  basic,Ensembl_canonical,MANE_Select   \n",
            "3       protein_coding  CCDS41221.1  basic,Ensembl_canonical,MANE_Select   \n",
            "4       protein_coding         None  basic,Ensembl_canonical,MANE_Select   \n",
            "5       protein_coding         None                                basic   \n",
            "...                ...          ...                                  ...   \n",
            "110865  protein_coding  CCDS44030.1  basic,Ensembl_canonical,MANE_Select   \n",
            "110866  protein_coding  CCDS44030.1                                basic   \n",
            "110867  protein_coding         None                                 None   \n",
            "110868  protein_coding  CCDS14801.1  basic,Ensembl_canonical,MANE_Select   \n",
            "110869  protein_coding  CCDS14802.1                                basic   \n",
            "\n",
            "          transcript_id             transcript_support_level version  length  \n",
            "1       ENST00000641515                                 None       2    6167  \n",
            "2       ENST00000426406  NA (assigned to previous version 2)       4     939  \n",
            "3       ENST00000332831  NA (assigned to previous version 3)       5     939  \n",
            "4       ENST00000616016   5 (assigned to previous version 4)       5   20652  \n",
            "5       ENST00000618323   5 (assigned to previous version 4)       5   20652  \n",
            "...                 ...                                  ...     ...     ...  \n",
            "110865  ENST00000382287                                    1       5   21204  \n",
            "110866  ENST00000618574                                    1       1    5926  \n",
            "110867  ENST00000602680                                    4       1   18558  \n",
            "110868  ENST00000306609   1 (assigned to previous version 4)       5    2786  \n",
            "110869  ENST00000361963                                   NA       3    2177  \n",
            "\n",
            "[110869 rows x 19 columns]\n"
          ]
        }
      ]
    },
    {
      "cell_type": "code",
      "source": [
        "# Case 2: 'V_gene_segment', 'J_gene_segment', 'D_gene_segment', 'C_gene_segment'\n",
        "stats_segment, df_segment = trans_stats(hg38gff, ['V_gene_segment', 'J_gene_segment', 'D_gene_segment', 'C_gene_segment'])"
      ],
      "metadata": {
        "colab": {
          "base_uri": "https://localhost:8080/"
        },
        "id": "86slq3asBZaj",
        "outputId": "87b7c7c2-5100-4acb-b19d-6fec85a81dea"
      },
      "execution_count": null,
      "outputs": [
        {
          "output_type": "stream",
          "name": "stdout",
          "text": [
            "Inside foo()\n"
          ]
        },
        {
          "output_type": "stream",
          "name": "stderr",
          "text": [
            "/usr/local/lib/python3.10/dist-packages/gffpandas/gffpandas.py:32: DtypeWarning: Columns (0) have mixed types. Specify dtype option on import or set low_memory=False.\n",
            "  self.df = pd.read_table(self._gff_file, comment='#',\n"
          ]
        },
        {
          "output_type": "stream",
          "name": "stdout",
          "text": [
            "The following types is/are used for stats: ['V_gene_segment', 'J_gene_segment', 'D_gene_segment', 'C_gene_segment']\n",
            "Counts of each feature are:\n",
            "V_gene_segment    252\n",
            "J_gene_segment     97\n",
            "D_gene_segment     41\n",
            "C_gene_segment     29\n",
            "The shortest transcript feature length is: [8] with the type: [D_gene_segment] and the ID: [ENST00000415118]\n",
            "The longest transcript feature length is: [9993] with the type: [C_gene_segment] and the ID: [ENST00000436911]\n",
            "The average length for transcript feature is: [589.4892601431981]\n"
          ]
        }
      ]
    },
    {
      "cell_type": "markdown",
      "source": [
        "[Step 3.4]: Save data in CSV or excel"
      ],
      "metadata": {
        "id": "j5GK5sIhYYRD"
      }
    },
    {
      "cell_type": "code",
      "source": [
        "df_mRNA.to_csv(\"gff_transcript_mRNA.csv\")\n",
        "df_all.to_csv(\"gff_transcript_all.csv\")\n",
        "df_segment.to_csv(\"gff_transcript_segment\")\n"
      ],
      "metadata": {
        "id": "E-f_hjB_ZAHc"
      },
      "execution_count": null,
      "outputs": []
    },
    {
      "cell_type": "code",
      "source": [
        "!ls -al"
      ],
      "metadata": {
        "colab": {
          "base_uri": "https://localhost:8080/"
        },
        "id": "YXxPcC_cZV3e",
        "outputId": "44e1940e-24fc-4a62-d3df-f76e6e2b3beb"
      },
      "execution_count": null,
      "outputs": [
        {
          "output_type": "stream",
          "name": "stdout",
          "text": [
            "total 122508\n",
            "drwxr-xr-x 1 root root     4096 Jun  6 14:17 .\n",
            "drwxr-xr-x 1 root root     4096 Jun  6 14:07 ..\n",
            "drwxr-xr-x 4 root root     4096 Jun  2 13:38 .config\n",
            "drwx------ 6 root root     4096 Jun  6 14:16 drive\n",
            "-rw-r--r-- 1 root root 85861315 Jun  6 14:23 gff_transcript_all.csv\n",
            "-rw-r--r-- 1 root root 39406032 Jun  6 14:23 gff_transcript_mRNA.csv\n",
            "-rw-r--r-- 1 root root   153294 Jun  6 14:23 gff_transcript_segment\n",
            "drwxr-xr-x 1 root root     4096 Jun  2 13:39 sample_data\n"
          ]
        }
      ]
    },
    {
      "cell_type": "code",
      "source": [
        "df_mRNA.to_csv(\"/content/drive/My Drive/Lab_share/Lab_member/SophiaBick/HughesIntern/gff_transcript_mRNA.csv\")\n",
        "df_all.to_csv(\"/content/drive/My Drive/Lab_share/Lab_member/SophiaBick/HughesIntern/gff_transcript_all.csv\")\n",
        "df_segment.to_csv(\"/content/drive/My Drive/Lab_share/Lab_member/SophiaBick/HughesIntern/gff_transcript_segment\")\n"
      ],
      "metadata": {
        "id": "_8mnX8B_aQmF"
      },
      "execution_count": null,
      "outputs": []
    }
  ]
}
