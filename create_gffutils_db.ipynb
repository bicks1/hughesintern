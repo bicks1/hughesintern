{
  "nbformat": 4,
  "nbformat_minor": 0,
  "metadata": {
    "colab": {
      "provenance": [],
      "authorship_tag": "ABX9TyP5qZ7FQQnOjU9uh9AujEoL",
      "include_colab_link": true
    },
    "kernelspec": {
      "name": "python3",
      "display_name": "Python 3"
    },
    "language_info": {
      "name": "python"
    }
  },
  "cells": [
    {
      "cell_type": "markdown",
      "metadata": {
        "id": "view-in-github",
        "colab_type": "text"
      },
      "source": [
        "<a href=\"https://colab.research.google.com/github/bicks1/hughesintern/blob/main/create_gffutils_db.ipynb\" target=\"_parent\"><img src=\"https://colab.research.google.com/assets/colab-badge.svg\" alt=\"Open In Colab\"/></a>"
      ]
    },
    {
      "cell_type": "markdown",
      "source": [
        "This file will create a database from a GFF3 file (our case, Human GFF3 Ensembl file) and save the database file to Google Drive. It only needs to be run once unless a new GFF3 file is desired."
      ],
      "metadata": {
        "id": "rYTyPBXGNj9U"
      }
    },
    {
      "cell_type": "code",
      "execution_count": null,
      "metadata": {
        "id": "FSm55tKPvcou"
      },
      "outputs": [],
      "source": [
        "!pip install gffutils  # install gffutils module"
      ]
    },
    {
      "cell_type": "code",
      "source": [
        "import gffutils"
      ],
      "metadata": {
        "id": "xFCPb53LvnTH"
      },
      "execution_count": null,
      "outputs": []
    },
    {
      "cell_type": "code",
      "source": [
        "import pandas as pd"
      ],
      "metadata": {
        "id": "s1MXYJMaG6K5"
      },
      "execution_count": null,
      "outputs": []
    },
    {
      "cell_type": "code",
      "source": [
        "from google.colab import drive  # allow colab access to drive\n",
        "drive.mount('/content/drive')"
      ],
      "metadata": {
        "colab": {
          "base_uri": "https://localhost:8080/"
        },
        "id": "IytUqpP0vgGN",
        "outputId": "ba996f6d-c78e-4e95-8f30-3b241f29c565"
      },
      "execution_count": null,
      "outputs": [
        {
          "output_type": "stream",
          "name": "stdout",
          "text": [
            "Mounted at /content/drive\n"
          ]
        }
      ]
    },
    {
      "cell_type": "code",
      "source": [
        "# EDIT and save file path for full human gff3 file from Ensembl\n",
        "hg38gff = \"/content/drive/My Drive/Lab_share/Lab_member/SophiaBick/HughesIntern/Homo_sapiens.GRCh38.109.chr.gff3\""
      ],
      "metadata": {
        "id": "-cQVu5ZBvmxh"
      },
      "execution_count": null,
      "outputs": []
    },
    {
      "cell_type": "code",
      "source": [
        "# Create database from GFF3 file. Will raise error if the dbfn already exists\n",
        "\n",
        "# It takes a long time (about 8 mins) to build the database that contains parent (genes) and child (transcripts) relationships\n",
        "# The following command imports the file into a local sqlite3 file-based database (\"test.db\")\n",
        "db = gffutils.create_db(hg38gff, dbfn='test.db', keep_order=False, merge_strategy='create_unique', sort_attribute_values=False)"
      ],
      "metadata": {
        "id": "4ELGWY8LvpfN"
      },
      "execution_count": null,
      "outputs": []
    },
    {
      "cell_type": "code",
      "source": [
        "# copy database file to drive, EDIT file path\n",
        "!cp \"test.db\" \"/content/drive/My Drive/Lab_share/Lab_member/SophiaBick/HughesIntern\""
      ],
      "metadata": {
        "id": "_0NQwlTAKYaD"
      },
      "execution_count": null,
      "outputs": []
    },
    {
      "cell_type": "code",
      "source": [
        "# this is the file path for the database that will be used in the majority of all following code, EDIT file path\n",
        "database = \"/content/drive/My Drive/Lab_share/Lab_member/SophiaBick/HughesIntern/test.db\""
      ],
      "metadata": {
        "id": "C6Y7nSYPMpeW"
      },
      "execution_count": null,
      "outputs": []
    }
  ]
}