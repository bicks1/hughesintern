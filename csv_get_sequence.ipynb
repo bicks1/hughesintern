{
  "nbformat": 4,
  "nbformat_minor": 0,
  "metadata": {
    "colab": {
      "provenance": [],
      "authorship_tag": "ABX9TyOqiR8WVhQAi7i7m10fpJEj",
      "include_colab_link": true
    },
    "kernelspec": {
      "name": "python3",
      "display_name": "Python 3"
    },
    "language_info": {
      "name": "python"
    }
  },
  "cells": [
    {
      "cell_type": "markdown",
      "metadata": {
        "id": "view-in-github",
        "colab_type": "text"
      },
      "source": [
        "<a href=\"https://colab.research.google.com/github/bicks1/hughesintern/blob/main/csv_get_sequence_v0.ipynb\" target=\"_parent\"><img src=\"https://colab.research.google.com/assets/colab-badge.svg\" alt=\"Open In Colab\"/></a>"
      ]
    },
    {
      "cell_type": "markdown",
      "source": [
        "### Install Modules"
      ],
      "metadata": {
        "id": "NBneXjO9wp5q"
      }
    },
    {
      "cell_type": "code",
      "source": [
        "from google.colab import drive, files\n",
        "drive.mount('/content/drive')"
      ],
      "metadata": {
        "colab": {
          "base_uri": "https://localhost:8080/"
        },
        "id": "H1CVhGm2E5fV",
        "outputId": "952a03df-64f6-4241-d382-57206db8f67c"
      },
      "execution_count": null,
      "outputs": [
        {
          "output_type": "stream",
          "name": "stdout",
          "text": [
            "Mounted at /content/drive\n"
          ]
        }
      ]
    },
    {
      "cell_type": "code",
      "execution_count": null,
      "metadata": {
        "id": "YA5ffSSaEwt-"
      },
      "outputs": [],
      "source": [
        "hg38 = \"/content/drive/My Drive/Lab_share/Lab_member/SophiaBick/HughesIntern/Homo_sapiens.GRCh38.dna.toplevel.fa\""
      ]
    },
    {
      "cell_type": "code",
      "source": [
        "!pip install pyfaidx"
      ],
      "metadata": {
        "id": "Kwp9mqMyFRhm",
        "colab": {
          "base_uri": "https://localhost:8080/"
        },
        "outputId": "f7f6a1c4-37cb-4f11-a849-824e5b18d688"
      },
      "execution_count": null,
      "outputs": [
        {
          "output_type": "stream",
          "name": "stdout",
          "text": [
            "Collecting pyfaidx\n",
            "  Downloading pyfaidx-0.7.2.1-py3-none-any.whl (28 kB)\n",
            "Requirement already satisfied: six in /usr/local/lib/python3.10/dist-packages (from pyfaidx) (1.16.0)\n",
            "Requirement already satisfied: setuptools in /usr/local/lib/python3.10/dist-packages (from pyfaidx) (67.7.2)\n",
            "Installing collected packages: pyfaidx\n",
            "Successfully installed pyfaidx-0.7.2.1\n"
          ]
        }
      ]
    },
    {
      "cell_type": "code",
      "source": [
        "from pyfaidx import Fasta"
      ],
      "metadata": {
        "id": "3iWynHQ7FcIL"
      },
      "execution_count": null,
      "outputs": []
    },
    {
      "cell_type": "code",
      "source": [
        "import csv"
      ],
      "metadata": {
        "id": "JVEXCb6r_BoS"
      },
      "execution_count": null,
      "outputs": []
    },
    {
      "cell_type": "code",
      "source": [
        "import pandas as pd"
      ],
      "metadata": {
        "id": "9wXVPZ-tg256"
      },
      "execution_count": null,
      "outputs": []
    },
    {
      "cell_type": "markdown",
      "source": [
        "### Initialize Fasta Object"
      ],
      "metadata": {
        "id": "Xul6HAidwtdQ"
      }
    },
    {
      "cell_type": "code",
      "source": [
        "genes = Fasta(hg38)"
      ],
      "metadata": {
        "id": "Ds2yrNTgF7Hb"
      },
      "execution_count": null,
      "outputs": []
    },
    {
      "cell_type": "markdown",
      "source": [
        "#### Practice"
      ],
      "metadata": {
        "id": "iWzUjp_9wwSh"
      }
    },
    {
      "cell_type": "code",
      "source": [
        "print(genes)"
      ],
      "metadata": {
        "colab": {
          "base_uri": "https://localhost:8080/"
        },
        "id": "gkhlDPOGfGx1",
        "outputId": "74394cd9-61fa-46e7-ce05-9c0b4bbe44d3"
      },
      "execution_count": null,
      "outputs": [
        {
          "output_type": "stream",
          "name": "stdout",
          "text": [
            "Fasta(\"/content/drive/My Drive/Lab_share/Lab_member/SophiaBick/HughesIntern/Homo_sapiens.GRCh38.dna.toplevel.fa\")\n"
          ]
        }
      ]
    },
    {
      "cell_type": "code",
      "source": [
        "genes.keys()"
      ],
      "metadata": {
        "id": "ELIAKDpngc5x"
      },
      "execution_count": null,
      "outputs": []
    },
    {
      "cell_type": "code",
      "source": [
        "# PLEKHN1 (+) from 966482 to 975865\n",
        "genes['1'][966481:975865].seq"
      ],
      "metadata": {
        "colab": {
          "base_uri": "https://localhost:8080/",
          "height": 143
        },
        "id": "6zQ2Ems7j5f5",
        "outputId": "dfd57489-5b29-46d9-b9e5-291c2b479079"
      },
      "execution_count": null,
      "outputs": [
        {
          "output_type": "execute_result",
          "data": {
            "text/plain": [
              "'AGGAGGCTGTGGACAGGGACCCAGACTTGCCGACCTGTACGACTCTGGCCATGGGGAACAGCCACTGTGTCCCTCAGGCCCCCAGGAGGCTCCGGGCCTCCTTCTCCAGAAAGCCCTCGCTGAAGGGAAACAGGTGAGCGGGGCGTGGGTGCGGCCACCTGGGCGCAGGGCTCCCCCACCCGCTCCGGGGCCAAGCCACGAGACCCCTTGCCTTGTCCCCAGAGAGGACAGCGCGCGGATGTCGGCCGGCCTGCCGGGCCCCGAGGCTGCTCGAAGCGGGGACGCCGCCGCCAACAAGCTCTTCCACTACATCCCGGGCACGGTGAGCGCGGCGTGCACGGTGGCTGTGGTCTGGGAGCGTGGCTCTGCCCGCGCGTGTGTGCCGTGTGTCCGTGCAGCTCAGGGTCTTCCCCTCGCCCCCGGGGCGTTCAGACCCCGGTAGGTGAGGAGCCGACGCTGACTGCCCCGCCCTGGGGAGCTCATCCGGCCGAAAGTCTGAGCGGAGAGCGAAACCGCGACGCAGGACTGAGTCAGTCGGGAGAGAGCTGGGCGGGGCGGGCCGCGGGCGGGGCCTCCCGGGACCTCCTCCCGCAGGGGACCAGCGCACGTGTCTCTGTCGCTGCAGTGGGGCTTGGGGTCGTGCCGGCAGGTAGTGTCACTTGAGAGTAAGGGGCCTCAGATGAGCAGCGAGCCAGCCGGTCACCTACACCGGCCTTTCTCCCTGGGTGTCCCGCAGGAAGTTGCCGCTGGGTATGGCCGCCTGGTCCACAGCAATCCCTCTGTGCACGCGCCGGCCTCCTCCCAGCTTGCCAAGGCCATGCAGCAAGGAGGTGTCTCCCAAGCACACACTAGGCCACCTCTCCGTCAAAGGAGCAGAAGACCACCCCCATGCCCACCCCCCCCCCAGCCCCTGTGGGACTAAGGGTCTTCACAGGGTAGATCCCAGCCCCTTTCAGATGTGTCTGGTGCTGGGATGAGGGAACAGGACCAGGAACCTGGGCTTCAGGGCAGACAGGAACCCCCACTGCACCCCCGTCAGGCAGCCTGGATGGGTGGGCTCCGCTATGTGCAGGCCCTAGGAGCATCTGCGGGAGAGGACGCCTGCCCTGCACTCCTGGGTCCAGCAGCTGGCATGGCCGTGCAGACCCCTTTGCCAACATGCCCCCGCCAGGCAGGAAGCTCGTGCCATACCCTCTCCTGACCTCCAGAGTTTCAGGGCTCCCTGCAGACAAGTACTGGTTTCGGAAACCACGCTGCCTCAGAGGAGTGGGCAGGGAGAGGGAGCCGGGCTGGGTTAGGGGTGGGGTCCCTGTGGCTGCATCTCAGACACCACTCCCTCTGTCCAGGCCCAGGACATGCAGTGTGACCCTGGGGGGTCCTATGAGGTGTGGTGGGTGGCCGTAGTGGTCCTCCCTTGCCAGGACATGGTAGCCACAGAGGCAACAACCTGCTGAACCTCGGGAAATGGGGCTGGGGGAGGAGCTCTGGGCCAGTCCTAGAGCCAGTGCTCCGCGGCCCTGTACCTGGGCTCTGCACCCAGTGCTGTGAGCTGGCTCTACTACGGCTCCAAGCTGAGTCCTCCCCGGGGCCCCGAGGCTGAGCTGCGCTGCAGGGCCAGCTGTGTGGCCCTTCCTGGTCTGTGGCCTATTTTTCATGGGTGCCAACCCGGCATCAGTTCCCACGCTGGGTGTGGGTACAGGAGGCCCCACCCAGAGGCAGAAGGCCGGGAAAGCCATGCGTCTGTCTGTTCACATTCCTGGGCCTGCTCAGGGGCAGCTAAGCTTGGCCAGGGCACAGCAGCTCTGCAGGTAGCTCTCGCCAGCTCCTAGAAGGAGGAGGACACCTTCCCACTTGGCCCTGAGCCTGTGGATCACAGAGGTCTCCAGCCCCAGGTTCACACCCGTCCCTTTTCTGACTTCCAACCTGGTGATCAAAGCCTGCATTTGTAGAGGACTGTGTGTGCCAGGATTGACTACATGTGGCGTGGATGTGGAGTCCCCTCCCCTCTCAGCACATGCAGTGATACCCACAGCACATCCCAGGCCCTGTCTTAGGCTCTGGGGACACAGCAGTGAACGGAATAGACAACCCCTGTTCTGCTAGTGCTCCCATTCCCACGGCAGAGACACACGACGGGACAAATCAATAGATCCAGTGAGCGGGGTCAGGTCGGTGCTAAGGAGAAAAACAGAGGGGATGAGTGCAGAGGATCAGGGAAGGCTGGAATTTTAGAAAGGCTTTCAGAAAAGGAATTCTTGGAGCAGGTAATGTCTGAGCAAAGCTGCAAAGCGGGTAAGGAGGGGGGTCAGGACTGAGCGGTCCCCAAAGCAGGAACAGAACATGCAGCAGCCAGAGAGCATGGGTCTGATGTGAGGAGACAGTGAGGCCGGGGCAGCCACAGAGACCCCTCGGGGGAGACCCCTCGGGGCACTGCCAGGACCCCGTTGTCCCCTGAGTGAGGCATACGGAGCGGCCAACACACAGAGGATCGACCCCAGAAATCTCCTCACATATTTCAGGCTGGGGGCTGGAAATGGGCAACGGTGAGGACACTGACACCGAGGAGATTGGCAAACGTTACAAATCAGGGCATCGGTGTGTTTCTGTGTCTGTTTTTTGTAGAACCAGGTGTTAAGCATTTACCATACAATACTGCAGACGTGGGAGGGTTTTGAGTGTTACCCAGACACCCCCAAATTCTTCTAACAAGTCTTCAGAGGTTGAATAACCCAAGCCATGTTACACAGCTTAGGAAAGAATGAAGATGGGTTTAATCCACTGAGTCCAGATCTCACCATCTCTACCACTAGACCAGGCAGCTCTGTGTGGGGAAGTGTGTCTGTGTGTGCGTGTGTGTGCACAAGTGTGTATGTGTGCATGTGTTTGCACGTGTATATGTGTGCACACATCTGTGTGTATATGCACAGGTGTATGTATACGTGTGTGTTGGTGTATTTGTGTGTGTGTGGAAATGTATGCATGTATGCAGTGTGCATGTGTGCATGCATGTGTGTGCATGTGTGTATAGGTGTGCATGTGTATGTGTGCACGTGTGTATGTGCACGTGTGTATGTGTATACATGTGTATGGGTGTATTTGCGTGTGGATATGTATGCATGTATGCACGTGTGTGCATATCTGTGTATGTGCAACTGTGTATGTGTGCACGTGTGTATCCATGCATATGTGTGCGTGTGTGTACATGTGTGTATAAGTGCGTATGTGTGTTCCCGTGTGTATGCATCTGTGTCTGTATTGTGTGGCATGTATGTGTCTATTGTGTGTGTATGCATGTGTGCGTGTATGCATTTATACATGTGTATGTGTGCGCATATATGGATGCATGCATGTTGCCTGCATGTGCACGTATCGGGTGTGTGTGCGTGTACGTGTACACGAATATGCATGTATGCATATATGTATGCACGTGTGTGTAAATTCTGCCGTGACTGTTTTCCTGTGGAAAGGCTGAGTGTGCAGGTTCTGTGCCTGTGGGGGGCTGTTCTTCACGTATGTGTTGTGTGGCTGTGCACAGGTTCTGTGCCTGTGGGGGGCTGTTCTTCACGTATGTGTTGTGTGGCTGTGCACAGGTTCTGTGCCTGTGGGGGGCTGTTCTTCACGTATGTGTTGTGTGGCTGTGCACAGGTTCTGTGCCTGTGGGGGGCTGTTCTTCACATATGTGTTGTGTGGCTATGCACAGGCAGACCATGCTATAGTCCTGTAGCTGTGTGGATGCGAGCGGAGGGGGTGGGGGGCCCAGGGGAGGCCCCCTCCCCTGAGCTCTACTCCTCCTAGGACATCCTGGACCTGGAGAACCAGCGAGAAAACCTGGAGCAGCCATTCCTGAGTGTGTTCAAGAAGGGGCGGCGGAGGGTGCCTGTGAGGAACCTGGGAAAAGTTGTGCATTACGCCAAGGTCCAGCTGCGGTTCCAGCACAGCCAGGTGGGGGCCGGGCTGGGTGGAGCACGCTAAGGGTGCAGCATCCCCATCAGCCTGGGGCTCCCCAGACTCCGCACTGACGACCCTGCTCCCCGCGCAGGATGTCAGCGACTGCTACCTGGAGCTATTCCCCGCCCACCTGTACTTCCAGGCCCACGGCTCGGAAGGACTCACATTTCAGGTGAGGCGGTGGGCAATGGGGTGGGGCCATGGCCGCCCTTCCCTCCATGGATCCCTGAAGCTCCTCCTACCCTGTGCCTGGCAGGGGCTGTTACCGCTGACGGAGCTGAGTGTCTGCCCGCTCGAGGGGTCCCGAGAGCACGCCTTCCAGATCACAGGTGTTTGGGATGCTTCCCGGGCCCCCAGAGGCACTCCTGACCCAGGACTTGGAGAGGGGCCTGCCCTGTGGCTGCGGAGCACGTGTGTGTATGTGTGTGCCCTCTCTGCCCTGCCCGCAGGCCCACTGCCCGCACCCCTCCTGGTGCTCTGCCCCAGCCGGGCCGAGCTGGACCGCTGGCTTTACCACCTGGAGAAGCAGACGGCCCTCCTCGGGGGGCCGCGGCGCTGCCACTCGGCACCCCCACAGGTCAGTGCCGGGGACCCCACCCCCCTCCCCACCCTGATCCTCGCAGCCGGCTCTGACCTCCTCCTCACAGGGGTCCTGCGGAGACGAACTCCCCTGGACTTTGCAGCGCCGTCTAACCCGGCTGCGGACGGCGTCAGGGCACGAACCCGGCGGCAGTGCTGTCTGTGCCTCGAGGGTCAAGCTGCAGCACCTGCCCGCACAGGTGGGTGGGAGGTGCGTGGGGCTGTAGGGGGATGGGAGGGGTGCATGGTGGTGGGCAGGGCGGTGCAACAGCAGCTCAGTTCCCTCATCGCCTGACCCCACCCCCACCCACCCAGGAGCAGTGGGACCGGCTCTTGGTCCTGTACCCAACGTCCTTGGCCATTTTCTCCGAGGAGCTGGACGGGCTTTGCTTCAAGGTGGGCCCCTCCCCACTGTGGGCCCGCCCCAGGGAGGCAGCTGTGTGGGGGTGGGAGGGGGCAGCCATGCAGGAGGAACCTGTATTTCGGGGCTTGTTGAGACAGAGCGCAGGGCCCTGCCCACCCAGCCCGCGGTCCTGGTCAGTCTGGTCTCCGCTGTGACATGGAGGAGCCCCTGCCCGCCCTGAGGTTCTCACCCTGAGGTTCTTGACCGTCACCCTGGGGCGGGCAGCATGGGGCTGAGAGCCCCTCCCGGGGACTCCCTTGTGTGTGCCTGCCCGTGAGGCGTGTGTGTGCACACGTGCGTGTGCGTGTGTCCTCCAGGGCGGGCTCCGGGAAGGGGGTGTGCACTCACGGTAACCTTCAGTCACTGAGGAACAAACACAGGGCCCTCCCCATGGTTCACCCGGCCCAACTTCTTCTCTGGGGACCCCAAGAGGCCAGTCCTGTGGCTTTGTGTGTCTGCCCCTAGCCGGCGAAGGCCCCCGCGCCAGGGTTGGTGGTAGCCCCAGGAGACATGGGACCCACTGGCCTCCCTCAGGGTGGTGGCCTCGGTGCCCAGCTCTCCAAGTACCCAGCCAAGCTCTGGAGGGCAAGAGGGTGGGATGAGGCCAGGCGGGGCCCCGGGGCTGCCCCTACAAAGGCCTGGCCCTCAATCTCTGCTCCGCAGGGGGAGCTCCCACTCCGTGCCGTCCACATCAACCTGGAGGAGAAGGAGAAGCAGATCCGCTCCTTCCTGATTGAAGGTAGGGCCCTGACCCTGGTTCTGCCTCCCGCCTGGCCAGGCCATGGTGGGGCGGGAGCCTGGGGGACGCCCGACTCTTTAGTGGGGGCGCTGAGGGGTGCACCCCCCCGCCAGCCCCTCACAGCATCTGTATGCCAGGCCCCCTCATCAACACCATCCGCGTGGTGTGCGCCAGCTACGAGGACTACGGTCACTGGCTGCTGTGCCTTCGCGCTGTCACCCACAGGGAGGGGGCCCCGCCGCTGCCTGGTGCCGAGAGCTTCCCAGGGTCGCAGGTGAGGGGTCAATAGGCCCCACAGCCCAGGTCCTGGGCAGTGGTAAAAAGGGGGCAGCAGACCGGGCGTGGTGGCGCACGCCTGTAATCCCAGCATTTTAGGAGGCTGAGGCGGGCGGATCATTTGAGGTCAGGGGTTCGAGATCAGCCTGACCGACGTGGAGAAACCCTGTCTCTATTAAAAATACAAAAAAATTAGCCGGGCATGGCGGTACATCCCTGTAACCCCAGCTACTCAGGAGGCTGAGGCAGGAGAATCGCTTGACCAGGAGGCGGAGGTTGCAGTGAGCCGAGATCGTGCCACTGTACTGCAGCCTGGGCGACAGAATAAGACTTCGTCCCAAAAAGATAAAAGGGGGGACAGCACGGTGGGTCCAGGCAGGGGCGGGTGGGGAGGGGGTCCAGCCCTCACTCACCCCCACTCACTGCCCATCCAGGTTATGGGCAGTGGCCGAGGCTCACTCTCCTCAGGCGGACAGACCAGCTGGGACTCGGGGTGCTTGGCGCCCCCCTCCACCCGCACCAGCCACTCCCTGCCTGAGTCCTCAGTGCCATCCACCGTGGGCTGCTCCTCCCAGCACACACCGGTGAGCGCTTACGGGGTGGCAGACGAAAGTGGGGCAGAAGGCTGTCGGGTAGGTGTGTGTTGGGGACCCTGGTTCCTCAGGGGAACTCAGACTGGAGGGAGCCCCTTGCAGCCTCAGAGAGTTGCACGGGAGAGGGGCCAAAGGGCTCTTCCTGGAAGGTTTGTGGTCCCCACAGGACCAGGCCAACTCTGACCGTGCCAGCATTGGCCGACGGAGGACCGAGCTGAGACGCAGTGGCAGCAGCCGGTCACCCGGGAGCAAGGCCCGGGCAGAGGGCCGCGGCCCTGTCACCCCACTGCACCTGGACCTGACCCAGGTGGGCCCAGCACACCCACACAGCCCCTGGCCTGGTTCCCACCGTTCCGCACCACTGGTCTCTGTCTCTGGGCCCAGTTGTCCTGGAGCCACCCAGAGGCCTCTTGCACAGAGAAGGGGTGGCCTAGGCTGTTTCTAGCCGAGAAGCCCATTTCTCCCACCTCTGCCCTGCAGCTGCACAGGCTGAGCCTGGAGAGCAGCCCAGATGCCCCTGACCACACTTCGGAAACATCACACTCGCCCCTCTATGCCGACCCCTACACACCACCCGCCACCTCCCACCGCAGGGTCACAGATGTCCGGGGCCTGGAGGAGGTCAGGCCCCTGCTGGGTGACAGAAAGGGTGGGAGGTGCCTGCAGCCTGAGGCTGGGGAGGTCTAGACCGTGCGTCTCACCCTGGGGTCTGGGGCTGCCCCAAGCCTGAGGTCTGTTCAGGCTCTGATGGGAGGTTGAGGTTCTGGGGGCCCCTGGCTGCCACCCAGGCCCCAGCCCTGGCTCTCCCTGCAGTTCCTCAGTGCCATGCAGAGTGCACGTGGACCCACGCCCTCGAGCCCACTCCCCTCGGTGCCTGTGTCTGTGCCTGCCTCTGACCCTCGCTCCTGCTCCTCCGGCCCCGCTGGCCCCTACTTGCTCTCCAAGAAGGGAGCCCTGCAGTCCAGAGCCGCTCAGAGACACCGGGGCTCAGCCAAGGATGGGGGGCCGCAGCCCCCAGACGCCCCTCAGCTTGTGAGTAGCAGCCCCCACGCCCGTGTGCCCCGGGCTCCGGGCTGGCCGGGGGTCTGGTGTGGGGCCTCTTGGGACTCTGAGGGAGCAGGGAGGGAAACAGGAGGACGGGGGCAGATGGAGGCCAGGGGGGCCAGTAGGGAGTTGGGGAGATGGGACTGGGGAGGGAGAGCAGGGGGACATGGGGGGCTGCACAGTGACAGGCCGCCTCCAAGCTCCCTGCCTGGGGCTGTGCCCGGCTCTCAGACTTGCGGTTTGGGGTTCCAGGTCTCCTCTGCCAGGGAAGGTTCGCCCGAACCCTGGCTGCCTCTGACAGGTGAGTAAGGATCCTGCCTCCTGAGGTGAGTGCCTGTTGCCTCCCACAGGCTGACACATCTCTGCCTTCCCTACCAGATGGTCGGTCCCCCAGGAGGAGCCGGGACCCCGGCTACGACCACCTCTGGGACGAGACTTTGTCTTCCTCCCACCAGAAGTGCCCCCAGCTTGGAGGGCCTGAGGCCAGTGGGGGGCTTGTGCAGTGGATCTGATGGCCGCGGTGAGGTGGGTTCTCAGGACCACCCTCGCCAAGCTCCAGGGTACCTGCCCCTCTAACCCACTTCAAATTACAAGTCAGGGTCTGAACCCAGTGTGATGGGGGGAGTCTCTGGGGCCCTGAGTTCAGAGCCCGTCCCTCAGCTCCTGTTCCTTGGTGCCAGCAGCTGGGGCAGGGAAGGGTGGGAGGGGCCCCATCCAAAGGATGCCCTGGCCAGCGAGGCTGGGTCACAGGTCAGGGAGGTCCTGGCCGTCCACAGGGTCGGCCCTCAGCTCAGCCCGCCAGGAGTCAGGGAGGAGACTCGCTGGGAGTGGGAGGGCAGCACGGGCGTGAAGGTCGGAGGACAGAGAAAGGTCAGCAGGGTCAGAGTATGTGAGGTCAGAGGGCATGAGGGTCACAGGTCAGCAAGGTGTGAGGAGCACAAGCCAGGGTGCCCCGAGGAGGAGGGTGGGTGGGTCCTTGTGTGGCCTGGCGCGCACCACAGGGCAGCACGGGAGACGTTGACACCACCGGACGAGAAAGAAAAAAGAGAGAAGAGAGAGAGGAGAAGAGAGAAAAGAAGAGAAGAGAGAAGAGAAGAGAAGGAAAGAGAGAGAGAGAATAAGAAAAGGAAGAAAGAAAAAGAAAAGATAGAATTTTATTGGTGCTGCATCCATGTGTTCTCTGCTCAGCAGCCAGGGTCTCCCACAGTCTTGAGGACCCCCACCCAGCACCCAGCCAGGCAGCCCCCTTCCTCTGCCACCTCGGGCCCCTCACCGACCTTCCCACCTCATCTCTGACTCCTCTTGGCTGTGGGTCCCCAGCTGCCCCACAGGAGCCCCCGGGACAACCCCAGGAGCCCAGCCCTCCATCTGAGGCCACCGAATTCTCCCTCTGCACCTGCACCCAGGGCTCCCGGGGAGGGGCTCGCGGCTCTGCCACAGACCCCCACCCTGCAGGGGCTGCTGCACTGGGGAGGGGCAGGCAGAGCCTTCGCTGTCTCAGGCCAGAGCCCGCAGAGGCCTTGGCCACAGTCCTTTGAGGATCAAGAGTGATGGGCCTTGGAGCCCTTGCCAGCCCAGCCCACCTGTGAGGAGGCTGCCCATCCCCTCTTTGAGGCCACCCTGTGTCCTCTCCCCTGCCTCTGCCCAGAGCTCCAGCCGGAGTGTCTTGCTGCTCAGACCCCTCCGAGGTCCAAGTCCTGTCCTGCCACTCAGCTCCCCCTGCACCCCAGAAGAAACGCAGGGTGCGGTTGCATTTGATTTCAGATAAACAACAACTTCTTAGTAAAATGACCTCCCCACTA'"
            ],
            "application/vnd.google.colaboratory.intrinsic+json": {
              "type": "string"
            }
          },
          "metadata": {},
          "execution_count": 10
        }
      ]
    },
    {
      "cell_type": "code",
      "source": [
        "# PERM1 (-) from 975198 to 982117 (want it 5' to 3' on its strand)\n",
        "#genes['1'][975197:982117:-1].seq\n",
        "\n",
        "#print(\"forward/\", genes['1'][975197:982117])\n",
        "print(\"reverse complement/\", -genes['1'][975197:982117]) # want this way!\n"
      ],
      "metadata": {
        "colab": {
          "base_uri": "https://localhost:8080/"
        },
        "id": "U1lE6FqmziLH",
        "outputId": "3d10389f-ec32-4398-99bb-27bfce5d4a21"
      },
      "execution_count": null,
      "outputs": [
        {
          "output_type": "stream",
          "name": "stdout",
          "text": [
            "reverse complement/ ATGCCGACCCAGGACGGGCAGCTCAGACGCCCAGCTCGGCCGCCGGGACCCAGGTAGGACATGGTCAGCTGCTGGCTCCTGACCCAAGGGGCCCCAATGGTAACAACCCCCACAGAGGCTTCTCAAGAGACCAGAGAGGAGGGCGAAGGTCAGTGGGTGGGAAGCCACCATGCCCTGGCCTCCGTCTCAGGACCGTCCCCACCAAAGTGACTTCCCACCCCTGGGTCCAGAGGGGCTGACCTGAGGCCGAGGGCGGCCCCCTCTAGGGGTAGACCCGACAGCTGGCTAGGGTCTCCTTGCTTCTCTGAGACGGGGCAAAGGAAGGCACCCCGGGCAGCCGGGCAGGCCTGGATCGTGGTGCAGACCTCGAGGACGGCCCGAGGTGGCTGCTGGGTCAAGAGACCCACCGCAGCCTGCACCTCCTGCCCAGGCTCTCCGTGCTGACTTGGGCCAGCTCTGGCCAGCACCACCTGGTGAGCTCAGAGAATAGCCTGGCCCAGCCAAGGCGATCGGAAGGTCATCGCCGAGGGCTGGGCACCTGCTGGGCCCTGTAAACCTTTCCTGTGGCCGGCTGCCAGCTGGGGCGCACTGGGATGGACCAGGGCTGCCCACCCCCGAGGGCACTGGTCCCATCGGGTGGACCCTGAAAGGTGCTTTGCCGTGCAAAGACAGCTCTGGCAGAAGGTGGAGGAGGTGAGGCTGCCCCAGCTGAGGTGTGATGGGAAAGAGCATTCAAACCTGAGGACGGCTGGTTTTATAGCTTCACTGGTAGAAAATCATCCTTGATTCTAGGAATGTAACACCGCATCATCACACAGCTATCATTTGGGGTGCGTTGGGAACTAGGGTCATGGGAGCTGGGGATCTTCTAACTTGGAAATCGTCACCACTAGGTTTGAAGGAAGCGCGGCCCTCCCCTCGAGATGCTGTTCTCTTCCTTTCAGGGCATGGATGGAGCCCCGAGGCGGTGGGAGCTCCCAGGTCTCGTGGGGCAGGGGCGGCATGTGCAGGGTGGTGCCCGGGGCCTGAACCCATGAAGACCCCACCGGACCCATTCTGCTACCCTCCAGTGCCTCTGCTGACTCCACATGGAAAATTTCCAGTACAGCGTCCAGCTGAGTGACCAGGACTGGGCCGAGTTCTCAGCCACCGCCGATGAGTGTGGCCTCCTGCAGGCCGGCCTGGCCTCTGGGGACGAGCTCTTGTCCAGTGACATTGACCAAGGGGACAGCAGTGGCAGCAGTCCCCCCAGGGCCCCACCTCTCCCAACTGGGCAGCTAGCTGCAGGAGGGCGGAGCCGGCGGGGCTGCGAGGAGGAGGACGTGGCCACACAGCAGCCGGTCAGCAGGTCTCAGGGTGAGCCTGTCTTGGCCCTGGGGACCGGTCAGCAGACACCCAGCACGTCCGCACGGGCAGAAGCTCCACCGTCCCTCGGCCCCGGCGCCAGCCCTCCCAGCCAGTTCTCATCCTGCCCTGGTCCGGCGTCTTCTGGAGACCAGATGCAGAGGCTTCTGCAGGGCCCTGCCCCACGGCCCCCTGGTGAGCCCCCTGGGAGTCCCAAGTCCCCTGGCCACAGCACTGGCTCCCAGAGGCCCCCCGATAGCCCTGGAGCCCCACCACGGAGCCCCAGCCGAAAGAAGAGGCGAGCTGTGGGTGCCAAGGGGGGTGGGCACACAGGAGCCTCTGCTTCTGCCCAGACGGGCTCCCCGCTGCTCCCTGCGGCCAGTCCTGAGACGGCAAAGCTGATGGCCAAAGCCGGGCAGGAGGAGTTGGGGCCAGGTCCTGCAGGAGCTCCTGAGCCTGGCCCCAGGTCCCCTGTGCAGGAAGACAGACCAGGGCCAGGTTTGGGCCTGTCTACACCTGTCCCTGTGACAGAGCAAGGCACAGACCAAATCAGAACCCCGCGCCGAGCCAAGCTGCACACAGTGTCCACGACTGTCTGGGAAGCCCTCCCAGATGTCTCAAGGGCTAAGTCAGACATGGCTGTGTCTACACCTGCCTCCGAGCCGCAACCTGACAGGGACATGGCTGTGTCTACACCTGCCTCCGAGCCGCAATCTGACAGGGACATGGCTGTGTCTACACCTGCCTCTGAGCCGCAACCTGACACGGACATGGCTGTGTCTACACCTGCCTCTGAGCCGCAACCTGACAGGGACATGGCTGTGTCTATACCTGCCTCCAAGCCGCAATCTGACACGGCTGTGTCTACACCAGCTTCTGAGCCTCAGTCCAGTGTGGCTCTGTCTACACCCATCTCCAAGCCACAATTGGACACGGACGTGGCTGTGTCCACACCTGCCTCCAAACATGGCCTGGATGTGGCCTTGCCTACAGCAGGCCCAGTGGCTAAGCTAGAGGTGGCTTCATCTCCACCTGTCTCGGAGGCTGTGCCGAGGATGACCGAGTCCAGCGGGCTTGTGTCTACACCTGTTCCCAGAGCCGACGCCGCTGGCCTCGCCTGGCCTCCCACCCGCAGAGCTGGGCCTGATGTGGTGGAGATGGAGGCGGTTGTGTCTGAGCCCTCAGCAGGGGCCCCCGGATGCTGCTCTGGGGCACCCGCACTGGGTCTCACCCAAGTCCCCAGGAAGAAGAAAGTGCGCTTCTCCGTGGCTGGGCCCAGCCCCAATAAGCCAGGCTCAGGACAGGCCTCAGCCCGGCCCTCAGCCCCCCAGACAGCAACTGGGGCCCACGGGGGGCCCGGAGCCTGGGAGGCTGTGGCTGTCGGGCCCCGGCCCCACCAGCCTCGGATCCTCAAGCACCTGCCTCGCCCCCCTCCCTCTGCCGTGACGAGGGTCGGGCCCGGGAGCAGCTTTGCCGTGACCCTCCCGGAGGCCTACGAGTTCTTCTTCTGTGACACCATCGAGGAGAACGAAGAGGCTGAGGCGGCAGCGGCCGGTCAGGATCCGGCAGGCGTCCAGTGGCCGGACATGTGCGAGTTCTTCTTCCCAGACGTTGGAGCCCAGAGGTCGAGGCGGCGGGGGTCCCCGGAGCCGCTCCCGAGAGCTGATCCTGTGCCGGCCCCCATACCTGGAGACCCCGTGCCCATCTCCATCCCTGAGGTCTATGAACACTTCTTCTTCGGGGAGGACAGGCTTGAGGGCGTGCTGGGGCCGGCTGTCCCGCTCCCACTGCAGGCCCTGGAGCCTCCCCGGTCGGCCTCCGAGGGGGCGGGGCCTGGGACCCCCCTCAAGCCAGCCGTGGTAGAGCGGCTCCACCTGGCTCTTAGACGGGCAGGTACGTGCTCTCGGATCCCACAGCCCGTCCAGATCCCAGGCACACACTGTCCAGGGATCTTGGCCAAGCAGGGGGCCGCAGGGGCCGGGCAGGCCGGGCTTGGGTCATCCCCTAGCAGGGGAGCCTGGGGACCAGCCCCCAGTCATCCCAGCACACAGTCCAGATGGGGCGGCCCAGTCCAAGCACCCGGGTTGTTCAGGGGGTTGGCTCTGCGCCGCCGTTGCCCTGTGTTCGGGCCCATGTGACGGCGGCGTCCCTCCCCCAGCCTCTGGCAGGGTTCCCGCCCAGGCCTGGCTACCTTCAGGGTCAGGCACTCTACGAGGCCCATCTCACACTGATGTCCTCTGGGAGATGCTTTACAGACCAGAACACGGGGCCTCCACTGGCAGTTCCCCCAAACTGGCCCAACTCAACCAGGTCACCCAAATCTCAGGCAGAAGAAGCACGGGGGCGATGTGACTCCGACAGACGCGTCCAGGGCGGGCGGTTCCCGGGGCAGGCGGTTCCCGGGGCAACCAGTTCTCAGGAAGACGTGTCCATGACAGAGGGGTTTCGGGAAGACGTGTCCAGGGTAGACGTGTCCAGCACAAATGTATCTTAGGACAGACATGTCCCATGATGGATGTATCTGGGGCAGGCGGTTCCCGGGGCGGGCGTGTGCGGGGCAGGCAGTTCCCAGGCCAAGAGTGTGCAGGGTTAGGGTGGGGCAGGCGGTTCCTGGGGTTGGAGGGGGAGGCAGGCGGTTCCCGGGGCGGCCGTGTGCGGGGCAGGTGGTTCCCGGGGTTGCGGGGGAAGCGGCTCCCGGGGCAGGCAGTTCCTGGGGTTGGGGGGGGTTGGGAGGCGGTTCCTGGGGTTGGGGGGGGTTGGGAGGCGGTTCCTGGGGTTGGGGGGATTGGGAGGCGGTTCCCGGGGTTGGTCGGTGGGGGCAGGCGGTTCCCGGGGTTGCGGGGTGGTGGGAGGCGGTTCCCGGGGTTGCGGGGGGAGTGGGAGGCGGTTCCCGGGGTTGGGGGTGGTGGGAGGCAGTTCCCGGGGTTGGGGGGATTGGGAGGCGGTTCCCGGGGTTGGTGGGGGTGGGAGGCAGTTCCCGGGGTTGGGGGGATTGGGAGGCGGTTCCCGGGGTTGGTGGGGGTGGGAGGCGGTTCCCGGGGTTGGTCGGTGGGGGCAGGCGGTTCCCGGGGTTGCGGGGGGAGCGGGAGGCGGTTCCCGGGGTTGGTGGGGGGAGCGGGAGGCGGTTCCCGGGGTTGGTGGGGGGAGCGGGAGGCGGTTCCCGGGGTTGGTGGGGGGAGCGGGAGGCGGTTCCCGGGGTTGGTGGGGGGAGCGGGAGGCGGTTCCCGGGGTTGGTGGGGGGAGCGGGAGGCGGTTCCCGGGGTTGGTGGGGGGAGCGGGAGGCGGTTCCCGGGGTTGGTGGGGGGAGCGGGAGGCGGTTCCCGGGGTTGGTGGGGGGAGCGGGAGGCGGTTCCCGGGGTTGGTGGGGGGAGCGGGAGGCGGTTCCCGGGGTTGGTGGGGGGAGCGGGAGGCGGTTCCCGGGGTTGGTGGGGGGAGCGGGAGGCGGTTCCCGGGGTTGCGGGGGGAGTGGGAGGCGGTTCCCGGGGTTGGTCGGTGGGGGCAGGCGGTTCCCGGGGTTGGCGGGGTGGTGGGAGGCGGTTCCCGGGGTTGGTGGGGGGAGCGGGAGGCGGTTCCCGGGGTTGGTGGGGGGAGCGGGAGGCGGTTCCCGGGGTTGGTGGGGGGAGCGGGAGGCGGTTCCCGGGGTTGGTGGGGGGAGCGGGAGGCGGTTCCCGGGGTTGCGGGGGGAGCGGGAGGCGGTTCCCGGGGTTGGTGGGGGGAGCGGGAGGCGGTTCCCGGGGTTGGTGGGGGGAGCGGGAGGCGGTTCCCGGGGTTGCGGGGGGAGTGGGAGGCGGTTCCCGGGGTTGCGGGGGGAGTGGGAGGCGGTTCCCGGGGTTGGCGGGGGGAGTGGGAGGCGGTTCCCGGGGTTGGCGGGGGGAGTGGGAGGCGGTTCCCGGGGTTGGCGGGGGGAGTGGGAGGCGGTTCCCGGGGTTGGCGGGGGGAGTGGGAGGCGGTTCCCGGGGTTGGCGGGGGGAGTGGGAGGCGGTTCCCGGGGTTGGCGGGGGGAGTGGGAGGCGGTTCCCGGGGTTGGCGGGGGGAGTGGGAGGCGGTTCCCGGGGTTGGTGGGGGTGGGGGCAGGCGGTTCCCGGGGCGGGCGTGTGCGGGGCCATCTCTGAGTGCAGCCGTGGGGCTGAAGGTGAGCTTCTGTCCTAGGGGAGCTCCGGGGGCCTGTCCCATCATTTGCCTTCAGCCAGAATGACATGTGCCTGGTGTTTGTAGCTTTTGCCACCTGGGCTGTGAGGACGTCAGATCCGCATACCCCAGACGCCTGGAAAACAGGTTTGGGTGCCTGGGGGCAGAGGGAGCTGCGCCTAGAAGCCAGACCGAGGGGCGCTGGCAGGACGAGGGGTGCACGGGGGCCCCGGGGCTCACCCCTGACCTGCTCCCCCCAGGCTGAGCTGCGGCCCTGGCCGCACCGACCTTGCCCGCCCTTTGAGGGCTGGGTCTTGCGGGCAGACGGTGCCGACAGCCAGGCTGGCCCTCAGAAGAGCCTGTGCTTCTCTTGCAGCCTTGCTGGCCAACGTCGGCACCATCTCTGCCATCCGCTACTTCCGCCGGCAGGTGGGGCAAGGGCGCCGCAGCCACAGCCCCAGCCCCAGCTCCTAGGAGCCAGGCCCGGGCCAGGGAGATGCAGGATGAGGAGACGACCACAGGCGCCCAGGGCAGGACGAGGTGCCGCCCTCGCCCGGGCCCTCTGACCCCTCTCTTCTACCGCGTCCAGGAGGGGGGCGTGTCCTGGTGCTGCTCCCTCCGACTCACCTGAGGATCCAGCCAGTGACCACGGCCACTCCCCACGCCTGGGAGGGAGGTGCTAAAGTCTGGGTGGGTGGAGGGCAGGCAGGTGGCTGGGTAGGAGGGTGGCCAGATTCACAGATGAGAACACAGGGCATTCGGTTAATTTCAGACAGGCAATAGTGGGGAGGTCATTTTACTAAGAAGTTGTTGTTTATCTGAAATCAAATGCAACCGCACCCTGCGTTTCTTCTGGGGTGCAGGGGGAGCTGAGTGGCAGGACAGGACTTGGACCTCGGAGGGGTCTGAGCAGCAAGACACTCCGGCTGGAGCTCTGGGCAGAGGCAGGGGAGAGGACACAGGGTGGCCTCAAAGAGGGGATGGGCAGCCTCCTCACAGGTGGGCTGGGCTGGCAAGGGCTCCAAGGCCCATCACTCTTGATCCTCAAAGGACTGTGGCCAAGGCCTCTGCGGGCTCTGGCCTGAGACAGCGAAGGCTCTGCCTGCCCCTCCCCAGTGCAGCAGCCCCTGCAGGGTGGGGGTCTGTGGCAGAGCCGCGAGCCCCTCCCCGGGAGCCCTGGGTGCAGGTGCAGAGGGAGAATTCGGTGGCCTCAGATGGAGGGCTGGGCTCCTGGGGTTGTCCCGGGGGCTCCTGTGGGGCAGCTGGGGACCCACAGCCAAGAGGAGTCAGAGATGAGGTGGGAAGGTCGGTGAGGGGCCCGAGGTGGCAGAGGAAGGGGGCTGCCTGGCTGGGTGCTGGGTGGGGGTCCTCAAGACTGTGGGAGACCCTGGCTGCTGAGCAGAGAACACATGGATGCAGCACCAATAAAATTCTATCTTTTCTTTTTC\n"
          ]
        }
      ]
    },
    {
      "cell_type": "code",
      "source": [
        "len(genes['1'])"
      ],
      "metadata": {
        "colab": {
          "base_uri": "https://localhost:8080/"
        },
        "id": "TILFM_jJkV-r",
        "outputId": "1d1fa924-1bde-42c8-9bd5-a2bc1927a134"
      },
      "execution_count": null,
      "outputs": [
        {
          "output_type": "execute_result",
          "data": {
            "text/plain": [
              "248956422"
            ]
          },
          "metadata": {},
          "execution_count": 12
        }
      ]
    },
    {
      "cell_type": "markdown",
      "source": [
        "### csv_to_fasta function"
      ],
      "metadata": {
        "id": "Muj2DAh3wyKT"
      }
    },
    {
      "cell_type": "code",
      "source": [
        "def csv_to_fasta(csv_file, Fasta_obj, new_file):\n",
        "  \"\"\"\n",
        "  :param csv_file: CSV from gff_gene_consensus with genes' chrom, name, coordinates, etc\n",
        "  :param Fasta_obj: Fasta obj (pyfaidx) using fasta file with chromosome sequences\n",
        "  :param new_file: Name for new fasta file with extracted gene sequences\n",
        "  \"\"\"\n",
        "  with open(new_file, \"w+\") as fh:\n",
        "    with open(csv_file, newline='') as csvfile:\n",
        "      f_reader = csv.reader(csvfile, delimiter=' ', quotechar='|')\n",
        "      next(f_reader)\n",
        "      for row in f_reader:\n",
        "\n",
        "        chrom = row[0].split(',')[1]\n",
        "        strand = row[0].split(',')[2]\n",
        "        name = row[0].split(',')[3]\n",
        "        id = row[0].split(',')[4]\n",
        "        start = row[0].split(',')[5]\n",
        "        end = row[0].split(',')[6]\n",
        "        #print(id, name, chrom, strand, start, end)\n",
        "        if strand == \"+\":\n",
        "          seq = str(Fasta_obj[chrom][int(start)-1:int(end)])\n",
        "        elif strand == \"-\":\n",
        "          seq = str(-Fasta_obj[chrom][int(start)-1:int(end)])\n",
        "        #print(seq[:20])\n",
        "\n",
        "\n",
        "        fh.write(\">{0} [acronym={1}] [chromosome={2}]\".format(id, name, chrom))\n",
        "        fh.write(\"\\n{0}\\n\".format(seq))\n",
        "\n",
        "\n"
      ],
      "metadata": {
        "id": "kt7eD2ibyVcJ"
      },
      "execution_count": null,
      "outputs": []
    },
    {
      "cell_type": "code",
      "source": [
        "csvfile = \"/content/drive/My Drive/Lab_share/Lab_member/SophiaBick/HughesIntern/gff_gene_consensus_gene.csv\""
      ],
      "metadata": {
        "id": "GBdmZ424EI7X"
      },
      "execution_count": null,
      "outputs": []
    },
    {
      "cell_type": "code",
      "source": [
        "csvfile2 = \"/content/drive/My Drive/Lab_share/Lab_member/SophiaBick/HughesIntern/gff_gene_consensus_all.csv\""
      ],
      "metadata": {
        "id": "OVJhBbC6lVK1"
      },
      "execution_count": null,
      "outputs": []
    },
    {
      "cell_type": "code",
      "source": [
        "csv_to_fasta(csvfile, genes, \"csv_gene_seq_gene.fa\")"
      ],
      "metadata": {
        "id": "r2tNPZC__vDG"
      },
      "execution_count": null,
      "outputs": []
    },
    {
      "cell_type": "code",
      "source": [
        "csv_to_fasta(csvfile2, genes, \"csv_gene_seq_all.fa\")"
      ],
      "metadata": {
        "id": "SvIqPo6klZxW"
      },
      "execution_count": null,
      "outputs": []
    },
    {
      "cell_type": "code",
      "source": [
        "# to download to local drive more simply, download gzip file\n",
        "# !gzip \"csv_gene_seq_gene.fa\"  (3 minutes)\n",
        "# !gzip \"csv_gene_seq_all.fa\"   (5 minutes)"
      ],
      "metadata": {
        "id": "IKWZkd7ZU5hE"
      },
      "execution_count": null,
      "outputs": []
    },
    {
      "cell_type": "code",
      "source": [
        "!cp \"csv_gene_seq_gene.fa\" \"/content/drive/My Drive/Lab_share/Lab_member/SophiaBick/HughesIntern\""
      ],
      "metadata": {
        "id": "Gv9W_kLRim6F"
      },
      "execution_count": null,
      "outputs": []
    },
    {
      "cell_type": "code",
      "source": [
        "!cp \"csv_gene_seq_all.fa\" \"/content/drive/My Drive/Lab_share/Lab_member/SophiaBick/HughesIntern\""
      ],
      "metadata": {
        "id": "39RUBaacldfH"
      },
      "execution_count": null,
      "outputs": []
    },
    {
      "cell_type": "markdown",
      "source": [
        "### representative transcript extraction"
      ],
      "metadata": {
        "id": "D2yVzypffxIC"
      }
    },
    {
      "cell_type": "code",
      "source": [
        "all_transcripts = \"/content/drive/My Drive/Lab_share/Lab_member/SophiaBick/HughesIntern/gff_gene_individual_all.csv\""
      ],
      "metadata": {
        "id": "mHWLdFbff1l-"
      },
      "execution_count": null,
      "outputs": []
    },
    {
      "cell_type": "code",
      "source": [
        "rep_a1 = \"/content/drive/My Drive/Lab_share/Lab_member/SophiaBick/HughesIntern/gff_gene_representative_algorithm1.csv\""
      ],
      "metadata": {
        "id": "sMKuy3Oqgne_"
      },
      "execution_count": null,
      "outputs": []
    },
    {
      "cell_type": "code",
      "source": [
        "df_all = pd.read_csv(all_transcripts)"
      ],
      "metadata": {
        "colab": {
          "base_uri": "https://localhost:8080/"
        },
        "id": "W01FcKq4gzzf",
        "outputId": "75ac5e4c-e73e-44be-f5bd-36e615020b70"
      },
      "execution_count": null,
      "outputs": [
        {
          "output_type": "stream",
          "name": "stderr",
          "text": [
            "<ipython-input-10-ed4121ea1069>:1: DtypeWarning: Columns (1,14) have mixed types. Specify dtype option on import or set low_memory=False.\n",
            "  df_all = pd.read_csv(all_transcripts)\n"
          ]
        }
      ]
    },
    {
      "cell_type": "code",
      "source": [
        "df_a1 = pd.read_csv(rep_a1)"
      ],
      "metadata": {
        "id": "QZoImwMthKD-"
      },
      "execution_count": null,
      "outputs": []
    },
    {
      "cell_type": "code",
      "source": [
        "representative = df_a1[\"representative_transcript\"]  # gather Series of representative transcripts via algorithm 1"
      ],
      "metadata": {
        "id": "dD3T1bZbiSSH"
      },
      "execution_count": null,
      "outputs": []
    },
    {
      "cell_type": "code",
      "source": [
        "print(representative)\n",
        "print(type(representative))"
      ],
      "metadata": {
        "id": "qprVhlyTizEz",
        "colab": {
          "base_uri": "https://localhost:8080/"
        },
        "outputId": "28076f45-e0a1-492d-a24a-a5f6ce95572f"
      },
      "execution_count": null,
      "outputs": [
        {
          "output_type": "stream",
          "name": "stdout",
          "text": [
            "0        ENST00000641515\n",
            "1        ENST00000426406\n",
            "2        ENST00000332831\n",
            "3        ENST00000618323\n",
            "4        ENST00000477976\n",
            "              ...       \n",
            "62651    ENST00000420810\n",
            "62652    ENST00000456738\n",
            "62653    ENST00000435945\n",
            "62654    ENST00000435741\n",
            "62655    ENST00000431853\n",
            "Name: representative_transcript, Length: 62656, dtype: object\n",
            "<class 'pandas.core.series.Series'>\n"
          ]
        }
      ]
    },
    {
      "cell_type": "code",
      "source": [
        "df_filter = df_all.loc[df_all[\"transcript_id\"].isin(representative)]  # filter csv file to only representative transcript info"
      ],
      "metadata": {
        "id": "QdL1ejx5i2sl"
      },
      "execution_count": null,
      "outputs": []
    },
    {
      "cell_type": "code",
      "source": [
        "df_all[\"transcript_id\"].isin(representative)"
      ],
      "metadata": {
        "id": "RGfwAnEho0UR",
        "colab": {
          "base_uri": "https://localhost:8080/"
        },
        "outputId": "cf8467fe-c175-4ebc-aa97-492613386b30"
      },
      "execution_count": null,
      "outputs": [
        {
          "output_type": "execute_result",
          "data": {
            "text/plain": [
              "0          True\n",
              "1          True\n",
              "2          True\n",
              "3         False\n",
              "4         False\n",
              "          ...  \n",
              "252733     True\n",
              "252734     True\n",
              "252735     True\n",
              "252736     True\n",
              "252737     True\n",
              "Name: transcript_id, Length: 252738, dtype: bool"
            ]
          },
          "metadata": {},
          "execution_count": 15
        }
      ]
    },
    {
      "cell_type": "code",
      "source": [
        "df_filter.reset_index(inplace=True)\n",
        "df_filter.index += 1\n",
        "df_filter.pop(\"index\")\n",
        "df_filter.pop(\"Unnamed: 0\")"
      ],
      "metadata": {
        "id": "__JSM3UsleUB",
        "colab": {
          "base_uri": "https://localhost:8080/"
        },
        "outputId": "88215e1c-841c-40dd-b859-f4114b412be8"
      },
      "execution_count": null,
      "outputs": [
        {
          "output_type": "execute_result",
          "data": {
            "text/plain": [
              "1             0\n",
              "2             1\n",
              "3             2\n",
              "4            15\n",
              "5            20\n",
              "          ...  \n",
              "62652    252733\n",
              "62653    252734\n",
              "62654    252735\n",
              "62655    252736\n",
              "62656    252737\n",
              "Name: Unnamed: 0, Length: 62656, dtype: int64"
            ]
          },
          "metadata": {},
          "execution_count": 16
        }
      ]
    },
    {
      "cell_type": "code",
      "source": [
        "print(df_filter)"
      ],
      "metadata": {
        "id": "cWY51XR4j7NV"
      },
      "execution_count": null,
      "outputs": []
    },
    {
      "cell_type": "code",
      "source": [
        "len(df_filter) # 75 are left out because of ties"
      ],
      "metadata": {
        "colab": {
          "base_uri": "https://localhost:8080/"
        },
        "id": "Rr_H5oENmiaF",
        "outputId": "2d12aa46-0a65-4c6d-92b8-458cf96aefb4"
      },
      "execution_count": null,
      "outputs": [
        {
          "output_type": "execute_result",
          "data": {
            "text/plain": [
              "62656"
            ]
          },
          "metadata": {},
          "execution_count": 17
        }
      ]
    },
    {
      "cell_type": "code",
      "source": [
        "len(df_a1)"
      ],
      "metadata": {
        "colab": {
          "base_uri": "https://localhost:8080/"
        },
        "id": "dEYFoOjcmokW",
        "outputId": "f1a5f4e4-86ad-41cb-9cee-dd85810f0c9c"
      },
      "execution_count": null,
      "outputs": [
        {
          "output_type": "execute_result",
          "data": {
            "text/plain": [
              "62656"
            ]
          },
          "metadata": {},
          "execution_count": 18
        }
      ]
    },
    {
      "cell_type": "code",
      "source": [
        "df_filter.to_csv(\"representative_transcript.csv\")\n",
        "df_filter.to_csv(\"/content/drive/My Drive/Lab_share/Lab_member/SophiaBick/HughesIntern/representative_transcript.csv\")"
      ],
      "metadata": {
        "id": "zHSjhl-vlAAt"
      },
      "execution_count": null,
      "outputs": []
    },
    {
      "cell_type": "code",
      "source": [
        "def trans_csv_to_fasta(csv_file, Fasta_obj, new_file):\n",
        "  \"\"\"\n",
        "  :param csv_file: CSV from gff_gene_consensus with genes' chrom, name, coordinates, etc\n",
        "  :param Fasta_obj: Fasta obj (pyfaidx) using fasta file with chromosome sequences\n",
        "  :param new_file: Name for new fasta file with extracted gene sequences\n",
        "  \"\"\"\n",
        "  with open(new_file, \"w+\") as fh:\n",
        "    with open(csv_file, newline='') as csvfile:\n",
        "      f_reader = csv.reader(csvfile)\n",
        "      next(f_reader)\n",
        "      for row in f_reader:  # for ea gene\n",
        "        chrom = row[1]\n",
        "        strand = row[2]\n",
        "        gene_name = row[3]\n",
        "        gene_id = row[4]\n",
        "        transcript_name = row[7]\n",
        "        transcript_id = row[8]\n",
        "        exon_positions = row[12]\n",
        "        seq = ''\n",
        "        #print(gene_id, gene_name, chrom, strand)\n",
        "\n",
        "        for exon in exon_positions.split(\";\"):  # ea exon chunk info\n",
        "          #print(exon)\n",
        "          coord = exon.split(\":\")[1]\n",
        "\n",
        "          if strand == \"+\":\n",
        "            #coord = exon.split(\":\")[1]  # exon's coordinates\n",
        "            start_slice = coord.split('-')[0]  # exon slice locations\n",
        "            end_slice = coord.split('-')[1]\n",
        "            seq += str(Fasta_obj[chrom][int(start_slice)-1:int(end_slice)])\n",
        "\n",
        "          elif strand == \"-\":  # file has '- strand' transcript coordinates 5' to 3' (big to small) BUT pyfaidx only supports small to big slice\n",
        "            #coord = exon.split(\":\")[1]\n",
        "            start_slice = coord.split('-')[1]  # start slice is actually exon's coordinate end and vice versa\n",
        "            end_slice = coord.split('-')[0]  # since slicing only small to big\n",
        "            seq += str(-Fasta_obj[chrom][int(start_slice)-1:int(end_slice)]) # reverse complement\n",
        "\n",
        "\n",
        "        #print(seq[:20])\n",
        "\n",
        "\n",
        "\n",
        "        fh.write(\">{0} [acronym={1}] [chromosome={2}] [gene={3}]\".format(transcript_id, transcript_name, chrom, gene_id))\n",
        "        fh.write(\"\\n{0}\\n\".format(seq))"
      ],
      "metadata": {
        "id": "qJ78LBaWmQk8"
      },
      "execution_count": null,
      "outputs": []
    },
    {
      "cell_type": "code",
      "source": [
        "rep_trans = \"/content/drive/My Drive/Lab_share/Lab_member/SophiaBick/HughesIntern/representative_transcript.csv\""
      ],
      "metadata": {
        "id": "8H3RJcZ7ovLG"
      },
      "execution_count": null,
      "outputs": []
    },
    {
      "cell_type": "code",
      "source": [
        "trans_csv_to_fasta(rep_trans, genes, \"csv_rep_sequence.fa\")"
      ],
      "metadata": {
        "id": "h-BSoe0qp9v5"
      },
      "execution_count": null,
      "outputs": []
    },
    {
      "cell_type": "code",
      "source": [
        "!cp \"csv_rep_sequence.fa\" \"/content/drive/My Drive/Lab_share/Lab_member/SophiaBick/HughesIntern\""
      ],
      "metadata": {
        "id": "3PMwbHZbvAlN"
      },
      "execution_count": null,
      "outputs": []
    },
    {
      "cell_type": "code",
      "source": [
        "genes[\"1\"][100000:100100]"
      ],
      "metadata": {
        "colab": {
          "base_uri": "https://localhost:8080/"
        },
        "id": "-sSyQARPoDl1",
        "outputId": "2e340d0f-9aec-4191-b63d-d21ca1d54c68"
      },
      "execution_count": null,
      "outputs": [
        {
          "output_type": "execute_result",
          "data": {
            "text/plain": [
              ">1:100001-100100\n",
              "ACTAAGCACACAGAGAATAATGTCTAGAATCTGAGTGCCATGTTATCAAATTGTACTGAGACTCTTGCAGTCACACAGGCTGACATGTAAGCATCGCCAT"
            ]
          },
          "metadata": {},
          "execution_count": 34
        }
      ]
    },
    {
      "cell_type": "code",
      "source": [
        "genes[\"1\"][100100:100000]"
      ],
      "metadata": {
        "colab": {
          "base_uri": "https://localhost:8080/"
        },
        "id": "HsROWJUpopO-",
        "outputId": "6852cc1e-e1a6-421a-cff9-33cb05e6bdc0"
      },
      "execution_count": null,
      "outputs": [
        {
          "output_type": "execute_result",
          "data": {
            "text/plain": [
              ">1:100101-100101"
            ]
          },
          "metadata": {},
          "execution_count": 32
        }
      ]
    }
  ]
}
