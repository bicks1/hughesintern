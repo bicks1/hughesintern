{
  "nbformat": 4,
  "nbformat_minor": 0,
  "metadata": {
    "colab": {
      "provenance": [],
      "collapsed_sections": [
        "SZzT-Yzahy9g",
        "1LFPBU5ysI3A",
        "jzU7cLsFcXf4",
        "8zT93qWNipsi",
        "fwxy1tj1-Rh-"
      ],
      "include_colab_link": true
    },
    "kernelspec": {
      "name": "python3",
      "display_name": "Python 3"
    },
    "language_info": {
      "name": "python"
    }
  },
  "cells": [
    {
      "cell_type": "markdown",
      "metadata": {
        "id": "view-in-github",
        "colab_type": "text"
      },
      "source": [
        "<a href=\"https://colab.research.google.com/github/bicks1/hughesintern/blob/main/gff_gene_representative_v3.ipynb\" target=\"_parent\"><img src=\"https://colab.research.google.com/assets/colab-badge.svg\" alt=\"Open In Colab\"/></a>"
      ]
    },
    {
      "cell_type": "markdown",
      "source": [
        "\n",
        "**File Name**:\n",
        "\n",
        "```\n",
        "gff_gene_representative.v3.ipynb\n",
        "```\n",
        "\n",
        "**Description**:\n",
        "\n",
        "```\n",
        "This program is a part of a series of programs for information extraction and mining of gene annotations in GFF3 files.\n",
        "\n",
        "Using this script, exonic and intronic gene information is extracted for individual genes.\n",
        "\n",
        "Feature/Type (column 3) defintions: http://www.sequenceontology.org/browser/obob.cgi\n",
        "\n",
        "Biotype(attribute in column 9) definition: https://www.gencodegenes.org/pages/biotypes.html\n",
        "\n",
        "```\n",
        "\n",
        "**Authors**:\n",
        "\n",
        "```\n",
        "Sophia Bick, Chun Liang\n",
        "```\n"
      ],
      "metadata": {
        "id": "1gFGqACBR57H"
      }
    },
    {
      "cell_type": "markdown",
      "source": [
        "###[Step 1]: Install Python modules, Map Google Drive that contains GFF3 files"
      ],
      "metadata": {
        "id": "4kj7TVSGR1_e"
      }
    },
    {
      "cell_type": "code",
      "execution_count": null,
      "metadata": {
        "id": "FSm55tKPvcou",
        "colab": {
          "base_uri": "https://localhost:8080/"
        },
        "outputId": "9ecc0c58-9bbd-4e75-ba9a-24f86fd1d1d1"
      },
      "outputs": [
        {
          "output_type": "stream",
          "name": "stdout",
          "text": [
            "Collecting gffutils\n",
            "  Downloading gffutils-0.12-py3-none-any.whl (1.6 MB)\n",
            "\u001b[2K     \u001b[90m━━━━━━━━━━━━━━━━━━━━━━━━━━━━━━━━━━━━━━━━\u001b[0m \u001b[32m1.6/1.6 MB\u001b[0m \u001b[31m8.5 MB/s\u001b[0m eta \u001b[36m0:00:00\u001b[0m\n",
            "\u001b[?25hCollecting pyfaidx>=0.5.5.2 (from gffutils)\n",
            "  Downloading pyfaidx-0.7.2.1-py3-none-any.whl (28 kB)\n",
            "Requirement already satisfied: six>=1.12.0 in /usr/local/lib/python3.10/dist-packages (from gffutils) (1.16.0)\n",
            "Collecting argh>=0.26.2 (from gffutils)\n",
            "  Downloading argh-0.28.1-py3-none-any.whl (40 kB)\n",
            "\u001b[2K     \u001b[90m━━━━━━━━━━━━━━━━━━━━━━━━━━━━━━━━━━━━━━━━\u001b[0m \u001b[32m40.5/40.5 kB\u001b[0m \u001b[31m4.1 MB/s\u001b[0m eta \u001b[36m0:00:00\u001b[0m\n",
            "\u001b[?25hCollecting argcomplete>=1.9.4 (from gffutils)\n",
            "  Downloading argcomplete-3.1.1-py3-none-any.whl (41 kB)\n",
            "\u001b[2K     \u001b[90m━━━━━━━━━━━━━━━━━━━━━━━━━━━━━━━━━━━━━━━━\u001b[0m \u001b[32m41.5/41.5 kB\u001b[0m \u001b[31m4.1 MB/s\u001b[0m eta \u001b[36m0:00:00\u001b[0m\n",
            "\u001b[?25hCollecting simplejson (from gffutils)\n",
            "  Downloading simplejson-3.19.1-cp310-cp310-manylinux_2_5_x86_64.manylinux1_x86_64.manylinux_2_17_x86_64.manylinux2014_x86_64.whl (137 kB)\n",
            "\u001b[2K     \u001b[90m━━━━━━━━━━━━━━━━━━━━━━━━━━━━━━━━━━━━━━\u001b[0m \u001b[32m137.9/137.9 kB\u001b[0m \u001b[31m14.3 MB/s\u001b[0m eta \u001b[36m0:00:00\u001b[0m\n",
            "\u001b[?25hRequirement already satisfied: setuptools in /usr/local/lib/python3.10/dist-packages (from pyfaidx>=0.5.5.2->gffutils) (67.7.2)\n",
            "Installing collected packages: simplejson, pyfaidx, argh, argcomplete, gffutils\n",
            "Successfully installed argcomplete-3.1.1 argh-0.28.1 gffutils-0.12 pyfaidx-0.7.2.1 simplejson-3.19.1\n"
          ]
        }
      ],
      "source": [
        "!pip install gffutils"
      ]
    },
    {
      "cell_type": "code",
      "source": [
        "from google.colab import drive\n",
        "drive.mount('/content/drive')"
      ],
      "metadata": {
        "colab": {
          "base_uri": "https://localhost:8080/"
        },
        "id": "IytUqpP0vgGN",
        "outputId": "c8c0785a-88de-45c2-f7f0-2ca65cd204f6"
      },
      "execution_count": null,
      "outputs": [
        {
          "output_type": "stream",
          "name": "stdout",
          "text": [
            "Mounted at /content/drive\n"
          ]
        }
      ]
    },
    {
      "cell_type": "code",
      "source": [
        "hg38gff = \"/content/drive/My Drive/Lab_share/Lab_member/SophiaBick/HughesIntern/Homo_sapiens.GRCh38.109.chr.gff3\""
      ],
      "metadata": {
        "id": "-cQVu5ZBvmxh"
      },
      "execution_count": null,
      "outputs": []
    },
    {
      "cell_type": "code",
      "source": [
        "import gffutils"
      ],
      "metadata": {
        "id": "xFCPb53LvnTH"
      },
      "execution_count": null,
      "outputs": []
    },
    {
      "cell_type": "code",
      "source": [
        "import pandas as pd"
      ],
      "metadata": {
        "id": "s1MXYJMaG6K5"
      },
      "execution_count": null,
      "outputs": []
    },
    {
      "cell_type": "code",
      "source": [
        "import numpy as np"
      ],
      "metadata": {
        "id": "MaVQHm7WHQFf"
      },
      "execution_count": null,
      "outputs": []
    },
    {
      "cell_type": "code",
      "source": [
        "# It takes a long time (about 8 mins) to build the database that contains parent (genes) and child (transcripts) relationships\n",
        "# The following command imports the file into a local sqlite3 file-based database (\"test.db\")\n",
        "##db = gffutils.create_db(hg38gff, dbfn='test.db', force=True, keep_order=False, merge_strategy='create_unique', sort_attribute_values=False)\n"
      ],
      "metadata": {
        "id": "4ELGWY8LvpfN"
      },
      "execution_count": null,
      "outputs": []
    },
    {
      "cell_type": "code",
      "source": [
        "database = \"/content/drive/My Drive/Lab_share/Lab_member/SophiaBick/HughesIntern/test.db\""
      ],
      "metadata": {
        "id": "IX6J-BCHSK0u"
      },
      "execution_count": null,
      "outputs": []
    },
    {
      "cell_type": "code",
      "source": [
        "# The following command connects to the database previously created\n",
        "# FeatureDB methods allow interaction with the database\n",
        "db = gffutils.FeatureDB(database, keep_order=False)"
      ],
      "metadata": {
        "id": "q8N1CjsySHP7"
      },
      "execution_count": null,
      "outputs": []
    },
    {
      "cell_type": "markdown",
      "source": [
        "\n",
        "\n",
        "---\n",
        "\n"
      ],
      "metadata": {
        "id": "k9bX2r9B7-fT"
      }
    },
    {
      "cell_type": "markdown",
      "source": [
        "###rep_csv\n",
        "* uses MANE_Select or Ensembl_canonical for representative transcript\n",
        "* includes longest, shortest, least exon, and most exon transcripts\n"
      ],
      "metadata": {
        "id": "8zT93qWNipsi"
      }
    },
    {
      "cell_type": "code",
      "source": [
        "def rep_csv(db, gene_cat, filename):\n",
        "\n",
        "  import csv\n",
        "\n",
        "\n",
        "  # write csv file for the gene category specfied\n",
        "  with open(filename, 'w', newline='') as csvfile:\n",
        "    writer = csv.writer(csvfile, delimiter=',')\n",
        "    fields = [\"chromosome\", \"strand\", \"gene_name\", \"gene_id\", \"number_of_transcripts\", \"shortest_transcript\", \"shortest_length\", \"longest_transcript\", \"longest_length\", \"least_exon_transcript\", \"least_exon_number\", \"most_exon_transcript\",\"most_exon_number\", \"representative_transcript\", \"representative_defined_by\"]\n",
        "    writer.writerow(fields)  # write header of csv\n",
        "    for gene in db.features_of_type(gene_cat):  # for ea featuretype gene\n",
        "      # transcript initialize\n",
        "      counter = 0\n",
        "      trans_min = 9999999999\n",
        "      trans_max = 0\n",
        "\n",
        "      # exon initialize\n",
        "      exon_min = 9999999999\n",
        "      exon_max = 0\n",
        "\n",
        "      key = gene[\"gene_id\"][0]  # key is gene's gene_id (internaly 1 item list)\n",
        "      #print(key)\n",
        "\n",
        "      # each transcript/child of gene\n",
        "      #### CHANGE featuretype= if want to change type of transcripts analyzed\n",
        "      for c in db.children(gene, featuretype=('mRNA', 'lnc_RNA', 'transcript', 'pseudogenic_transcript', 'ncRNA', 'snRNA', 'miRNA', 'unconfirmed_transcript', 'snoRNA', 'V_gene_segment', 'J_gene_segment', 'scRNA', 'rRNA', 'D_gene_segment', 'C_gene_segment', 'tRNA')):\n",
        "        exon_count = 0  # flush exon count for ea new transcript\n",
        "        counter += 1 # count num of transcripts in gene\n",
        "        length = abs(c.end - c.start) + 1  # length of transcript (nt)\n",
        "\n",
        "        for exon in db.children(c, featuretype=\"exon\"):\n",
        "          exon_count += 1  # number of exons in ea transcript\n",
        "          #print(exon)\n",
        "\n",
        "        try:\n",
        "          for ea in c[\"tag\"]:\n",
        "            if ea == \"Ensembl_canonical\":\n",
        "              represent = c[\"transcript_id\"][0]\n",
        "              represent_defined = ea\n",
        "            elif ea == \"MANE_Select\":\n",
        "              if represent == c[\"transcript_id\"][0]:\n",
        "                represent_defined = represent_defined + ':' + ea\n",
        "              else:\n",
        "                print(\"MANE and Ensembl canonical tags not on same transcript, MANE is on transcript\", c[\"transcript_ic\"][0], \"and Ensembl canonical is on\", represent)\n",
        "        except KeyError:\n",
        "          #print(\"no tag\")\n",
        "          pass\n",
        "\n",
        "        category = c.featuretype\n",
        "\n",
        "        if length < trans_min:  # determine min and max length and transcript ID\n",
        "          trans_min = length\n",
        "          trans_min_label = c[\"transcript_id\"][0]  # changed from \"ID\"\n",
        "          trans_min_type = c.featuretype\n",
        "        elif length == trans_min:\n",
        "          trans_min_label = trans_min_label + ':' + c[\"transcript_id\"][0]\n",
        "        if length > trans_max:\n",
        "          trans_max = length\n",
        "          trans_max_label = c[\"transcript_id\"][0]\n",
        "          trans_max_type = c.featuretype\n",
        "        elif length == trans_max:\n",
        "          trans_max_label = trans_max_label + ':' + c[\"transcript_id\"][0]\n",
        "\n",
        "        if exon_count < exon_min:  # determine min and max exon count and transcript ID\n",
        "          exon_min = exon_count\n",
        "          exon_min_label = c[\"transcript_id\"][0]\n",
        "        elif exon_count == exon_min:\n",
        "          exon_min_label = exon_min_label + ':' + c[\"transcript_id\"][0]\n",
        "\n",
        "        if exon_count > exon_max:\n",
        "          exon_max = exon_count\n",
        "          exon_max_label = c[\"transcript_id\"][0]\n",
        "        elif exon_count == exon_max:\n",
        "          exon_max_label = exon_max_label + ':' + c[\"transcript_id\"][0]\n",
        "\n",
        "      try:\n",
        "          gene_name = gene[\"Name\"][0]\n",
        "      except KeyError:\n",
        "          gene_name = \"None\"\n",
        "\n",
        "      #print(counter)\n",
        "      writer.writerow([gene.seqid, gene.strand, gene_name, gene[\"gene_id\"][0], counter, trans_min_label, trans_min, trans_max_label, trans_max, exon_min_label, exon_min, exon_max_label, exon_max, represent, represent_defined])\n",
        "      #print(gene.seqid, gene.strand, gene_name, gene[\"gene_id\"][0], trans_min_label, trans_min,  trans_max_label, trans_max, exon_min_label, exon_min, exon_max_label, exon_max, represent, represent_defined)"
      ],
      "metadata": {
        "id": "VNcSGH43e0de"
      },
      "execution_count": null,
      "outputs": []
    },
    {
      "cell_type": "code",
      "source": [
        "rep_csv(db, (\"gene\", \"ncRNA_gene\", \"pseudogene\"), \"gff_gene_represent_all.csv\")"
      ],
      "metadata": {
        "id": "_XpSa09R1_VN"
      },
      "execution_count": null,
      "outputs": []
    },
    {
      "cell_type": "code",
      "source": [
        "df = pd.read_csv(\"gff_gene_represent_all.csv\")\n",
        "df.to_csv(\"/content/drive/My Drive/Lab_share/Lab_member/SophiaBick/HughesIntern/gff_gene_represent_all.csv\")"
      ],
      "metadata": {
        "id": "7JYQEB9XewAC"
      },
      "execution_count": null,
      "outputs": []
    },
    {
      "cell_type": "code",
      "source": [
        "print(len(df))"
      ],
      "metadata": {
        "colab": {
          "base_uri": "https://localhost:8080/"
        },
        "id": "3m9cg-PphRSy",
        "outputId": "b0fb28ca-bfae-42ca-ae16-b8e7b97a24a4"
      },
      "execution_count": null,
      "outputs": [
        {
          "output_type": "stream",
          "name": "stdout",
          "text": [
            "62656\n"
          ]
        }
      ]
    },
    {
      "cell_type": "markdown",
      "source": [
        "Code to make separate files for longest, shortest, least exon, and most exon transcript"
      ],
      "metadata": {
        "id": "Uw0Mno_UEa3h"
      }
    },
    {
      "cell_type": "code",
      "source": [
        "df1 = df.iloc[: , [0, 1, 2, 3, 4, 5, 6]].copy()\n",
        "print(df1)\n",
        "df1.to_csv(\"gff_gene_represent_all_shortest.csv\")\n",
        "df1.to_csv(\"/content/drive/My Drive/Lab_share/Lab_member/SophiaBick/HughesIntern/gff_gene_represent_all_shortest.csv\")"
      ],
      "metadata": {
        "id": "ZqaMSJbrw0lq"
      },
      "execution_count": null,
      "outputs": []
    },
    {
      "cell_type": "code",
      "source": [
        "df2 = df.iloc[: , [0, 1, 2, 3, 4, 7, 8]].copy()\n",
        "print(df2)\n",
        "df2.to_csv(\"gff_gene_represent_all_longest.csv\")\n",
        "df2.to_csv(\"/content/drive/My Drive/Lab_share/Lab_member/SophiaBick/HughesIntern/gff_gene_represent_all_longest.csv\")"
      ],
      "metadata": {
        "id": "HeETbjp3zUgU"
      },
      "execution_count": null,
      "outputs": []
    },
    {
      "cell_type": "code",
      "source": [
        "df3 = df.iloc[: , [0, 1, 2, 3, 4, 9, 10]].copy()\n",
        "print(df3)\n",
        "df3.to_csv(\"gff_gene_represent_all_leastexon.csv\")\n",
        "df3.to_csv(\"/content/drive/My Drive/Lab_share/Lab_member/SophiaBick/HughesIntern/gff_gene_represent_all_leastexon.csv\")"
      ],
      "metadata": {
        "id": "5L1O1PiFzcnn"
      },
      "execution_count": null,
      "outputs": []
    },
    {
      "cell_type": "code",
      "source": [
        "df4 = df.iloc[: , [0, 1, 2, 3, 4, 11, 12]].copy()\n",
        "print(df4)\n",
        "df4.to_csv(\"gff_gene_represent_all_mostexon.csv\")\n",
        "df4.to_csv(\"/content/drive/My Drive/Lab_share/Lab_member/SophiaBick/HughesIntern/gff_gene_represent_all_mostexon.csv\")"
      ],
      "metadata": {
        "id": "uT-giMfDzdPK"
      },
      "execution_count": null,
      "outputs": []
    },
    {
      "cell_type": "code",
      "source": [
        "df5 = df.iloc[: , [0, 1, 2, 3, 4, 13, 14]].copy()\n",
        "print(df5)\n",
        "df5.to_csv(\"gff_gene_represent_all_representative.csv\")\n",
        "df5.to_csv(\"/content/drive/My Drive/Lab_share/Lab_member/SophiaBick/HughesIntern/gff_gene_represent_all_representative.csv\")"
      ],
      "metadata": {
        "id": "yLFNy_RJzeJu"
      },
      "execution_count": null,
      "outputs": []
    },
    {
      "cell_type": "markdown",
      "source": [
        "### consensus_rep\n",
        "* detects if gene has a transcript with exact consensus match or not"
      ],
      "metadata": {
        "id": "fwxy1tj1-Rh-"
      }
    },
    {
      "cell_type": "code",
      "source": [
        "def consensus_rep(db, consensus_file, new_file):\n",
        "  import csv\n",
        "  with open(new_file, 'w', newline='') as fh:\n",
        "    writer = csv.writer(fh, delimiter=',')\n",
        "    fields = [\"chromosome\", \"strand\", \"gene_name\", \"gene_id\", \"gene_start\", \"gene_end\",\"number_of_transcripts\", \"exact_consensus_matched_transcript\"]\n",
        "    writer.writerow(fields)\n",
        "    with open(consensus_file, newline='') as csvfile:\n",
        "      f_reader = csv.reader(csvfile)\n",
        "      next(f_reader)\n",
        "      for row in f_reader:\n",
        "        chrom = row[1]\n",
        "        strand = row[2]\n",
        "        name = row[3]\n",
        "        gene_id = row[4]\n",
        "        g_start = row[5]\n",
        "        g_end = row[6]\n",
        "        exon_num = row[7]\n",
        "        consensus_exons = row[9]\n",
        "        consensus_dict = {}\n",
        "        consensus_exact = \"None\"\n",
        "        transcript_count = 0\n",
        "        #print(consensus_exons.split(\";\"))\n",
        "        for block in consensus_exons.split(\";\"):\n",
        "          #print(block.split(\":\"))\n",
        "          consensus_dict[block.split(\":\")[0]] = block.split(\":\")[1]\n",
        "        #print(consensus_dict)\n",
        "        consensus_dict_len = len(consensus_dict)\n",
        "\n",
        "        if strand == \"+\":  # for +, exons must ordered by start, ascending (smallest start first, then more)\n",
        "          order_by = (\"start\", \"end\")\n",
        "          reverse = False\n",
        "        elif strand == \"-\":  # for -, exons must ordered by end, descending (greatest end first, then less)\n",
        "          order_by = (\"end\")\n",
        "          reverse = True\n",
        "\n",
        "        for transcript in db.children(\"gene:\"+gene_id, featuretype=('mRNA', 'lnc_RNA', 'transcript', 'pseudogenic_transcript', 'ncRNA', 'snRNA', 'miRNA', 'unconfirmed_transcript', 'snoRNA', 'V_gene_segment', 'J_gene_segment', 'scRNA', 'rRNA', 'D_gene_segment', 'C_gene_segment', 'tRNA')):\n",
        "          #print(transcript)\n",
        "          transcript_count +=1\n",
        "          exon_counter = 1\n",
        "          for exon in db.children(transcript, featuretype=\"exon\", order_by=order_by, reverse=reverse):\n",
        "            #print(strand)\n",
        "            #print(exon.start)\n",
        "            #print(exon.end)\n",
        "            if strand == \"+\":  # determine the coordinates of the current exon in the gene's current transcript\n",
        "              exon_coord = str(exon.start) + '-' + str(exon.end)\n",
        "            elif strand == \"-\":\n",
        "              exon_coord = str(exon.end) + '-' + str(exon.start)\n",
        "            #print(exon_coord)\n",
        "            if exon_coord == consensus_dict[\"ConsensusExon_\" + str(exon_counter)]:  # ex: if 3rd exon of current transcript and 3rd consensus exon match...\n",
        "              if exon_counter == consensus_dict_len:  # if at last comparison of current exon\n",
        "                #print(\"Exact match\", transcript[\"transcript_id\"][0]) # transcript is exact to consensus exons\n",
        "                consensus_exact = transcript['transcript_id'][0]\n",
        "              else:  # not at last exon/consensus comparison yet\n",
        "                exon_counter += 1\n",
        "            else:  # exon coordinates do not match the consensus exon's coordinates\n",
        "              #print(\"not exact, breaking\")\n",
        "              break\n",
        "\n",
        "        writer.writerow([chrom, strand, name, gene_id, g_start, g_end, transcript_count, consensus_exact])\n",
        "        #print([chrom, strand, name, gene_id, g_start, g_end, consensus_exact])\n",
        "\n"
      ],
      "metadata": {
        "id": "azi5mx1E0wgN"
      },
      "execution_count": null,
      "outputs": []
    },
    {
      "cell_type": "code",
      "source": [
        "csvfile2 = \"/content/drive/My Drive/Lab_share/Lab_member/SophiaBick/HughesIntern/gff_gene_consensus_all.csv\""
      ],
      "metadata": {
        "id": "jt0EerQwLPz_"
      },
      "execution_count": null,
      "outputs": []
    },
    {
      "cell_type": "code",
      "source": [
        "consensus_rep(db, csvfile2, \"gff_gene_represent_exactconsensus.csv\")"
      ],
      "metadata": {
        "id": "KjcOBaBFLQZO"
      },
      "execution_count": null,
      "outputs": []
    },
    {
      "cell_type": "code",
      "source": [
        "df = pd.read_csv(\"gff_gene_represent_exactconsensus.csv\")\n",
        "df.to_csv(\"/content/drive/My Drive/Lab_share/Lab_member/SophiaBick/HughesIntern/gff_gene_represent_exactconsensus.csv\")"
      ],
      "metadata": {
        "id": "yrAEMgu2ehqH"
      },
      "execution_count": null,
      "outputs": []
    },
    {
      "cell_type": "code",
      "source": [
        "print(len(df))"
      ],
      "metadata": {
        "colab": {
          "base_uri": "https://localhost:8080/"
        },
        "id": "hQlwoW9zexfT",
        "outputId": "0084be30-db8a-485c-c6ff-344eef2cb873"
      },
      "execution_count": null,
      "outputs": [
        {
          "output_type": "stream",
          "name": "stdout",
          "text": [
            "62656\n"
          ]
        }
      ]
    },
    {
      "cell_type": "markdown",
      "source": [
        "### Various algorithms to determine representative transcript\n",
        "* algorithm 1 and 2 uses different ratios of exonic bp. Ties for ratios are broken by MANE_Select tag (or Ensembl_canonical tag if MANE not available)"
      ],
      "metadata": {
        "id": "-rnUI6EXChu0"
      }
    },
    {
      "cell_type": "markdown",
      "source": [
        "### consensus_rep_a1\n",
        "algorithm 1: (sum of each transcript exons' length) / (gene's length)\n",
        "\n",
        "highest ratio is representative transcript\n",
        "\n",
        "can only be 1.0 if gene has one transcript with one exon\n",
        "* rep transcript has most exon cover for total gene length\n",
        "* gene length is introns and exons"
      ],
      "metadata": {
        "id": "yoVGEui_0ydm"
      }
    },
    {
      "cell_type": "code",
      "source": [
        "def consensus_rep_a1(db, consensus_file, new_file):\n",
        "  import csv\n",
        "  with open(new_file, 'w', newline='') as fh:\n",
        "    writer = csv.writer(fh, delimiter=',')\n",
        "    fields = [\"chromosome\", \"strand\", \"gene_name\", \"gene_id\", \"gene_start\", \"gene_end\",\"number_of_transcripts\", \"representative_transcript\", \"ratio\"]\n",
        "    writer.writerow(fields)\n",
        "    with open(consensus_file, newline='') as csvfile:\n",
        "      f_reader = csv.reader(csvfile)\n",
        "      next(f_reader)\n",
        "      for row in f_reader:\n",
        "        chrom = row[1]\n",
        "        strand = row[2]\n",
        "        name = row[3]\n",
        "        gene_id = row[4]\n",
        "        g_start = int(row[5])\n",
        "        g_end = int(row[6])\n",
        "        exon_num = row[7]\n",
        "        consensus_exons = row[9]\n",
        "        transcript_count = 0\n",
        "\n",
        "        gene_length = abs(g_end - g_start) + 1\n",
        "\n",
        "        high_ratio = 0\n",
        "        for transcript in db.children(\"gene:\"+gene_id, featuretype=('mRNA', 'lnc_RNA', 'transcript', 'pseudogenic_transcript', 'ncRNA', 'snRNA', 'miRNA', 'unconfirmed_transcript', 'snoRNA', 'V_gene_segment', 'J_gene_segment', 'scRNA', 'rRNA', 'D_gene_segment', 'C_gene_segment', 'tRNA')):\n",
        "          #print(transcript)\n",
        "          transcript_count +=1  # count num of transcripts\n",
        "          exon_counter = 1\n",
        "          exonic_bp = db.children_bp(transcript, child_featuretype=\"exon\")  # gather len of all exons in that transcript\n",
        "          transcript_ratio = exonic_bp/gene_length  # save current transcript's ratio\n",
        "          if transcript_ratio > high_ratio:  # if current transcript's ratio is higher than previously saved ratio\n",
        "            high_ratio = transcript_ratio  # save new high ratio\n",
        "            r_transcript = transcript[\"transcript_id\"][0]  # save transcript id\n",
        "          elif transcript_ratio == high_ratio:  # if there is a tie\n",
        "            try:  # use MANE_Select &/or Ensembl_canonical to break tie\n",
        "              if \"MANE_Select\" in list(transcript[\"tag\"]):\n",
        "                r_transcript = transcript[\"transcript_id\"][0]\n",
        "              elif \"Ensembl_canonical\" in list(transcript[\"tag\"]):\n",
        "                r_transcript = transcript[\"transcript_id\"][0]\n",
        "              else:\n",
        "                if \"MANE_Select\" in db[\"transcript:\" + r_transcript][\"tag\"]:\n",
        "                  pass\n",
        "                elif \"Ensembl_canonical\" in db[\"transcript:\" + r_transcript][\"tag\"]:\n",
        "                  pass\n",
        "                else:\n",
        "                  #print(\"cannot break tie based on MANE or Ensembl_canonical\")\n",
        "                  pass\n",
        "            except KeyError:\n",
        "              #print(\"no tag\")\n",
        "              pass\n",
        "\n",
        "          for exon in db.children(transcript, featuretype=\"exon\"):\n",
        "            exon_counter +=1\n",
        "\n",
        "        if high_ratio > 1.0:\n",
        "          print(\"############potential error!\")\n",
        "\n",
        "        writer.writerow([chrom, strand, name, gene_id, g_start, g_end, transcript_count, r_transcript, high_ratio])\n",
        "        #print([chrom, strand, name, gene_id, str(g_start), str(g_end), transcript_count, r_transcript, high_ratio])\n"
      ],
      "metadata": {
        "id": "EHt9Rduf-jl7"
      },
      "execution_count": null,
      "outputs": []
    },
    {
      "cell_type": "code",
      "source": [
        "csvfile2 = \"/content/drive/My Drive/Lab_share/Lab_member/SophiaBick/HughesIntern/gff_gene_consensus_all.csv\""
      ],
      "metadata": {
        "id": "HqAKhu-tYJ7J"
      },
      "execution_count": null,
      "outputs": []
    },
    {
      "cell_type": "code",
      "source": [
        "consensus_rep_a1(db, csvfile2, \"gff_gene_representative_algorithm1.csv\")"
      ],
      "metadata": {
        "id": "_WJEim1tv_1R"
      },
      "execution_count": null,
      "outputs": []
    },
    {
      "cell_type": "code",
      "source": [
        "df = pd.read_csv(\"gff_gene_representative_algorithm1.csv\")\n",
        "df.to_csv(\"/content/drive/My Drive/Lab_share/Lab_member/SophiaBick/HughesIntern/gff_gene_representative_algorithm1.csv\")"
      ],
      "metadata": {
        "id": "S_91JDhsw_Kd"
      },
      "execution_count": null,
      "outputs": []
    },
    {
      "cell_type": "markdown",
      "source": [
        "### consensus_rep_a2\n",
        "algorithm 2: (sum of each transcript's exons' length) / (length of gene's consensus exons)\n",
        "\n",
        "Transcript with highest ratio is representative transcript for gene\n",
        "\n",
        "can only be 1.0 if transcript has all possible exons in it\n",
        "* rep transcript has most amount of exon cover compared to total amount of possible exons across all transcripts in gene"
      ],
      "metadata": {
        "id": "hG_Q1sOEzAmd"
      }
    },
    {
      "cell_type": "code",
      "source": [
        "def consensus_rep_a2(db, consensus_file, new_file):\n",
        "  import csv\n",
        "  with open(new_file, 'w', newline='') as fh:\n",
        "    writer = csv.writer(fh, delimiter=',')\n",
        "    fields = [\"chromosome\", \"strand\", \"gene_name\", \"gene_id\", \"gene_start\", \"gene_end\", \"number_of_transcripts\", \"representative_transcript\", \"ratio\"]\n",
        "    writer.writerow(fields)\n",
        "    with open(consensus_file, newline='') as csvfile:\n",
        "      f_reader = csv.reader(csvfile)\n",
        "      next(f_reader)\n",
        "      for row in f_reader:\n",
        "        chrom = row[1]\n",
        "        strand = row[2]\n",
        "        name = row[3]\n",
        "        gene_id = row[4]\n",
        "        g_start = int(row[5])\n",
        "        g_end = int(row[6])\n",
        "        exon_num = row[7]\n",
        "        consensus_exons = row[9]\n",
        "        consensus_dict = {}\n",
        "        transcript_count = 0\n",
        "        consensus_exon_len = 0\n",
        "\n",
        "        #print(consensus_exons.split(\";\"))\n",
        "        for block in consensus_exons.split(\";\"):\n",
        "          #print(block.split(\":\"))\n",
        "          consensus_dict[block.split(\":\")[0]] = block.split(\":\")[1]\n",
        "        #print(consensus_dict)\n",
        "        for key in consensus_dict.keys():  # take len of ea consensus exon and add to total sum\n",
        "          #print(consensus_dict[key].split(\"-\")[1])\n",
        "          #print(consensus_dict[key].split(\"-\")[0])\n",
        "          consensus_exon_len += abs(int(consensus_dict[key].split(\"-\")[1]) - int(consensus_dict[key].split(\"-\")[0])) + 1\n",
        "        consensus_dict_len = len(consensus_dict)  # number of total consensus exons for ea gene\n",
        "\n",
        "        high_ratio = 0\n",
        "        for transcript in db.children(\"gene:\"+gene_id, featuretype=('mRNA', 'lnc_RNA', 'transcript', 'pseudogenic_transcript', 'ncRNA', 'snRNA', 'miRNA', 'unconfirmed_transcript', 'snoRNA', 'V_gene_segment', 'J_gene_segment', 'scRNA', 'rRNA', 'D_gene_segment', 'C_gene_segment', 'tRNA')):\n",
        "          #print(transcript)\n",
        "          transcript_count +=1\n",
        "          exon_counter = 1\n",
        "          exonic_bp = db.children_bp(transcript, child_featuretype=\"exon\")\n",
        "          transcript_ratio = exonic_bp/consensus_exon_len\n",
        "          if transcript_ratio > high_ratio:\n",
        "            high_ratio = transcript_ratio\n",
        "            r_transcript = transcript[\"transcript_id\"][0]\n",
        "          elif transcript_ratio == high_ratio:\n",
        "            # r_transcript = r_transcript + ':' + transcript[\"transcript_id\"][0]  # if you want to record ties\n",
        "            try:  # use MANE_Select &/or Ensembl_canonical to break tie\n",
        "              if \"MANE_Select\" in list(transcript[\"tag\"]):\n",
        "                r_transcript = transcript[\"transcript_id\"][0]\n",
        "              elif \"Ensembl_canonical\" in list(transcript[\"tag\"]):\n",
        "                r_transcript = transcript[\"transcript_id\"][0]\n",
        "              else:\n",
        "                if \"MANE_Select\" in db[\"transcript:\" + r_transcript][\"tag\"]:\n",
        "                  pass\n",
        "                elif \"Ensembl_canonical\" in db[\"transcript:\" + r_transcript][\"tag\"]:\n",
        "                  pass\n",
        "                else:\n",
        "                  #print(\"cannot break tie based on MANE or Ensembl_canonical\")\n",
        "                  pass\n",
        "            except KeyError:\n",
        "              #print(\"no tag\")\n",
        "              pass\n",
        "\n",
        "\n",
        "          for exon in db.children(transcript, featuretype=\"exon\"):\n",
        "            exon_counter += 1\n",
        "\n",
        "        if high_ratio > 1.0:\n",
        "          print(\"############potential error!\")\n",
        "\n",
        "        #print(exonic_bp, \"*******\", consensus_exon_len)\n",
        "        writer.writerow([chrom, strand, name, gene_id, g_start, g_end, transcript_count, r_transcript, high_ratio ])\n",
        "        #print([chrom, strand, name, gene_id, g_start, g_end, transcript_count, r_transcript, high_ratio ])\n",
        "\n"
      ],
      "metadata": {
        "id": "9jbsZNXn0_bt"
      },
      "execution_count": null,
      "outputs": []
    },
    {
      "cell_type": "code",
      "source": [
        "csvfile2 = \"/content/drive/My Drive/Lab_share/Lab_member/SophiaBick/HughesIntern/gff_gene_consensus_all.csv\""
      ],
      "metadata": {
        "id": "LMTAeLeQYK6r"
      },
      "execution_count": null,
      "outputs": []
    },
    {
      "cell_type": "code",
      "source": [
        "consensus_rep_a2(db, csvfile2, \"gff_gene_representative_algorithm2.csv\")"
      ],
      "metadata": {
        "id": "vdvt7jbB1T8b"
      },
      "execution_count": null,
      "outputs": []
    },
    {
      "cell_type": "code",
      "source": [
        "df = pd.read_csv(\"gff_gene_representative_algorithm2.csv\")\n",
        "df.to_csv(\"/content/drive/My Drive/Lab_share/Lab_member/SophiaBick/HughesIntern/gff_gene_representative_algorithm2.csv\")"
      ],
      "metadata": {
        "id": "JappBoUbxG3a"
      },
      "execution_count": null,
      "outputs": []
    },
    {
      "cell_type": "markdown",
      "source": [
        "### Comparison of algorithm 1, 2, and MANE_select tag\n",
        "\n",
        "* take representative transcript columns from 3 files (a1, a2, mane)\n",
        "* pool in a summary file\n",
        "* see if each method returns same or different representative transcripts\n"
      ],
      "metadata": {
        "id": "XFgw3y3cwk7T"
      }
    },
    {
      "cell_type": "code",
      "source": [
        "a1 = \"/content/drive/My Drive/Lab_share/Lab_member/SophiaBick/HughesIntern/gff_gene_representative_algorithm1.csv\"\n",
        "a2 = \"/content/drive/My Drive/Lab_share/Lab_member/SophiaBick/HughesIntern/gff_gene_representative_algorithm2.csv\"\n",
        "mane = \"/content/drive/My Drive/Lab_share/Lab_member/SophiaBick/HughesIntern/gff_gene_represent_all.csv\""
      ],
      "metadata": {
        "id": "QBoQMbYFwj5K"
      },
      "execution_count": null,
      "outputs": []
    },
    {
      "cell_type": "code",
      "source": [
        "df_a1 = pd.read_csv(a1)\n",
        "df_a2 = pd.read_csv(a2)\n",
        "df_mane = pd.read_csv(mane)"
      ],
      "metadata": {
        "id": "XozD4_LK575z"
      },
      "execution_count": null,
      "outputs": []
    },
    {
      "cell_type": "code",
      "source": [
        "print(df_mane.columns)"
      ],
      "metadata": {
        "id": "vrS7TzjE7-tI"
      },
      "execution_count": null,
      "outputs": []
    },
    {
      "cell_type": "code",
      "source": [
        "#print(df_a1.rename(columns={\"representative_transcript\":\"representative_algorithm1\"}))\n",
        "df_all = pd.DataFrame()\n",
        "df_all[[\"chromosome\", \"strand\", \"gene_name\", \"gene_id\",\"gene_start\", \"gene_end\", \"number_of_transcripts\"]] = df_a1[[\"chromosome\", \"strand\", \"gene_name\", \"gene_id\", \"gene_start\", \"gene_end\", \"number_of_transcripts\"]]\n",
        "df_all[\"representative_a1\"] = df_a1[\"representative_transcript\"]  #make column that shows the representative transcript under algorithm 1 for all genes file\n",
        "df_all[\"representative_a2\"] = df_a2[\"representative_transcript\"]  # \"\" but for algorithm 2\n",
        "df_all[\"representative_mane\"] = df_mane[\"representative_transcript\"]  # \"\" but for MANE/Ensembl_canonical\n",
        "df_all[\"algorithm_compare\"] = np.where(df_all[\"representative_a1\"] == df_all[\"representative_a2\"], \"same\",\"different\")  # column to compare if algorithm 1 and 2 return same representative transcript\n",
        "df_all[\"mane_compare\"] = np.where(df_all[\"representative_a1\"] == df_all[\"representative_mane\"], \"same\", \"different\") # column to compare if MANE/Ensembl_canonical and algorithm 1 return same representative transcript\n",
        "print(df_all)\n",
        "print(df_all[\"algorithm_compare\"].value_counts()[\"same\"])\n"
      ],
      "metadata": {
        "id": "pny704AL6ZtG"
      },
      "execution_count": null,
      "outputs": []
    },
    {
      "cell_type": "code",
      "source": [
        "df_all.to_csv(\"gff_gene_represent_compare.csv\")\n",
        "df_all.to_csv(\"/content/drive/My Drive/Lab_share/Lab_member/SophiaBick/HughesIntern/gff_gene_represent_compare.csv\")"
      ],
      "metadata": {
        "id": "D4ckK4TdJYN5"
      },
      "execution_count": null,
      "outputs": []
    },
    {
      "cell_type": "code",
      "source": [
        "# algorithm 1 and 2 are 99% same\n",
        "print(df_all[\"algorithm_compare\"].value_counts()[\"same\"] / len(df_all))"
      ],
      "metadata": {
        "colab": {
          "base_uri": "https://localhost:8080/"
        },
        "id": "CcZL0AyrHz1u",
        "outputId": "c788d893-3ec8-4e53-811a-60cd7b9bf620"
      },
      "execution_count": null,
      "outputs": [
        {
          "output_type": "stream",
          "name": "stdout",
          "text": [
            "0.9988029877425945\n"
          ]
        }
      ]
    },
    {
      "cell_type": "code",
      "source": [
        "# algorithm 1 and mane are 81% the same\n",
        "print(df_all[\"mane_compare\"].value_counts()[\"same\"] / len(df_all))"
      ],
      "metadata": {
        "colab": {
          "base_uri": "https://localhost:8080/"
        },
        "id": "naPt_JxiIcsi",
        "outputId": "3e3707c2-9029-43d7-e8e6-6b9fd87054fa"
      },
      "execution_count": null,
      "outputs": [
        {
          "output_type": "stream",
          "name": "stdout",
          "text": [
            "0.8166975229826353\n"
          ]
        }
      ]
    },
    {
      "cell_type": "markdown",
      "source": [
        "### Printout of ties using algorithm 1 with no MANE Select tiebreaker\n",
        "\n",
        "file with all genes that had a tie for representative transcript based on ratio of exonic bp to gene length"
      ],
      "metadata": {
        "id": "o77klSZXWZLp"
      }
    },
    {
      "cell_type": "code",
      "source": [
        "def consensus_rep_old_a1(db, consensus_file, new_file):\n",
        "  import csv\n",
        "  with open(new_file, 'w', newline='') as fh:\n",
        "    writer = csv.writer(fh, delimiter=',')\n",
        "    fields = [\"chromosome\", \"strand\", \"gene_name\", \"gene_id\", \"gene_start\", \"gene_end\", \"number_of_transcripts\", \"representative_transcript\", \"ratio\"]\n",
        "    writer.writerow(fields)\n",
        "    with open(consensus_file, newline='') as csvfile:\n",
        "      f_reader = csv.reader(csvfile)\n",
        "      next(f_reader)\n",
        "      for row in f_reader:\n",
        "        chrom = row[1]\n",
        "        strand = row[2]\n",
        "        name = row[3]\n",
        "        gene_id = row[4]\n",
        "        g_start = int(row[5])\n",
        "        g_end = int(row[6])\n",
        "        exon_num = row[7]\n",
        "        consensus_exons = row[9]\n",
        "        consensus_dict = {}\n",
        "        transcript_count = 0\n",
        "        #consensus_exon_len = 0\n",
        "        gene_length = abs(g_end - g_start) + 1\n",
        "\n",
        "        '''#print(consensus_exons.split(\";\"))\n",
        "        for block in consensus_exons.split(\";\"):\n",
        "          #print(block.split(\":\"))\n",
        "          consensus_dict[block.split(\":\")[0]] = block.split(\":\")[1]\n",
        "        #print(consensus_dict)\n",
        "        for key in consensus_dict.keys():  # take len of ea consensus exon and add to total sum\n",
        "          #print(consensus_dict[key].split(\"-\")[1])\n",
        "          #print(consensus_dict[key].split(\"-\")[0])\n",
        "          consensus_exon_len += abs(int(consensus_dict[key].split(\"-\")[1]) - int(consensus_dict[key].split(\"-\")[0])) + 1\n",
        "        consensus_dict_len = len(consensus_dict)  # number of total consensus exons for ea gene'''\n",
        "\n",
        "        high_ratio = 0\n",
        "        high_exonic = 0\n",
        "        for transcript in db.children(\"gene:\"+gene_id, featuretype=('mRNA', 'lnc_RNA', 'transcript', 'pseudogenic_transcript', 'ncRNA', 'snRNA', 'miRNA', 'unconfirmed_transcript', 'snoRNA', 'V_gene_segment', 'J_gene_segment', 'scRNA', 'rRNA', 'D_gene_segment', 'C_gene_segment', 'tRNA')):\n",
        "          #print(transcript)\n",
        "          transcript_count +=1\n",
        "          exon_counter = 1\n",
        "          exonic_bp = db.children_bp(transcript, child_featuretype=\"exon\")\n",
        "          #transcript_ratio = (exonic_bp/gene_length)\n",
        "          #if transcript_ratio > high_ratio:\n",
        "            #high_ratio = transcript_ratio\n",
        "            #r_transcript = transcript[\"transcript_id\"][0]\n",
        "          #elif transcript_ratio == high_ratio:\n",
        "            #r_transcript = r_transcript + ':' + transcript[\"transcript_id\"][0]\n",
        "\n",
        "          if exonic_bp > high_exonic:\n",
        "            high_exonic = exonic_bp\n",
        "            r_transcript = transcript[\"transcript_id\"][0]\n",
        "          elif exonic_bp == high_exonic:\n",
        "            r_transcript = r_transcript + ':' + transcript[\"transcript_id\"][0]\n",
        "\n",
        "          for exon in db.children(transcript, featuretype=\"exon\"):\n",
        "            exon_counter += 1\n",
        "\n",
        "        high_ratio = high_exonic / gene_length\n",
        "\n",
        "        if high_ratio > 1.0:\n",
        "          print(\"############potential error!\")\n",
        "\n",
        "        #print(exonic_bp, \"*******\", consensus_exon_len)\n",
        "        #if \":\" in r_transcript:\n",
        "          #writer.writerow([chrom, strand, name, gene_id, g_start, g_end, transcript_count, r_transcript, high_ratio ])\n",
        "\n",
        "        if \":\" in r_transcript:\n",
        "          writer.writerow([chrom, strand, name, gene_id, g_start, g_end, transcript_count, r_transcript, high_ratio ])\n",
        "        #print([chrom, strand, name, gene_id, g_start, g_end, transcript_count, r_transcript, high_ratio ])\n",
        "\n"
      ],
      "metadata": {
        "id": "VtZu32PfWjSe"
      },
      "execution_count": null,
      "outputs": []
    },
    {
      "cell_type": "code",
      "source": [
        "csvfile2 = \"/content/drive/My Drive/Lab_share/Lab_member/SophiaBick/HughesIntern/gff_gene_consensus_all.csv\""
      ],
      "metadata": {
        "id": "STcaFTtXYMM9"
      },
      "execution_count": null,
      "outputs": []
    },
    {
      "cell_type": "code",
      "source": [
        "consensus_rep_old_a1(db, csvfile2, \"representative_a1_ties_exonicbp.csv\")"
      ],
      "metadata": {
        "id": "M7OIOPn4XrtB"
      },
      "execution_count": null,
      "outputs": []
    },
    {
      "cell_type": "code",
      "source": [],
      "metadata": {
        "id": "LaXWbJYsX0iZ"
      },
      "execution_count": null,
      "outputs": []
    }
  ]
}