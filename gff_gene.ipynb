{
  "nbformat": 4,
  "nbformat_minor": 0,
  "metadata": {
    "colab": {
      "provenance": [],
      "include_colab_link": true
    },
    "kernelspec": {
      "name": "python3",
      "display_name": "Python 3"
    },
    "language_info": {
      "name": "python"
    }
  },
  "cells": [
    {
      "cell_type": "markdown",
      "metadata": {
        "id": "view-in-github",
        "colab_type": "text"
      },
      "source": [
        "<a href=\"https://colab.research.google.com/github/bicks1/hughesintern/blob/main/gff_gene_v2.ipynb\" target=\"_parent\"><img src=\"https://colab.research.google.com/assets/colab-badge.svg\" alt=\"Open In Colab\"/></a>"
      ]
    },
    {
      "cell_type": "markdown",
      "source": [
        "\n",
        "**File Name**:\n",
        "\n",
        "```\n",
        "gff_gene.ipynb\n",
        "```\n",
        "\n",
        "**Description**:\n",
        "\n",
        "```\n",
        "This program is a part of a series of programs for information extraction and mining of gene annotations in GFF3 files\n",
        "\n",
        "Feature/Type (column 3) defintions: http://www.sequenceontology.org/browser/obob.cgi\n",
        "\n",
        "Biotype(attribute in column 9) definition: https://www.gencodegenes.org/pages/biotypes.html\n",
        "\n",
        "```\n",
        "\n",
        "**Authors**:\n",
        "\n",
        "```\n",
        "Sophia Bick, Chun Liang\n",
        "```\n"
      ],
      "metadata": {
        "id": "dmpdA_mmj4Rp"
      }
    },
    {
      "cell_type": "markdown",
      "source": [
        "[Step 1]: Install Python modules, Map Google Drive that contains GFF3 files"
      ],
      "metadata": {
        "id": "L9CRdhbCmvZx"
      }
    },
    {
      "cell_type": "code",
      "execution_count": null,
      "metadata": {
        "colab": {
          "base_uri": "https://localhost:8080/"
        },
        "id": "C9XdxJ5HwsBR",
        "outputId": "80bdf808-a4e2-45c5-d335-c9d5d6f0f2b3"
      },
      "outputs": [
        {
          "output_type": "stream",
          "name": "stdout",
          "text": [
            "Looking in indexes: https://pypi.org/simple, https://us-python.pkg.dev/colab-wheels/public/simple/\n",
            "Requirement already satisfied: pandas in /usr/local/lib/python3.10/dist-packages (1.5.3)\n",
            "Requirement already satisfied: python-dateutil>=2.8.1 in /usr/local/lib/python3.10/dist-packages (from pandas) (2.8.2)\n",
            "Requirement already satisfied: pytz>=2020.1 in /usr/local/lib/python3.10/dist-packages (from pandas) (2022.7.1)\n",
            "Requirement already satisfied: numpy>=1.21.0 in /usr/local/lib/python3.10/dist-packages (from pandas) (1.22.4)\n",
            "Requirement already satisfied: six>=1.5 in /usr/local/lib/python3.10/dist-packages (from python-dateutil>=2.8.1->pandas) (1.16.0)\n",
            "Looking in indexes: https://pypi.org/simple, https://us-python.pkg.dev/colab-wheels/public/simple/\n",
            "Collecting gffpandas\n",
            "  Downloading gffpandas-1.2.0.tar.gz (178 kB)\n",
            "\u001b[2K     \u001b[90m━━━━━━━━━━━━━━━━━━━━━━━━━━━━━━━━━━━━━━━\u001b[0m \u001b[32m178.8/178.8 kB\u001b[0m \u001b[31m4.5 MB/s\u001b[0m eta \u001b[36m0:00:00\u001b[0m\n",
            "\u001b[?25h  Preparing metadata (setup.py) ... \u001b[?25l\u001b[?25hdone\n",
            "Building wheels for collected packages: gffpandas\n",
            "  Building wheel for gffpandas (setup.py) ... \u001b[?25l\u001b[?25hdone\n",
            "  Created wheel for gffpandas: filename=gffpandas-1.2.0-py2.py3-none-any.whl size=6248 sha256=f602a932d384fa264ea84bec6b83a85bf3284563b09c0b061244610cb144de7a\n",
            "  Stored in directory: /root/.cache/pip/wheels/57/87/f1/1d0c74fbc5151562ba7953dc110a7d8c63c6c3229d025bc8cd\n",
            "Successfully built gffpandas\n",
            "Installing collected packages: gffpandas\n",
            "Successfully installed gffpandas-1.2.0\n"
          ]
        }
      ],
      "source": [
        "!pip install pandas\n",
        "!pip install gffpandas"
      ]
    },
    {
      "cell_type": "code",
      "source": [
        "from google.colab import drive\n",
        "drive.mount('/content/drive', force_remount=True)\n",
        "\n",
        "!ls \"/content/drive/My Drive/Lab_share/Lab_member/SophiaBick/HughesIntern\""
      ],
      "metadata": {
        "colab": {
          "base_uri": "https://localhost:8080/"
        },
        "id": "le_8dNn3w2DD",
        "outputId": "a3ef0c2a-fb49-4ed8-89fa-9f858f521d3f"
      },
      "execution_count": null,
      "outputs": [
        {
          "output_type": "stream",
          "name": "stdout",
          "text": [
            "Mounted at /content/drive\n",
            " chrom_and_gene_Qs.ipynb        gff_transcript.v0.ipynb\n",
            " chrom_and_gene_Qs_lc.ipynb     gff_transcript.v1.ipynb\n",
            " gff_chromosome.csv\t        Homo_sapiens.GRCh38.109.chr.gff3\n",
            " gff_chromosome_exclude.csv     Homo_sapiens.GRCh38.109.chromosome.20.gff3\n",
            " gff_chrom.v0.ipynb\t        Homo_sapiens.GRCh38.dna.chromosome.20.fa\n",
            " gff_chrom.v1.ipynb\t        module_explore.ipynb\n",
            " gff_chrom.v2.ipynb\t        module_explore_lc.ipynb\n",
            " gff_gene.v0.ipynb\t       'Project Qs.gdoc'\n",
            " gff_gene.v1.ipynb\t        ResearchPlan.gdoc\n",
            " gff_individual_gene.v0.ipynb   researchplan_Qs.ipynb\n",
            "'GFF module notes.gdoc'         researchplan_Qs_lc.ipynb\n",
            " gff_transcript_all.csv         transcription_Qs.ipynb\n",
            " gff_transcript_mRNA.csv        transcription_Qs_lc.ipynb\n",
            " gff_transcript_segment\n"
          ]
        }
      ]
    },
    {
      "cell_type": "code",
      "source": [
        "hg38gff = \"/content/drive/My Drive/Lab_share/Lab_member/SophiaBick/HughesIntern/Homo_sapiens.GRCh38.109.chr.gff3\""
      ],
      "metadata": {
        "id": "a2lXesnzw8-B"
      },
      "execution_count": null,
      "outputs": []
    },
    {
      "cell_type": "code",
      "source": [
        "import gffpandas.gffpandas as gffpd\n",
        "import pandas as pd"
      ],
      "metadata": {
        "id": "IqQ_cWoWxCss"
      },
      "execution_count": null,
      "outputs": []
    },
    {
      "cell_type": "markdown",
      "source": [
        "[Step 2]: Get a quick overview of a given GFF3 file and extract different types and counts for the third column (types)"
      ],
      "metadata": {
        "id": "XacfcqrMneCH"
      }
    },
    {
      "cell_type": "code",
      "source": [
        "annotation = gffpd.read_gff3(hg38gff)\n",
        "# gffpd stats dict with feature type counts\n",
        "stats = annotation.stats_dic()\n",
        "#print(stats)\n",
        "feature_dict = stats[\"Counted_feature_types\"]\n",
        "print(feature_dict)"
      ],
      "metadata": {
        "colab": {
          "base_uri": "https://localhost:8080/"
        },
        "id": "bcobykxkWfw1",
        "outputId": "8537f3db-075d-43d9-bbd0-c05503784282"
      },
      "execution_count": null,
      "outputs": [
        {
          "output_type": "stream",
          "name": "stderr",
          "text": [
            "/usr/local/lib/python3.10/dist-packages/gffpandas/gffpandas.py:32: DtypeWarning: Columns (0) have mixed types. Specify dtype option on import or set low_memory=False.\n",
            "  self.df = pd.read_table(self._gff_file, comment='#',\n"
          ]
        },
        {
          "output_type": "stream",
          "name": "stdout",
          "text": [
            "{'exon': 1648074, 'CDS': 886460, 'three_prime_UTR': 207390, 'biological_region': 180084, 'five_prime_UTR': 173461, 'mRNA': 110869, 'lnc_RNA': 91534, 'transcript': 26490, 'ncRNA_gene': 25925, 'gene': 21507, 'pseudogenic_transcript': 15226, 'pseudogene': 15224, 'ncRNA': 2211, 'snRNA': 1906, 'miRNA': 1877, 'unconfirmed_transcript': 1143, 'snoRNA': 942, 'V_gene_segment': 252, 'J_gene_segment': 97, 'scRNA': 50, 'rRNA': 49, 'D_gene_segment': 41, 'C_gene_segment': 29, 'chromosome': 25, 'tRNA': 22}\n"
          ]
        }
      ]
    },
    {
      "cell_type": "code",
      "source": [
        "# counts of each feature type\n",
        "\n",
        "for key, val in feature_dict.items():\n",
        "  if \"gene\" in key and \"segment\" not in key:\n",
        "    print(\"=====> gene-related feature type: {0} | count: {1} <=====\".format(key, val))\n",
        "  else:\n",
        "    print(\"                                  {0} | count: {1}\".format(key,val))"
      ],
      "metadata": {
        "colab": {
          "base_uri": "https://localhost:8080/"
        },
        "id": "n-F9Weu4XGzD",
        "outputId": "3a585a64-8a44-4e5d-d4b7-10c76de5f1e2"
      },
      "execution_count": null,
      "outputs": [
        {
          "output_type": "stream",
          "name": "stdout",
          "text": [
            "                                  exon | count: 1648074\n",
            "                                  CDS | count: 886460\n",
            "                                  three_prime_UTR | count: 207390\n",
            "                                  biological_region | count: 180084\n",
            "                                  five_prime_UTR | count: 173461\n",
            "                                  mRNA | count: 110869\n",
            "                                  lnc_RNA | count: 91534\n",
            "                                  transcript | count: 26490\n",
            "=====> gene-related feature type: ncRNA_gene | count: 25925 <=====\n",
            "=====> gene-related feature type: gene | count: 21507 <=====\n",
            "                                  pseudogenic_transcript | count: 15226\n",
            "=====> gene-related feature type: pseudogene | count: 15224 <=====\n",
            "                                  ncRNA | count: 2211\n",
            "                                  snRNA | count: 1906\n",
            "                                  miRNA | count: 1877\n",
            "                                  unconfirmed_transcript | count: 1143\n",
            "                                  snoRNA | count: 942\n",
            "                                  V_gene_segment | count: 252\n",
            "                                  J_gene_segment | count: 97\n",
            "                                  scRNA | count: 50\n",
            "                                  rRNA | count: 49\n",
            "                                  D_gene_segment | count: 41\n",
            "                                  C_gene_segment | count: 29\n",
            "                                  chromosome | count: 25\n",
            "                                  tRNA | count: 22\n"
          ]
        }
      ]
    },
    {
      "cell_type": "code",
      "source": [
        "feature_df=pd.DataFrame.from_dict(feature_dict, orient='index', columns=[\"Count\"])\n",
        "print(feature_df)"
      ],
      "metadata": {
        "id": "uEIzjxgTMe2K",
        "colab": {
          "base_uri": "https://localhost:8080/"
        },
        "outputId": "0a07612c-2485-4577-a8e9-471a3703c5a4"
      },
      "execution_count": null,
      "outputs": [
        {
          "output_type": "stream",
          "name": "stdout",
          "text": [
            "                          Count\n",
            "exon                    1648074\n",
            "CDS                      886460\n",
            "three_prime_UTR          207390\n",
            "biological_region        180084\n",
            "five_prime_UTR           173461\n",
            "mRNA                     110869\n",
            "lnc_RNA                   91534\n",
            "transcript                26490\n",
            "ncRNA_gene                25925\n",
            "gene                      21507\n",
            "pseudogenic_transcript    15226\n",
            "pseudogene                15224\n",
            "ncRNA                      2211\n",
            "snRNA                      1906\n",
            "miRNA                      1877\n",
            "unconfirmed_transcript     1143\n",
            "snoRNA                      942\n",
            "V_gene_segment              252\n",
            "J_gene_segment               97\n",
            "scRNA                        50\n",
            "rRNA                         49\n",
            "D_gene_segment               41\n",
            "C_gene_segment               29\n",
            "chromosome                   25\n",
            "tRNA                         22\n"
          ]
        }
      ]
    },
    {
      "cell_type": "markdown",
      "source": [
        "[Step 3]: Get Gene Information, particularly the column 9 attributes"
      ],
      "metadata": {
        "id": "lDRFhqaZNPpM"
      }
    },
    {
      "cell_type": "markdown",
      "source": [
        "[Step 3.1]: Get survey of all the attributes in the column 9"
      ],
      "metadata": {
        "id": "XSqNkoL_VUI3"
      }
    },
    {
      "cell_type": "code",
      "source": [
        "# Case 1: only normal \"gene\"\n",
        "gene_dir = annotation.filter_feature_of_type([\"gene\"])\n",
        "\n",
        "attr_to_columns = gene_dir.attributes_to_columns()\n",
        "print(attr_to_columns)"
      ],
      "metadata": {
        "id": "tLM3cJWhTutF",
        "colab": {
          "base_uri": "https://localhost:8080/"
        },
        "outputId": "2ccc8897-3997-46d4-d38b-9fc192160e6a"
      },
      "execution_count": null,
      "outputs": [
        {
          "output_type": "stream",
          "name": "stdout",
          "text": [
            "        seq_id          source  type     start       end score strand phase  \\\n",
            "84           1  ensembl_havana  gene     65419     71585     .      +     .   \n",
            "370          1  ensembl_havana  gene    450740    451678     .      -     .   \n",
            "502          1  ensembl_havana  gene    685716    686654     .      -     .   \n",
            "1097         1  ensembl_havana  gene    923923    944575     .      +     .   \n",
            "1459         1  ensembl_havana  gene    944203    959309     .      -     .   \n",
            "...        ...             ...   ...       ...       ...   ...    ...   ...   \n",
            "3409854      Y  ensembl_havana  gene  24607560  24639207     .      +     .   \n",
            "3409920      Y  ensembl_havana  gene  24763069  24813492     .      -     .   \n",
            "3410046      Y  ensembl_havana  gene  24833843  24907040     .      +     .   \n",
            "3410444      Y  ensembl_havana  gene  25030901  25062548     .      -     .   \n",
            "3410636      Y  ensembl_havana  gene  25622117  25624902     .      +     .   \n",
            "\n",
            "                                                attributes  \\\n",
            "84       ID=gene:ENSG00000186092;Name=OR4F5;biotype=pro...   \n",
            "370      ID=gene:ENSG00000284733;Name=OR4F29;biotype=pr...   \n",
            "502      ID=gene:ENSG00000284662;Name=OR4F16;biotype=pr...   \n",
            "1097     ID=gene:ENSG00000187634;Name=SAMD11;biotype=pr...   \n",
            "1459     ID=gene:ENSG00000188976;Name=NOC2L;biotype=pro...   \n",
            "...                                                    ...   \n",
            "3409854  ID=gene:ENSG00000183795;Name=BPY2B;biotype=pro...   \n",
            "3409920  ID=gene:ENSG00000187191;Name=DAZ3;biotype=prot...   \n",
            "3410046  ID=gene:ENSG00000205916;Name=DAZ4;biotype=prot...   \n",
            "3410444  ID=gene:ENSG00000185894;Name=BPY2C;biotype=pro...   \n",
            "3410636  ID=gene:ENSG00000172288;Name=CDY1;biotype=prot...   \n",
            "\n",
            "                           ID    Name         biotype  \\\n",
            "84       gene:ENSG00000186092   OR4F5  protein_coding   \n",
            "370      gene:ENSG00000284733  OR4F29  protein_coding   \n",
            "502      gene:ENSG00000284662  OR4F16  protein_coding   \n",
            "1097     gene:ENSG00000187634  SAMD11  protein_coding   \n",
            "1459     gene:ENSG00000188976   NOC2L  protein_coding   \n",
            "...                       ...     ...             ...   \n",
            "3409854  gene:ENSG00000183795   BPY2B  protein_coding   \n",
            "3409920  gene:ENSG00000187191    DAZ3  protein_coding   \n",
            "3410046  gene:ENSG00000205916    DAZ4  protein_coding   \n",
            "3410444  gene:ENSG00000185894   BPY2C  protein_coding   \n",
            "3410636  gene:ENSG00000172288    CDY1  protein_coding   \n",
            "\n",
            "                                               description          gene_id  \\\n",
            "84       olfactory receptor family 4 subfamily F member...  ENSG00000186092   \n",
            "370      olfactory receptor family 4 subfamily F member...  ENSG00000284733   \n",
            "502      olfactory receptor family 4 subfamily F member...  ENSG00000284662   \n",
            "1097     sterile alpha motif domain containing 11 [Sour...  ENSG00000187634   \n",
            "1459     NOC2 like nucleolar associated transcriptional...  ENSG00000188976   \n",
            "...                                                    ...              ...   \n",
            "3409854  basic charge Y-linked 2B [Source:HGNC Symbol%3...  ENSG00000183795   \n",
            "3409920  deleted in azoospermia 3 [Source:HGNC Symbol%3...  ENSG00000187191   \n",
            "3410046  deleted in azoospermia 4 [Source:HGNC Symbol%3...  ENSG00000205916   \n",
            "3410444  basic charge Y-linked 2C [Source:HGNC Symbol%3...  ENSG00000185894   \n",
            "3410636  chromodomain Y-linked 1 [Source:HGNC Symbol%3B...  ENSG00000172288   \n",
            "\n",
            "                               logic_name version  \n",
            "84       ensembl_havana_gene_homo_sapiens       7  \n",
            "370      ensembl_havana_gene_homo_sapiens       2  \n",
            "502      ensembl_havana_gene_homo_sapiens       2  \n",
            "1097     ensembl_havana_gene_homo_sapiens      13  \n",
            "1459     ensembl_havana_gene_homo_sapiens      11  \n",
            "...                                   ...     ...  \n",
            "3409854  ensembl_havana_gene_homo_sapiens       8  \n",
            "3409920  ensembl_havana_gene_homo_sapiens      16  \n",
            "3410046  ensembl_havana_gene_homo_sapiens      12  \n",
            "3410444  ensembl_havana_gene_homo_sapiens       8  \n",
            "3410636  ensembl_havana_gene_homo_sapiens       8  \n",
            "\n",
            "[21507 rows x 16 columns]\n"
          ]
        }
      ]
    },
    {
      "cell_type": "code",
      "source": [
        "# Case 2: only normal \"ncRNA_gene\"\n",
        "gene_dir = annotation.filter_feature_of_type([\"ncRNA_gene\"])\n",
        "\n",
        "attr_to_columns = gene_dir.attributes_to_columns()\n",
        "print(attr_to_columns)"
      ],
      "metadata": {
        "id": "7fAuk2kBqQpF",
        "colab": {
          "base_uri": "https://localhost:8080/"
        },
        "outputId": "85d22006-141f-465b-ed9d-0d300870b4f8"
      },
      "execution_count": null,
      "outputs": [
        {
          "output_type": "stream",
          "name": "stdout",
          "text": [
            "        seq_id   source        type     start       end score strand phase  \\\n",
            "16           1   havana  ncRNA_gene     11869     14409     .      +     .   \n",
            "43           1  mirbase  ncRNA_gene     17369     17436     .      -     .   \n",
            "52           1   havana  ncRNA_gene     29554     31109     .      +     .   \n",
            "61           1  mirbase  ncRNA_gene     30366     30503     .      +     .   \n",
            "64           1   havana  ncRNA_gene     34554     36081     .      -     .   \n",
            "...        ...      ...         ...       ...       ...   ...    ...   ...   \n",
            "3410679      Y  ensembl  ncRNA_gene  25723342  25723495     .      +     .   \n",
            "3410682      Y   havana  ncRNA_gene  25728490  25733388     .      +     .   \n",
            "3410731      Y  ensembl  ncRNA_gene  25928979  25929142     .      +     .   \n",
            "3410798      Y  ensembl  ncRNA_gene  26247384  26247521     .      +     .   \n",
            "3410816      Y  ensembl  ncRNA_gene  26360989  26361092     .      +     .   \n",
            "\n",
            "                                                attributes  \\\n",
            "16       ID=gene:ENSG00000290825;Name=DDX11L2;biotype=l...   \n",
            "43       ID=gene:ENSG00000278267;Name=MIR6859-1;biotype...   \n",
            "52       ID=gene:ENSG00000243485;Name=MIR1302-2HG;bioty...   \n",
            "61       ID=gene:ENSG00000284332;Name=MIR1302-2;biotype...   \n",
            "64       ID=gene:ENSG00000237613;Name=FAM138A;biotype=l...   \n",
            "...                                                    ...   \n",
            "3410679  ID=gene:ENSG00000252426;Name=RNU1-107P;biotype...   \n",
            "3410682  ID=gene:ENSG00000231141;Name=TTTY3;biotype=lnc...   \n",
            "3410731  ID=gene:ENSG00000252625;Name=RNU1-40P;biotype=...   \n",
            "3410798  ID=gene:ENSG00000251796;Name=SNORA70;biotype=s...   \n",
            "3410816  ID=gene:ENSG00000252948;Name=RNU6-1314P;biotyp...   \n",
            "\n",
            "                           ID         Name biotype  \\\n",
            "16       gene:ENSG00000290825      DDX11L2  lncRNA   \n",
            "43       gene:ENSG00000278267    MIR6859-1   miRNA   \n",
            "52       gene:ENSG00000243485  MIR1302-2HG  lncRNA   \n",
            "61       gene:ENSG00000284332    MIR1302-2   miRNA   \n",
            "64       gene:ENSG00000237613      FAM138A  lncRNA   \n",
            "...                       ...          ...     ...   \n",
            "3410679  gene:ENSG00000252426    RNU1-107P   snRNA   \n",
            "3410682  gene:ENSG00000231141        TTTY3  lncRNA   \n",
            "3410731  gene:ENSG00000252625     RNU1-40P   snRNA   \n",
            "3410798  gene:ENSG00000251796      SNORA70  snoRNA   \n",
            "3410816  gene:ENSG00000252948   RNU6-1314P   snRNA   \n",
            "\n",
            "                                               description          gene_id  \\\n",
            "16       DEAD/H-box helicase 11 like 2 (pseudogene) [So...  ENSG00000290825   \n",
            "43       microRNA 6859-1 [Source:HGNC Symbol%3BAcc:HGNC...  ENSG00000278267   \n",
            "52       MIR1302-2 host gene [Source:HGNC Symbol%3BAcc:...  ENSG00000243485   \n",
            "61       microRNA 1302-2 [Source:HGNC Symbol%3BAcc:HGNC...  ENSG00000284332   \n",
            "64       family with sequence similarity 138 member A [...  ENSG00000237613   \n",
            "...                                                    ...              ...   \n",
            "3410679  RNA%2C U1 small nuclear 107%2C pseudogene [Sou...  ENSG00000252426   \n",
            "3410682  testis-specific transcript%2C Y-linked 3 [Sour...  ENSG00000231141   \n",
            "3410731  RNA%2C U1 small nuclear 40%2C pseudogene [Sour...  ENSG00000252625   \n",
            "3410798  Small nucleolar RNA SNORA70 [Source:RFAM%3BAcc...  ENSG00000251796   \n",
            "3410816  RNA%2C U6 small nuclear 1314%2C pseudogene [So...  ENSG00000252948   \n",
            "\n",
            "                  logic_name version  \n",
            "16       havana_homo_sapiens       1  \n",
            "43        ncrna_homo_sapiens       1  \n",
            "52       havana_homo_sapiens       5  \n",
            "61        ncrna_homo_sapiens       1  \n",
            "64       havana_homo_sapiens       2  \n",
            "...                      ...     ...  \n",
            "3410679   ncrna_homo_sapiens       1  \n",
            "3410682  havana_homo_sapiens       1  \n",
            "3410731   ncrna_homo_sapiens       1  \n",
            "3410798   ncrna_homo_sapiens       1  \n",
            "3410816   ncrna_homo_sapiens       1  \n",
            "\n",
            "[25925 rows x 16 columns]\n"
          ]
        }
      ]
    },
    {
      "cell_type": "code",
      "source": [
        "# Case 3: only normal \"pseudogene\"\n",
        "gene_dir = annotation.filter_feature_of_type([\"pseudogene\"])\n",
        "\n",
        "attr_to_columns = gene_dir.attributes_to_columns()\n",
        "print(attr_to_columns)"
      ],
      "metadata": {
        "id": "TKsMqRPqqoGs",
        "colab": {
          "base_uri": "https://localhost:8080/"
        },
        "outputId": "77e21f3f-ba8c-4818-bc28-82741c24a1aa"
      },
      "execution_count": null,
      "outputs": [
        {
          "output_type": "stream",
          "name": "stdout",
          "text": [
            "        seq_id  source        type     start       end score strand phase  \\\n",
            "21           1  havana  pseudogene     12010     13670     .      +     .   \n",
            "29           1  havana  pseudogene     14404     29570     .      -     .   \n",
            "73           1  havana  pseudogene     52473     53312     .      +     .   \n",
            "81           1  havana  pseudogene     62949     63887     .      +     .   \n",
            "121          1  havana  pseudogene    131025    134836     .      +     .   \n",
            "...        ...     ...         ...       ...       ...   ...    ...   ...   \n",
            "3410857      Y  havana  pseudogene  26549425  26549743     .      +     .   \n",
            "3410860      Y  havana  pseudogene  26586642  26591601     .      -     .   \n",
            "3410865      Y  havana  pseudogene  26594851  26634652     .      -     .   \n",
            "3410880      Y  havana  pseudogene  26626520  26627159     .      -     .   \n",
            "3410885      Y  havana  pseudogene  56855244  56855488     .      +     .   \n",
            "\n",
            "                                                attributes  \\\n",
            "21       ID=gene:ENSG00000223972;Name=DDX11L1;biotype=t...   \n",
            "29       ID=gene:ENSG00000227232;Name=WASH7P;biotype=un...   \n",
            "73       ID=gene:ENSG00000268020;Name=OR4G4P;biotype=un...   \n",
            "81       ID=gene:ENSG00000240361;Name=OR4G11P;biotype=t...   \n",
            "121      ID=gene:ENSG00000233750;Name=CICP27;biotype=pr...   \n",
            "...                                                    ...   \n",
            "3410857  ID=gene:ENSG00000224240;Name=CYCSP49;biotype=p...   \n",
            "3410860  ID=gene:ENSG00000227629;Name=SLC25A15P1;biotyp...   \n",
            "3410865  ID=gene:ENSG00000237917;Name=PARP4P1;biotype=u...   \n",
            "3410880  ID=gene:ENSG00000231514;Name=CCNQP2;biotype=pr...   \n",
            "3410885  ID=gene:ENSG00000235857;Name=CTBP2P1;biotype=p...   \n",
            "\n",
            "                           ID        Name                             biotype  \\\n",
            "21       gene:ENSG00000223972     DDX11L1  transcribed_unprocessed_pseudogene   \n",
            "29       gene:ENSG00000227232      WASH7P              unprocessed_pseudogene   \n",
            "73       gene:ENSG00000268020      OR4G4P              unprocessed_pseudogene   \n",
            "81       gene:ENSG00000240361     OR4G11P  transcribed_unprocessed_pseudogene   \n",
            "121      gene:ENSG00000233750      CICP27                processed_pseudogene   \n",
            "...                       ...         ...                                 ...   \n",
            "3410857  gene:ENSG00000224240     CYCSP49                processed_pseudogene   \n",
            "3410860  gene:ENSG00000227629  SLC25A15P1              unprocessed_pseudogene   \n",
            "3410865  gene:ENSG00000237917     PARP4P1              unprocessed_pseudogene   \n",
            "3410880  gene:ENSG00000231514      CCNQP2                processed_pseudogene   \n",
            "3410885  gene:ENSG00000235857     CTBP2P1                processed_pseudogene   \n",
            "\n",
            "                                               description          gene_id  \\\n",
            "21       DEAD/H-box helicase 11 like 1 (pseudogene) [So...  ENSG00000223972   \n",
            "29       WASP family homolog 7%2C pseudogene [Source:HG...  ENSG00000227232   \n",
            "73       olfactory receptor family 4 subfamily G member...  ENSG00000268020   \n",
            "81       olfactory receptor family 4 subfamily G member...  ENSG00000240361   \n",
            "121      capicua transcriptional repressor pseudogene 2...  ENSG00000233750   \n",
            "...                                                    ...              ...   \n",
            "3410857  CYCS pseudogene 49 [Source:HGNC Symbol%3BAcc:H...  ENSG00000224240   \n",
            "3410860  solute carrier family 25 member 15 pseudogene ...  ENSG00000227629   \n",
            "3410865  poly(ADP-ribose) polymerase family member 4 ps...  ENSG00000237917   \n",
            "3410880  CCNQ pseudogene 2 [Source:HGNC Symbol%3BAcc:HG...  ENSG00000231514   \n",
            "3410885  CTBP2 pseudogene 1 [Source:HGNC Symbol%3BAcc:H...  ENSG00000235857   \n",
            "\n",
            "                  logic_name version  \n",
            "21       havana_homo_sapiens       6  \n",
            "29       havana_homo_sapiens       5  \n",
            "73       havana_homo_sapiens       3  \n",
            "81       havana_homo_sapiens       3  \n",
            "121      havana_homo_sapiens       3  \n",
            "...                      ...     ...  \n",
            "3410857  havana_homo_sapiens       1  \n",
            "3410860  havana_homo_sapiens       1  \n",
            "3410865  havana_homo_sapiens       1  \n",
            "3410880  havana_homo_sapiens       1  \n",
            "3410885  havana_homo_sapiens       1  \n",
            "\n",
            "[15224 rows x 16 columns]\n"
          ]
        }
      ]
    },
    {
      "cell_type": "markdown",
      "source": [
        "The gene-related types are only \"gene\", \"ncRNA_gene\", and \"pseudogene\""
      ],
      "metadata": {
        "id": "oM8LthRPs_co"
      }
    },
    {
      "cell_type": "code",
      "source": [
        "# Case 4: All gene related features including \"gene\"\n",
        "gene_rel = annotation.filter_feature_of_type([\"gene\", \"ncRNA_gene\", \"pseudogene\"])\n",
        "\n",
        "attr_to_columns = gene_rel.attributes_to_columns()\n",
        "print(attr_to_columns)"
      ],
      "metadata": {
        "id": "hjR90OX6gjWw",
        "colab": {
          "base_uri": "https://localhost:8080/"
        },
        "outputId": "67565917-1bb2-49ab-bd6a-35b967ba965c"
      },
      "execution_count": null,
      "outputs": [
        {
          "output_type": "stream",
          "name": "stdout",
          "text": [
            "        seq_id   source        type     start       end score strand phase  \\\n",
            "16           1   havana  ncRNA_gene     11869     14409     .      +     .   \n",
            "21           1   havana  pseudogene     12010     13670     .      +     .   \n",
            "29           1   havana  pseudogene     14404     29570     .      -     .   \n",
            "43           1  mirbase  ncRNA_gene     17369     17436     .      -     .   \n",
            "52           1   havana  ncRNA_gene     29554     31109     .      +     .   \n",
            "...        ...      ...         ...       ...       ...   ...    ...   ...   \n",
            "3410857      Y   havana  pseudogene  26549425  26549743     .      +     .   \n",
            "3410860      Y   havana  pseudogene  26586642  26591601     .      -     .   \n",
            "3410865      Y   havana  pseudogene  26594851  26634652     .      -     .   \n",
            "3410880      Y   havana  pseudogene  26626520  26627159     .      -     .   \n",
            "3410885      Y   havana  pseudogene  56855244  56855488     .      +     .   \n",
            "\n",
            "                                                attributes  \\\n",
            "16       ID=gene:ENSG00000290825;Name=DDX11L2;biotype=l...   \n",
            "21       ID=gene:ENSG00000223972;Name=DDX11L1;biotype=t...   \n",
            "29       ID=gene:ENSG00000227232;Name=WASH7P;biotype=un...   \n",
            "43       ID=gene:ENSG00000278267;Name=MIR6859-1;biotype...   \n",
            "52       ID=gene:ENSG00000243485;Name=MIR1302-2HG;bioty...   \n",
            "...                                                    ...   \n",
            "3410857  ID=gene:ENSG00000224240;Name=CYCSP49;biotype=p...   \n",
            "3410860  ID=gene:ENSG00000227629;Name=SLC25A15P1;biotyp...   \n",
            "3410865  ID=gene:ENSG00000237917;Name=PARP4P1;biotype=u...   \n",
            "3410880  ID=gene:ENSG00000231514;Name=CCNQP2;biotype=pr...   \n",
            "3410885  ID=gene:ENSG00000235857;Name=CTBP2P1;biotype=p...   \n",
            "\n",
            "                           ID         Name  \\\n",
            "16       gene:ENSG00000290825      DDX11L2   \n",
            "21       gene:ENSG00000223972      DDX11L1   \n",
            "29       gene:ENSG00000227232       WASH7P   \n",
            "43       gene:ENSG00000278267    MIR6859-1   \n",
            "52       gene:ENSG00000243485  MIR1302-2HG   \n",
            "...                       ...          ...   \n",
            "3410857  gene:ENSG00000224240      CYCSP49   \n",
            "3410860  gene:ENSG00000227629   SLC25A15P1   \n",
            "3410865  gene:ENSG00000237917      PARP4P1   \n",
            "3410880  gene:ENSG00000231514       CCNQP2   \n",
            "3410885  gene:ENSG00000235857      CTBP2P1   \n",
            "\n",
            "                                    biotype  \\\n",
            "16                                   lncRNA   \n",
            "21       transcribed_unprocessed_pseudogene   \n",
            "29                   unprocessed_pseudogene   \n",
            "43                                    miRNA   \n",
            "52                                   lncRNA   \n",
            "...                                     ...   \n",
            "3410857                processed_pseudogene   \n",
            "3410860              unprocessed_pseudogene   \n",
            "3410865              unprocessed_pseudogene   \n",
            "3410880                processed_pseudogene   \n",
            "3410885                processed_pseudogene   \n",
            "\n",
            "                                               description          gene_id  \\\n",
            "16       DEAD/H-box helicase 11 like 2 (pseudogene) [So...  ENSG00000290825   \n",
            "21       DEAD/H-box helicase 11 like 1 (pseudogene) [So...  ENSG00000223972   \n",
            "29       WASP family homolog 7%2C pseudogene [Source:HG...  ENSG00000227232   \n",
            "43       microRNA 6859-1 [Source:HGNC Symbol%3BAcc:HGNC...  ENSG00000278267   \n",
            "52       MIR1302-2 host gene [Source:HGNC Symbol%3BAcc:...  ENSG00000243485   \n",
            "...                                                    ...              ...   \n",
            "3410857  CYCS pseudogene 49 [Source:HGNC Symbol%3BAcc:H...  ENSG00000224240   \n",
            "3410860  solute carrier family 25 member 15 pseudogene ...  ENSG00000227629   \n",
            "3410865  poly(ADP-ribose) polymerase family member 4 ps...  ENSG00000237917   \n",
            "3410880  CCNQ pseudogene 2 [Source:HGNC Symbol%3BAcc:HG...  ENSG00000231514   \n",
            "3410885  CTBP2 pseudogene 1 [Source:HGNC Symbol%3BAcc:H...  ENSG00000235857   \n",
            "\n",
            "                  logic_name version  \n",
            "16       havana_homo_sapiens       1  \n",
            "21       havana_homo_sapiens       6  \n",
            "29       havana_homo_sapiens       5  \n",
            "43        ncrna_homo_sapiens       1  \n",
            "52       havana_homo_sapiens       5  \n",
            "...                      ...     ...  \n",
            "3410857  havana_homo_sapiens       1  \n",
            "3410860  havana_homo_sapiens       1  \n",
            "3410865  havana_homo_sapiens       1  \n",
            "3410880  havana_homo_sapiens       1  \n",
            "3410885  havana_homo_sapiens       1  \n",
            "\n",
            "[62656 rows x 16 columns]\n"
          ]
        }
      ]
    },
    {
      "cell_type": "markdown",
      "source": [
        "[Step 3.2]: Define two functions used for gene data extraction and analysis"
      ],
      "metadata": {
        "id": "pbuYaFXFWO8p"
      }
    },
    {
      "cell_type": "code",
      "source": [
        "def feature_len(start, end):\n",
        "    \"\"\"\n",
        "    :param start: feature's start\n",
        "    :param end: feature's end\n",
        "    :return length: feature's overall length\n",
        "    \"\"\"\n",
        "    length = abs(int(end) - int(start) + 1)\n",
        "    return length"
      ],
      "metadata": {
        "id": "FmmAFqacxFUY"
      },
      "execution_count": null,
      "outputs": []
    },
    {
      "cell_type": "code",
      "source": [
        "def gene_stats(gff_fn, type_list=[]):\n",
        "\n",
        "  ##############################################################################################\n",
        "  # This function only takes two arguments: (gff_fn, type_list=[])\n",
        "  # If type is an empty list, the it will do gene stats for all three types of genes\n",
        "  # Otherwise, it will do gene stats for a list of individual types (\"gene\", \"ncRNA_gene\", \"pseudogene\").\n",
        "  # The value of type must be from the \"type\" column in GFF3 files\n",
        "  # In this function, we need to print the count or tally of each gene types.\n",
        "  ##############################################################################################\n",
        "\n",
        "  \"\"\"\n",
        "  Find count, shortest, longest, and average length\n",
        "  of gene features in GFF file\n",
        "  Uses: gffpandas, pandas, feature_len()\n",
        "  :param gff_fn: file name of desired GFF3 file\n",
        "  :param exclude: list of chromosomes to exclude their genes from length consideration, default is empty list\n",
        "  :return gff_chrom_stats: dict of max and min length and # of gene features for whole GFF3 file\n",
        "  :return gff_chrom_df: Pandas df of all gene features in GFF3 file; col correspond to GFF3 col with attributes' col tags as own columns\n",
        "  \"\"\"\n",
        "\n",
        "  print(\"Inside foo()\")\n",
        "  annotation = gffpd.read_gff3(gff_fn)\n",
        "\n",
        "  if type_list == []:\n",
        "    type_list = [\"gene\", \"ncRNA_gene\", \"pseudogene\"]\n",
        "\n",
        "  gff_ft = annotation.filter_feature_of_type(type_list)\n",
        "  gff_ft_stats = gff_ft.stats_dic()\n",
        "\n",
        "  gff_ft_df = gff_ft.attributes_to_columns()  # split tags into own df col\n",
        "\n",
        "  seq_len = gff_ft_df.apply(lambda x: feature_len(x[\"start\"], x[\"end\"]), axis=1)  # return Series of gene len\n",
        "  gff_ft_df = gff_ft_df.assign(length=seq_len)  # add gene len to df\n",
        "  # Rename all columns into small letters\n",
        "  gff_ft_df.rename(columns={\"ID\":\"id\", \"Name\":\"name\"}, inplace=True)\n",
        "\n",
        "  # Include dataframe rows whose \"type\" columns are in the type_list\n",
        "  gff_ft_df = gff_ft_df.loc[gff_ft_df[\"type\"].isin(type_list)]\n",
        "  print(\"The following types is/are used for stats:\", type_list)\n",
        "\n",
        "  # number of gene features\n",
        "  print(\"Counts of each feature type are:\")\n",
        "  ft_num = gff_ft_df[\"type\"].value_counts().to_string()\n",
        "  print(ft_num)\n",
        "\n",
        "  # set index col\n",
        "  gff_ft_df.reset_index(inplace=True)\n",
        "  gff_ft_df.index += 1\n",
        "  gff_ft_df.pop(\"index\")\n",
        "\n",
        "  # shortest and longest gene features\n",
        "  short_label = gff_ft_df.loc[gff_ft_df[\"length\"] == min(gff_ft_df[\"length\"]), \"gene_id\"].iloc[0]\n",
        "  short = gff_ft_df.loc[gff_ft_df[\"gene_id\"]==short_label, \"length\"].iloc[0]\n",
        "  short_type = gff_ft_df.loc[gff_ft_df[\"gene_id\"]==short_label, \"type\"].iloc[0]\n",
        "  long_label = gff_ft_df.loc[gff_ft_df[\"length\"] == max(gff_ft_df[\"length\"]), \"gene_id\"].iloc[0]\n",
        "  long = gff_ft_df.loc[gff_ft_df[\"gene_id\"]==long_label, \"length\"].iloc[0]\n",
        "  long_type = gff_ft_df.loc[gff_ft_df[\"gene_id\"]==long_label, \"type\"].iloc[0]\n",
        "\n",
        "  ft_sum = gff_ft_df[\"length\"].sum()\n",
        "  total_ft = len(gff_ft_df)\n",
        "  #print(\"Number of gene features kept\", total_ft)\n",
        "  average = ft_sum / total_ft\n",
        "\n",
        "  print(\"The shortest gene feature length is: [{0}] with the type: [{1}] and the ID: [{2}]\".format( short, short_type, short_label))\n",
        "  print(\"The longest gene feature length is: [{0}] with the type: [{1}] and the ID: [{2}]\".format( long, long_type, long_label))\n",
        "  print(\"The average length for gene feature is: [{0}]\".format(average))\n",
        "\n",
        "  return gff_ft_stats, gff_ft_df"
      ],
      "metadata": {
        "id": "opdPZAosxLxa"
      },
      "execution_count": null,
      "outputs": []
    },
    {
      "cell_type": "markdown",
      "source": [
        "[Step 3.3]: Get the gene data by calling two aforementioned functions"
      ],
      "metadata": {
        "id": "dON6fSe7Ypk7"
      }
    },
    {
      "cell_type": "code",
      "source": [
        "# Case 1: all gene types\n",
        "stats_all, df_all = gene_stats(hg38gff, [])"
      ],
      "metadata": {
        "colab": {
          "base_uri": "https://localhost:8080/"
        },
        "id": "SMdgtR3YxQjp",
        "outputId": "23c6c4ca-6204-478a-8b59-decc5f0e4033"
      },
      "execution_count": null,
      "outputs": [
        {
          "output_type": "stream",
          "name": "stdout",
          "text": [
            "Inside foo()\n"
          ]
        },
        {
          "output_type": "stream",
          "name": "stderr",
          "text": [
            "/usr/local/lib/python3.10/dist-packages/gffpandas/gffpandas.py:32: DtypeWarning: Columns (0) have mixed types. Specify dtype option on import or set low_memory=False.\n",
            "  self.df = pd.read_table(self._gff_file, comment='#',\n"
          ]
        },
        {
          "output_type": "stream",
          "name": "stdout",
          "text": [
            "The following types is/are used for stats: ['gene', 'ncRNA_gene', 'pseudogene']\n",
            "Counts of each feature type are:\n",
            "ncRNA_gene    25925\n",
            "gene          21507\n",
            "pseudogene    15224\n",
            "The shortest gene feature length is: [8] with the type: [gene] and the ID: [ENSG00000223997]\n",
            "The longest gene feature length is: [2473539] with the type: [gene] and the ID: [ENSG00000078328]\n",
            "The average length for gene feature is: [32378.224064734422]\n"
          ]
        }
      ]
    },
    {
      "cell_type": "code",
      "source": [
        "# Case 1: all gene types stats\n",
        "print(stats_all)"
      ],
      "metadata": {
        "id": "GAFQnbDyykKr",
        "colab": {
          "base_uri": "https://localhost:8080/"
        },
        "outputId": "83936c4a-fe53-4e97-a1f5-2cc511541a51"
      },
      "execution_count": null,
      "outputs": [
        {
          "output_type": "stream",
          "name": "stdout",
          "text": [
            "{'Maximal_bp_length': 2473538, 'Minimal_bp_length': 7, 'Counted_strands': {'+': 31781, '-': 30875}, 'Counted_feature_types': {'ncRNA_gene': 25925, 'gene': 21507, 'pseudogene': 15224}}\n"
          ]
        }
      ]
    },
    {
      "cell_type": "code",
      "source": [
        "# Case 1: printout of all gene types df\n",
        "print(df_all)"
      ],
      "metadata": {
        "id": "yQlffPTEylTT",
        "colab": {
          "base_uri": "https://localhost:8080/"
        },
        "outputId": "a4163912-e9e1-43d3-e53e-e8310d5fba85"
      },
      "execution_count": null,
      "outputs": [
        {
          "output_type": "stream",
          "name": "stdout",
          "text": [
            "      seq_id   source        type     start       end score strand phase  \\\n",
            "1          1   havana  ncRNA_gene     11869     14409     .      +     .   \n",
            "2          1   havana  pseudogene     12010     13670     .      +     .   \n",
            "3          1   havana  pseudogene     14404     29570     .      -     .   \n",
            "4          1  mirbase  ncRNA_gene     17369     17436     .      -     .   \n",
            "5          1   havana  ncRNA_gene     29554     31109     .      +     .   \n",
            "...      ...      ...         ...       ...       ...   ...    ...   ...   \n",
            "62652      Y   havana  pseudogene  26549425  26549743     .      +     .   \n",
            "62653      Y   havana  pseudogene  26586642  26591601     .      -     .   \n",
            "62654      Y   havana  pseudogene  26594851  26634652     .      -     .   \n",
            "62655      Y   havana  pseudogene  26626520  26627159     .      -     .   \n",
            "62656      Y   havana  pseudogene  56855244  56855488     .      +     .   \n",
            "\n",
            "                                              attributes  \\\n",
            "1      ID=gene:ENSG00000290825;Name=DDX11L2;biotype=l...   \n",
            "2      ID=gene:ENSG00000223972;Name=DDX11L1;biotype=t...   \n",
            "3      ID=gene:ENSG00000227232;Name=WASH7P;biotype=un...   \n",
            "4      ID=gene:ENSG00000278267;Name=MIR6859-1;biotype...   \n",
            "5      ID=gene:ENSG00000243485;Name=MIR1302-2HG;bioty...   \n",
            "...                                                  ...   \n",
            "62652  ID=gene:ENSG00000224240;Name=CYCSP49;biotype=p...   \n",
            "62653  ID=gene:ENSG00000227629;Name=SLC25A15P1;biotyp...   \n",
            "62654  ID=gene:ENSG00000237917;Name=PARP4P1;biotype=u...   \n",
            "62655  ID=gene:ENSG00000231514;Name=CCNQP2;biotype=pr...   \n",
            "62656  ID=gene:ENSG00000235857;Name=CTBP2P1;biotype=p...   \n",
            "\n",
            "                         id         name                             biotype  \\\n",
            "1      gene:ENSG00000290825      DDX11L2                              lncRNA   \n",
            "2      gene:ENSG00000223972      DDX11L1  transcribed_unprocessed_pseudogene   \n",
            "3      gene:ENSG00000227232       WASH7P              unprocessed_pseudogene   \n",
            "4      gene:ENSG00000278267    MIR6859-1                               miRNA   \n",
            "5      gene:ENSG00000243485  MIR1302-2HG                              lncRNA   \n",
            "...                     ...          ...                                 ...   \n",
            "62652  gene:ENSG00000224240      CYCSP49                processed_pseudogene   \n",
            "62653  gene:ENSG00000227629   SLC25A15P1              unprocessed_pseudogene   \n",
            "62654  gene:ENSG00000237917      PARP4P1              unprocessed_pseudogene   \n",
            "62655  gene:ENSG00000231514       CCNQP2                processed_pseudogene   \n",
            "62656  gene:ENSG00000235857      CTBP2P1                processed_pseudogene   \n",
            "\n",
            "                                             description          gene_id  \\\n",
            "1      DEAD/H-box helicase 11 like 2 (pseudogene) [So...  ENSG00000290825   \n",
            "2      DEAD/H-box helicase 11 like 1 (pseudogene) [So...  ENSG00000223972   \n",
            "3      WASP family homolog 7%2C pseudogene [Source:HG...  ENSG00000227232   \n",
            "4      microRNA 6859-1 [Source:HGNC Symbol%3BAcc:HGNC...  ENSG00000278267   \n",
            "5      MIR1302-2 host gene [Source:HGNC Symbol%3BAcc:...  ENSG00000243485   \n",
            "...                                                  ...              ...   \n",
            "62652  CYCS pseudogene 49 [Source:HGNC Symbol%3BAcc:H...  ENSG00000224240   \n",
            "62653  solute carrier family 25 member 15 pseudogene ...  ENSG00000227629   \n",
            "62654  poly(ADP-ribose) polymerase family member 4 ps...  ENSG00000237917   \n",
            "62655  CCNQ pseudogene 2 [Source:HGNC Symbol%3BAcc:HG...  ENSG00000231514   \n",
            "62656  CTBP2 pseudogene 1 [Source:HGNC Symbol%3BAcc:H...  ENSG00000235857   \n",
            "\n",
            "                logic_name version  length  \n",
            "1      havana_homo_sapiens       1    2541  \n",
            "2      havana_homo_sapiens       6    1661  \n",
            "3      havana_homo_sapiens       5   15167  \n",
            "4       ncrna_homo_sapiens       1      68  \n",
            "5      havana_homo_sapiens       5    1556  \n",
            "...                    ...     ...     ...  \n",
            "62652  havana_homo_sapiens       1     319  \n",
            "62653  havana_homo_sapiens       1    4960  \n",
            "62654  havana_homo_sapiens       1   39802  \n",
            "62655  havana_homo_sapiens       1     640  \n",
            "62656  havana_homo_sapiens       1     245  \n",
            "\n",
            "[62656 rows x 17 columns]\n"
          ]
        }
      ]
    },
    {
      "cell_type": "code",
      "source": [
        "# Case 2: \"gene\" only\n",
        "stats_gene, df_gene = gene_stats(hg38gff, [\"gene\"])"
      ],
      "metadata": {
        "colab": {
          "base_uri": "https://localhost:8080/"
        },
        "id": "zVh0rtIi3t-O",
        "outputId": "4e7f96eb-95f7-41bf-8c5f-2fae6f3951d2"
      },
      "execution_count": null,
      "outputs": [
        {
          "output_type": "stream",
          "name": "stdout",
          "text": [
            "Inside foo()\n"
          ]
        },
        {
          "output_type": "stream",
          "name": "stderr",
          "text": [
            "/usr/local/lib/python3.10/dist-packages/gffpandas/gffpandas.py:32: DtypeWarning: Columns (0) have mixed types. Specify dtype option on import or set low_memory=False.\n",
            "  self.df = pd.read_table(self._gff_file, comment='#',\n"
          ]
        },
        {
          "output_type": "stream",
          "name": "stdout",
          "text": [
            "The following types is/are used for stats: ['gene']\n",
            "Counts of each feature type are:\n",
            "gene    21507\n",
            "The shortest gene feature length is: [8] with the type: [gene] and the ID: [ENSG00000223997]\n",
            "The longest gene feature length is: [2473539] with the type: [gene] and the ID: [ENSG00000078328]\n",
            "The average length for gene feature is: [64213.41911935649]\n"
          ]
        }
      ]
    },
    {
      "cell_type": "code",
      "source": [
        "# Case 2: \"gene\" only\n",
        "####### length is off by one in this dictionary\n",
        "print(stats_gene)"
      ],
      "metadata": {
        "colab": {
          "base_uri": "https://localhost:8080/"
        },
        "id": "hvn-vsjfxj1Q",
        "outputId": "e549c930-f327-4964-efd8-08c2a3806b3c"
      },
      "execution_count": null,
      "outputs": [
        {
          "output_type": "stream",
          "name": "stdout",
          "text": [
            "{'Maximal_bp_length': 2473538, 'Minimal_bp_length': 7, 'Counted_strands': {'+': 10995, '-': 10512}, 'Counted_feature_types': {'gene': 21507}}\n"
          ]
        }
      ]
    },
    {
      "cell_type": "code",
      "source": [
        "# Case 2: \"gene\" only\n",
        "print(df_gene)"
      ],
      "metadata": {
        "colab": {
          "base_uri": "https://localhost:8080/"
        },
        "id": "2gEinfZ7xpI3",
        "outputId": "8c2f97ba-c434-4f5c-87c6-77ea7ade4d37"
      },
      "execution_count": null,
      "outputs": [
        {
          "output_type": "stream",
          "name": "stdout",
          "text": [
            "      seq_id          source  type     start       end score strand phase  \\\n",
            "1          1  ensembl_havana  gene     65419     71585     .      +     .   \n",
            "2          1  ensembl_havana  gene    450740    451678     .      -     .   \n",
            "3          1  ensembl_havana  gene    685716    686654     .      -     .   \n",
            "4          1  ensembl_havana  gene    923923    944575     .      +     .   \n",
            "5          1  ensembl_havana  gene    944203    959309     .      -     .   \n",
            "...      ...             ...   ...       ...       ...   ...    ...   ...   \n",
            "21503      Y  ensembl_havana  gene  24607560  24639207     .      +     .   \n",
            "21504      Y  ensembl_havana  gene  24763069  24813492     .      -     .   \n",
            "21505      Y  ensembl_havana  gene  24833843  24907040     .      +     .   \n",
            "21506      Y  ensembl_havana  gene  25030901  25062548     .      -     .   \n",
            "21507      Y  ensembl_havana  gene  25622117  25624902     .      +     .   \n",
            "\n",
            "                                              attributes  \\\n",
            "1      ID=gene:ENSG00000186092;Name=OR4F5;biotype=pro...   \n",
            "2      ID=gene:ENSG00000284733;Name=OR4F29;biotype=pr...   \n",
            "3      ID=gene:ENSG00000284662;Name=OR4F16;biotype=pr...   \n",
            "4      ID=gene:ENSG00000187634;Name=SAMD11;biotype=pr...   \n",
            "5      ID=gene:ENSG00000188976;Name=NOC2L;biotype=pro...   \n",
            "...                                                  ...   \n",
            "21503  ID=gene:ENSG00000183795;Name=BPY2B;biotype=pro...   \n",
            "21504  ID=gene:ENSG00000187191;Name=DAZ3;biotype=prot...   \n",
            "21505  ID=gene:ENSG00000205916;Name=DAZ4;biotype=prot...   \n",
            "21506  ID=gene:ENSG00000185894;Name=BPY2C;biotype=pro...   \n",
            "21507  ID=gene:ENSG00000172288;Name=CDY1;biotype=prot...   \n",
            "\n",
            "                         id    name         biotype  \\\n",
            "1      gene:ENSG00000186092   OR4F5  protein_coding   \n",
            "2      gene:ENSG00000284733  OR4F29  protein_coding   \n",
            "3      gene:ENSG00000284662  OR4F16  protein_coding   \n",
            "4      gene:ENSG00000187634  SAMD11  protein_coding   \n",
            "5      gene:ENSG00000188976   NOC2L  protein_coding   \n",
            "...                     ...     ...             ...   \n",
            "21503  gene:ENSG00000183795   BPY2B  protein_coding   \n",
            "21504  gene:ENSG00000187191    DAZ3  protein_coding   \n",
            "21505  gene:ENSG00000205916    DAZ4  protein_coding   \n",
            "21506  gene:ENSG00000185894   BPY2C  protein_coding   \n",
            "21507  gene:ENSG00000172288    CDY1  protein_coding   \n",
            "\n",
            "                                             description          gene_id  \\\n",
            "1      olfactory receptor family 4 subfamily F member...  ENSG00000186092   \n",
            "2      olfactory receptor family 4 subfamily F member...  ENSG00000284733   \n",
            "3      olfactory receptor family 4 subfamily F member...  ENSG00000284662   \n",
            "4      sterile alpha motif domain containing 11 [Sour...  ENSG00000187634   \n",
            "5      NOC2 like nucleolar associated transcriptional...  ENSG00000188976   \n",
            "...                                                  ...              ...   \n",
            "21503  basic charge Y-linked 2B [Source:HGNC Symbol%3...  ENSG00000183795   \n",
            "21504  deleted in azoospermia 3 [Source:HGNC Symbol%3...  ENSG00000187191   \n",
            "21505  deleted in azoospermia 4 [Source:HGNC Symbol%3...  ENSG00000205916   \n",
            "21506  basic charge Y-linked 2C [Source:HGNC Symbol%3...  ENSG00000185894   \n",
            "21507  chromodomain Y-linked 1 [Source:HGNC Symbol%3B...  ENSG00000172288   \n",
            "\n",
            "                             logic_name version  length  \n",
            "1      ensembl_havana_gene_homo_sapiens       7    6167  \n",
            "2      ensembl_havana_gene_homo_sapiens       2     939  \n",
            "3      ensembl_havana_gene_homo_sapiens       2     939  \n",
            "4      ensembl_havana_gene_homo_sapiens      13   20653  \n",
            "5      ensembl_havana_gene_homo_sapiens      11   15107  \n",
            "...                                 ...     ...     ...  \n",
            "21503  ensembl_havana_gene_homo_sapiens       8   31648  \n",
            "21504  ensembl_havana_gene_homo_sapiens      16   50424  \n",
            "21505  ensembl_havana_gene_homo_sapiens      12   73198  \n",
            "21506  ensembl_havana_gene_homo_sapiens       8   31648  \n",
            "21507  ensembl_havana_gene_homo_sapiens       8    2786  \n",
            "\n",
            "[21507 rows x 17 columns]\n"
          ]
        }
      ]
    },
    {
      "cell_type": "code",
      "source": [
        "# Case 3: \"ncRNA_gene\" only\n",
        "stats_ncRNA_gene, df_ncRNA_gene = gene_stats(hg38gff, [\"ncRNA_gene\"])"
      ],
      "metadata": {
        "colab": {
          "base_uri": "https://localhost:8080/"
        },
        "id": "_5RAKpQNwpkK",
        "outputId": "c616e88b-6e20-47e2-e4cb-392118a32df8"
      },
      "execution_count": null,
      "outputs": [
        {
          "output_type": "stream",
          "name": "stdout",
          "text": [
            "Inside foo()\n"
          ]
        },
        {
          "output_type": "stream",
          "name": "stderr",
          "text": [
            "/usr/local/lib/python3.10/dist-packages/gffpandas/gffpandas.py:32: DtypeWarning: Columns (0) have mixed types. Specify dtype option on import or set low_memory=False.\n",
            "  self.df = pd.read_table(self._gff_file, comment='#',\n"
          ]
        },
        {
          "output_type": "stream",
          "name": "stdout",
          "text": [
            "The following types is/are used for stats: ['ncRNA_gene']\n",
            "Counts of each feature type are:\n",
            "ncRNA_gene    25925\n",
            "The shortest gene feature length is: [41] with the type: [ncRNA_gene] and the ID: [ENSG00000263526]\n",
            "The longest gene feature length is: [1375317] with the type: [ncRNA_gene] and the ID: [ENSG00000231918]\n",
            "The average length for gene feature is: [22978.791398264224]\n"
          ]
        }
      ]
    },
    {
      "cell_type": "code",
      "source": [
        "# Case 4: \"pseudogene\" only\n",
        "stats_pseudogene, df_pseudogene = gene_stats(hg38gff, [\"pseudogene\"])"
      ],
      "metadata": {
        "colab": {
          "base_uri": "https://localhost:8080/"
        },
        "id": "mpvc3faWwpb1",
        "outputId": "f3076b6f-d3fb-4c0e-9a35-b26ba207c215"
      },
      "execution_count": null,
      "outputs": [
        {
          "output_type": "stream",
          "name": "stdout",
          "text": [
            "Inside foo()\n"
          ]
        },
        {
          "output_type": "stream",
          "name": "stderr",
          "text": [
            "/usr/local/lib/python3.10/dist-packages/gffpandas/gffpandas.py:32: DtypeWarning: Columns (0) have mixed types. Specify dtype option on import or set low_memory=False.\n",
            "  self.df = pd.read_table(self._gff_file, comment='#',\n"
          ]
        },
        {
          "output_type": "stream",
          "name": "stdout",
          "text": [
            "The following types is/are used for stats: ['pseudogene']\n",
            "Counts of each feature type are:\n",
            "pseudogene    15224\n",
            "The shortest gene feature length is: [23] with the type: [pseudogene] and the ID: [ENSG00000271544]\n",
            "The longest gene feature length is: [909387] with the type: [pseudogene] and the ID: [ENSG00000286215]\n",
            "The average length for gene feature is: [3410.8535864424593]\n"
          ]
        }
      ]
    },
    {
      "cell_type": "markdown",
      "source": [
        "The shortest gene length is 8. Validated through Ensembl and NCBI;\n",
        "\n",
        "T cell receptor delta diversity 1 (TRDD1)\n"
      ],
      "metadata": {
        "id": "GXk6REpY0cCs"
      }
    },
    {
      "cell_type": "markdown",
      "source": [
        "[Step 3.4]: Save data in CSV or excel"
      ],
      "metadata": {
        "id": "j5GK5sIhYYRD"
      }
    },
    {
      "cell_type": "code",
      "source": [
        "df_all.to_csv(\"gff_genef_all.csv\")\n",
        "df_gene.to_csv(\"gff_genef_gene.csv\")\n",
        "df_ncRNA_gene.to_csv(\"gff_genef_ncRNA.csv\")\n",
        "df_pseudogene.to_csv(\"gff_genef_pseudo.csv\")\n"
      ],
      "metadata": {
        "id": "E-f_hjB_ZAHc"
      },
      "execution_count": null,
      "outputs": []
    },
    {
      "cell_type": "code",
      "source": [
        "!ls -al"
      ],
      "metadata": {
        "colab": {
          "base_uri": "https://localhost:8080/"
        },
        "id": "YXxPcC_cZV3e",
        "outputId": "f47c95f6-36f8-4823-c8f4-37a5fef8e4f5"
      },
      "execution_count": null,
      "outputs": [
        {
          "output_type": "stream",
          "name": "stdout",
          "text": [
            "total 104280\n",
            "drwxr-xr-x 1 root root     4096 Jun  8 22:25 .\n",
            "drwxr-xr-x 1 root root     4096 Jun  8 21:55 ..\n",
            "drwxr-xr-x 4 root root     4096 Jun  7 17:43 .config\n",
            "drwx------ 6 root root     4096 Jun  8 22:05 drive\n",
            "-rw-r--r-- 1 root root 24399122 Jun  8 22:25 gff_fgene_all.csv\n",
            "-rw-r--r-- 1 root root  9195156 Jun  8 22:25 gff_fgene_gene.csv\n",
            "-rw-r--r-- 1 root root  8791298 Jun  8 22:25 gff_fgene_ncRNA.csv\n",
            "-rw-r--r-- 1 root root  6390700 Jun  8 22:25 gff_fgene_pseudo.csv\n",
            "-rw-r--r-- 1 root root 24399122 Jun  8 22:23 gff_gene_all.csv\n",
            "-rw-r--r-- 1 root root  9195156 Jun  8 22:24 gff_gene_gene.csv\n",
            "-rw-r--r-- 1 root root  8791298 Jun  8 22:24 gff_gene_ncRNA.csv\n",
            "-rw-r--r-- 1 root root  9195156 Jun  8 22:23 gff_gene_only.csv\n",
            "-rw-r--r-- 1 root root  6390700 Jun  8 22:24 gff_gene_pseudo.csv\n",
            "drwxr-xr-x 1 root root     4096 Jun  7 17:44 sample_data\n"
          ]
        }
      ]
    },
    {
      "cell_type": "code",
      "source": [
        "df_all.to_csv(\"/content/drive/My Drive/Lab_share/Lab_member/SophiaBick/HughesIntern/gff_genef_all.csv\")\n",
        "df_gene.to_csv(\"/content/drive/My Drive/Lab_share/Lab_member/SophiaBick/HughesIntern/gff_genef_gene.csv\")\n",
        "df_ncRNA_gene.to_csv(\"/content/drive/My Drive/Lab_share/Lab_member/SophiaBick/HughesIntern/gff_genef_ncRNA.csv\")\n",
        "df_pseudogene.to_csv(\"/content/drive/My Drive/Lab_share/Lab_member/SophiaBick/HughesIntern/gff_genef_pseudo.csv\")"
      ],
      "metadata": {
        "id": "_8mnX8B_aQmF"
      },
      "execution_count": null,
      "outputs": []
    }
  ]
}
